{
  "nbformat": 4,
  "nbformat_minor": 0,
  "metadata": {
    "colab": {
      "provenance": []
    },
    "kernelspec": {
      "name": "python3",
      "display_name": "Python 3"
    },
    "language_info": {
      "name": "python"
    }
  },
  "cells": [
    {
      "cell_type": "code",
      "source": [
        "import numpy as np\n",
        "\n",
        "class Value:\n",
        "  \n",
        "  def __init__(self, data, _children=(), _op='', label=''):\n",
        "    # Convert data to a NumPy array\n",
        "    if isinstance(data, np.ndarray):\n",
        "      self.data = data\n",
        "    else:\n",
        "      self.data = np.array(data)\n",
        "      \n",
        "    # Initialize the gradient as an array of zeros with the same shape as the data\n",
        "    self.grad = np.zeros_like(self.data)\n",
        "    \n",
        "    # Placeholder for the backward function\n",
        "    self._backward = lambda: None\n",
        "    \n",
        "    # Set of previous nodes (parents)\n",
        "    self._prev = set(_children)\n",
        "    \n",
        "    # Operation associated with the current node\n",
        "    self._op = _op\n",
        "    \n",
        "    # Optional label for the node\n",
        "    self.label = label\n",
        "\n",
        "  \n",
        "  def __add__(self, other):\n",
        "    # Convert other to a Value if it is not already\n",
        "    other = other if isinstance(other, Value) else Value(other)\n",
        "    \n",
        "    # Create a new Value instance representing the addition operation\n",
        "    out = Value(self.data + other.data, (self, other), '+')\n",
        "\n",
        "    def _backward():\n",
        "      # Calculate the gradients using the chain rule and update the gradients of the operands\n",
        "      self.grad = self.grad + np.multiply(1.0, out.grad)\n",
        "      other.grad = other.grad + np.multiply(1.0, out.grad)\n",
        "\n",
        "    # Assign the backward function to the new Value instance\n",
        "    out._backward = _backward\n",
        "    return out\n",
        "\n",
        "\n",
        "  def __mul__(self, other):\n",
        "    # Convert other to a Value if it is not already\n",
        "    other = other if isinstance(other, Value) else Value(other)\n",
        "    \n",
        "    # Create a new Value instance representing the multiplication operation\n",
        "    out = Value(self.data * other.data, (self, other), '*')\n",
        "\n",
        "    def _backward():\n",
        "      # Calculate the gradients using the chain rule and update the gradients of the operands\n",
        "      self.grad = self.grad + np.multiply(other.data, out.grad)\n",
        "      other.grad = other.grad + np.multiply(self.data, out.grad)\n",
        "\n",
        "    # Assign the backward function to the new Value instance\n",
        "    out._backward = _backward\n",
        "    return out\n",
        "\n",
        "\n",
        "  def __pow__(self, other):\n",
        "    if isinstance(other, (int, float)):\n",
        "      # If the exponent is a scalar, perform element-wise power operation\n",
        "      out_data = np.power(self.data, other)\n",
        "      out = Value(out_data, (self,), f'**{other}')\n",
        "\n",
        "      def _backward():\n",
        "        # Calculate the gradients using the chain rule and update the gradients of the operand\n",
        "        self.grad += other * np.power(self.data, other - 1) * out.grad\n",
        "\n",
        "      out._backward = _backward\n",
        "      return out\n",
        "    elif isinstance(other, Value):\n",
        "      # If the exponent is a Value instance, perform element-wise power operation\n",
        "      out_data = np.power(self.data, other.data)\n",
        "      out = Value(out_data, (self, other), f'**')\n",
        "\n",
        "      def _backward():\n",
        "        # Calculate the gradients using the chain rule and update the gradients of the operands\n",
        "        self.grad += other.data * np.power(self.data, other.data - 1) * out.grad\n",
        "        other.grad += np.log(self.data) * out.grad\n",
        "\n",
        "      out._backward = _backward\n",
        "      return out\n",
        "    else:\n",
        "      raise TypeError(\"Unsupported operand type(s) for **: 'Value' and '{}'\".format(type(other).__name__))\n",
        "\n",
        "  def __radd__(self, other):\n",
        "    # Perform right addition by a scalar or Value instance\n",
        "    return self + other\n",
        "\n",
        "  def __rmul__(self, other):\n",
        "    # Perform right multiplication by a scalar or Value instance\n",
        "    return self * other\n",
        "\n",
        "\n",
        "  def __truediv__(self, other):\n",
        "    # Perform true division by a scalar or Value instance\n",
        "    return self * other**-1\n",
        "\n",
        "\n",
        "  def __neg__(self):\n",
        "    # Perform negation of the Value instance\n",
        "    return self * -1\n",
        "\n",
        "\n",
        "  def __sub__(self, other):\n",
        "    # Perform subtraction of a Value instance\n",
        "    return self + (-other)\n",
        "\n",
        "\n",
        "  def exp(self):\n",
        "    # Compute the element-wise exponential of the Value instance\n",
        "    x = self.data\n",
        "    out = Value(np.exp(x), (self, ), 'exp')\n",
        "\n",
        "    def _backward():\n",
        "        # Calculate the gradients using the chain rule\n",
        "        self.grad += out.data * out.grad\n",
        "\n",
        "    # Assign the backward function to the new Value instance\n",
        "    out._backward = _backward\n",
        "    return out\n",
        "\n",
        "\n",
        "  def tanh(self):\n",
        "    # Compute the element-wise hyperbolic tangent of the Value instance\n",
        "    x = self.data\n",
        "    t = np.tanh(x)\n",
        "    out = Value(t, (self, ), 'tanh')\n",
        "\n",
        "    def _backward():\n",
        "        # Calculate the gradients using the chain rule\n",
        "        self.grad += (1 - t**2) * out.grad\n",
        "\n",
        "    # Assign the backward function to the new Value instance\n",
        "    out._backward = _backward\n",
        "    return out\n",
        "\n",
        "\n",
        "  def backward(self):\n",
        "    # Perform backpropagation to compute gradients\n",
        "    topo = []\n",
        "    visited = set()\n",
        "\n",
        "    def build_topo(v):\n",
        "        if v not in visited:\n",
        "            visited.add(v)\n",
        "            for child in v._prev:\n",
        "                build_topo(child)\n",
        "            topo.append(v)\n",
        "\n",
        "    # Build the topological order of nodes\n",
        "    build_topo(self)\n",
        "\n",
        "    # Set the gradient of the output to ones (assuming scalar loss)\n",
        "    self.grad = np.ones_like(self.data)\n",
        "\n",
        "    # Perform backward pass through the nodes in reverse topological order\n",
        "    for node in reversed(topo):\n",
        "        node._backward()\n",
        "\n",
        "\n",
        "  def __repr__(self):\n",
        "    # String representation of the Value instance\n",
        "    return f\"Value(data={self.data})\""
      ],
      "metadata": {
        "id": "V1WaNmBccejW"
      },
      "execution_count": 1,
      "outputs": []
    },
    {
      "cell_type": "code",
      "source": [
        "from graphviz import Digraph\n",
        "\n",
        "def trace(root):\n",
        "    # Initialize empty sets for nodes and edges\n",
        "    nodes, edges = set(), set()\n",
        "\n",
        "    # Recursive function to build the set of nodes and edges\n",
        "    def build(v):\n",
        "        # If the current node is not in the set of nodes\n",
        "        if v not in nodes:\n",
        "            # Add the current node to the set of nodes\n",
        "            nodes.add(v)\n",
        "            \n",
        "            # Iterate over the previous nodes (parents) of the current node\n",
        "            for child in v._prev:\n",
        "                # Add an edge from the previous node to the current node\n",
        "                edges.add((child, v))\n",
        "                \n",
        "                # Recursively call build() on the previous node\n",
        "                build(child)\n",
        "\n",
        "    # Start building the set of nodes and edges from the root node\n",
        "    build(root)\n",
        "\n",
        "    # Return the set of nodes and edges\n",
        "    return nodes, edges\n",
        "\n",
        "def draw_dot(root):\n",
        "    # Create a Digraph object with SVG format and set the graph attribute 'rankdir' to 'LR'\n",
        "    dot = Digraph(format='svg', graph_attr={'rankdir': 'LR'})\n",
        "\n",
        "    # Retrieve the nodes and edges from the root\n",
        "    nodes, edges = trace(root)\n",
        "\n",
        "    # Iterate over the nodes\n",
        "    for n in nodes:\n",
        "        uid = str(id(n))\n",
        "        # Convert the data array to a string representation\n",
        "        data_str = np.array2string(n.data, precision=4, separator=',', suppress_small=True)\n",
        "        # Convert the gradient array to a string representation\n",
        "        grad_str = np.array2string(n.grad, precision=4, separator=',', suppress_small=True)\n",
        "        # Create the label for the node using the node's label, data, and gradient strings\n",
        "        label = \"{ %s | data %s | grad %s }\" % (n.label, data_str, grad_str)\n",
        "        # Add a node to the graph with a unique ID, label, and shape 'record'\n",
        "        dot.node(name=uid, label=label, shape='record')\n",
        "        \n",
        "        # If the node has an operation associated with it\n",
        "        if n._op:\n",
        "            # Add a node to the graph with a unique ID based on the node's ID and operation, and label it with the operation\n",
        "            dot.node(name=uid + n._op, label=n._op)\n",
        "            # Add an edge from the operation node to the current node\n",
        "            dot.edge(uid + n._op, uid)\n",
        "\n",
        "    # Iterate over the edges\n",
        "    for n1, n2 in edges:\n",
        "        # Add an edge from the first node's ID to the second node's ID concatenated with the operation name\n",
        "        dot.edge(str(id(n1)), str(id(n2)) + n2._op)\n",
        "\n",
        "    # Return the generated graph\n",
        "    return dot"
      ],
      "metadata": {
        "id": "fd168_ch2LSO"
      },
      "execution_count": 2,
      "outputs": []
    },
    {
      "cell_type": "code",
      "source": [
        "# constructing and visualizing the computation graph for a simple neural network forward pass\n",
        "\n",
        "# inputs x1, x2\n",
        "x1 = Value([2.0, 2.0], label=\"x1\")\n",
        "x2 = Value([0.0, 0.0], label=\"x2\")\n",
        "\n",
        "# weights w1, w2\n",
        "w1 = Value([-3.0, -3.0], label=\"w1\")\n",
        "w2 = Value([1.0, 1.0], label=\"w2\")\n",
        "\n",
        "# bias of the neurons\n",
        "b = Value([6.8813735870195432, 6.8813735870195432], label=\"b\")\n",
        "\n",
        "# x1*w1 + x2*w2 + b\n",
        "x1w1 = x1*w1; x1w1.label = 'x1*w1'\n",
        "x2w2 = x2*w2; x2w2.label = 'x2*w2'\n",
        "x1w1x2w2 = x1w1 + x2w2; x1w1x2w2.label = 'x1w1 + x2w2'\n",
        "n = x1w1x2w2 + b; n.label = 'n'\n",
        "\n",
        "# apply the hyperbolic tangent function to n\n",
        "o = n.tanh(); o.label = 'o'\n",
        "\n",
        "# visualize the computation graph\n",
        "draw_dot(o)"
      ],
      "metadata": {
        "colab": {
          "base_uri": "https://localhost:8080/",
          "height": 321
        },
        "id": "A4-4na2ILMAh",
        "outputId": "ad457917-5b86-498e-c59e-e1709ab6130a"
      },
      "execution_count": 3,
      "outputs": [
        {
          "output_type": "execute_result",
          "data": {
            "image/svg+xml": "<?xml version=\"1.0\" encoding=\"UTF-8\" standalone=\"no\"?>\n<!DOCTYPE svg PUBLIC \"-//W3C//DTD SVG 1.1//EN\"\n \"http://www.w3.org/Graphics/SVG/1.1/DTD/svg11.dtd\">\n<!-- Generated by graphviz version 2.43.0 (0)\n -->\n<!-- Title: %3 Pages: 1 -->\n<svg width=\"1646pt\" height=\"210pt\"\n viewBox=\"0.00 0.00 1646.00 210.00\" xmlns=\"http://www.w3.org/2000/svg\" xmlns:xlink=\"http://www.w3.org/1999/xlink\">\n<g id=\"graph0\" class=\"graph\" transform=\"scale(1 1) rotate(0) translate(4 206)\">\n<title>%3</title>\n<polygon fill=\"white\" stroke=\"transparent\" points=\"-4,4 -4,-206 1642,-206 1642,4 -4,4\"/>\n<!-- 140652662537760 -->\n<g id=\"node1\" class=\"node\">\n<title>140652662537760</title>\n<polygon fill=\"none\" stroke=\"black\" points=\"666,-82.5 666,-118.5 922,-118.5 922,-82.5 666,-82.5\"/>\n<text text-anchor=\"middle\" x=\"712\" y=\"-96.8\" font-family=\"Times,serif\" font-size=\"14.00\">x1w1 + x2w2</text>\n<polyline fill=\"none\" stroke=\"black\" points=\"758,-82.5 758,-118.5 \"/>\n<text text-anchor=\"middle\" x=\"801\" y=\"-96.8\" font-family=\"Times,serif\" font-size=\"14.00\">data [&#45;6.,&#45;6.]</text>\n<polyline fill=\"none\" stroke=\"black\" points=\"844,-82.5 844,-118.5 \"/>\n<text text-anchor=\"middle\" x=\"883\" y=\"-96.8\" font-family=\"Times,serif\" font-size=\"14.00\">grad [0.,0.]</text>\n</g>\n<!-- 140652662532576+ -->\n<g id=\"node15\" class=\"node\">\n<title>140652662532576+</title>\n<ellipse fill=\"none\" stroke=\"black\" cx=\"985\" cy=\"-127.5\" rx=\"27\" ry=\"18\"/>\n<text text-anchor=\"middle\" x=\"985\" y=\"-123.8\" font-family=\"Times,serif\" font-size=\"14.00\">+</text>\n</g>\n<!-- 140652662537760&#45;&gt;140652662532576+ -->\n<g id=\"edge12\" class=\"edge\">\n<title>140652662537760&#45;&gt;140652662532576+</title>\n<path fill=\"none\" stroke=\"black\" d=\"M921.07,-118.51C930.87,-119.91 940.17,-121.24 948.46,-122.42\"/>\n<polygon fill=\"black\" stroke=\"black\" points=\"947.98,-125.89 958.38,-123.84 948.97,-118.96 947.98,-125.89\"/>\n</g>\n<!-- 140652662537760+ -->\n<g id=\"node2\" class=\"node\">\n<title>140652662537760+</title>\n<ellipse fill=\"none\" stroke=\"black\" cx=\"603\" cy=\"-100.5\" rx=\"27\" ry=\"18\"/>\n<text text-anchor=\"middle\" x=\"603\" y=\"-96.8\" font-family=\"Times,serif\" font-size=\"14.00\">+</text>\n</g>\n<!-- 140652662537760+&#45;&gt;140652662537760 -->\n<g id=\"edge1\" class=\"edge\">\n<title>140652662537760+&#45;&gt;140652662537760</title>\n<path fill=\"none\" stroke=\"black\" d=\"M630.28,-100.5C637.73,-100.5 646.4,-100.5 655.77,-100.5\"/>\n<polygon fill=\"black\" stroke=\"black\" points=\"655.78,-104 665.78,-100.5 655.78,-97 655.78,-104\"/>\n</g>\n<!-- 140652662524560 -->\n<g id=\"node3\" class=\"node\">\n<title>140652662524560</title>\n<polygon fill=\"none\" stroke=\"black\" points=\"327.5,-110.5 327.5,-146.5 535.5,-146.5 535.5,-110.5 327.5,-110.5\"/>\n<text text-anchor=\"middle\" x=\"354\" y=\"-124.8\" font-family=\"Times,serif\" font-size=\"14.00\">x2*w2</text>\n<polyline fill=\"none\" stroke=\"black\" points=\"380.5,-110.5 380.5,-146.5 \"/>\n<text text-anchor=\"middle\" x=\"419\" y=\"-124.8\" font-family=\"Times,serif\" font-size=\"14.00\">data [0.,0.]</text>\n<polyline fill=\"none\" stroke=\"black\" points=\"457.5,-110.5 457.5,-146.5 \"/>\n<text text-anchor=\"middle\" x=\"496.5\" y=\"-124.8\" font-family=\"Times,serif\" font-size=\"14.00\">grad [0.,0.]</text>\n</g>\n<!-- 140652662524560&#45;&gt;140652662537760+ -->\n<g id=\"edge10\" class=\"edge\">\n<title>140652662524560&#45;&gt;140652662537760+</title>\n<path fill=\"none\" stroke=\"black\" d=\"M535.98,-111.41C546.9,-109.6 557.38,-107.87 566.65,-106.34\"/>\n<polygon fill=\"black\" stroke=\"black\" points=\"567.26,-109.79 576.56,-104.7 566.12,-102.88 567.26,-109.79\"/>\n</g>\n<!-- 140652662524560* -->\n<g id=\"node4\" class=\"node\">\n<title>140652662524560*</title>\n<ellipse fill=\"none\" stroke=\"black\" cx=\"260\" cy=\"-128.5\" rx=\"27\" ry=\"18\"/>\n<text text-anchor=\"middle\" x=\"260\" y=\"-124.8\" font-family=\"Times,serif\" font-size=\"14.00\">*</text>\n</g>\n<!-- 140652662524560*&#45;&gt;140652662524560 -->\n<g id=\"edge2\" class=\"edge\">\n<title>140652662524560*&#45;&gt;140652662524560</title>\n<path fill=\"none\" stroke=\"black\" d=\"M287.11,-128.5C295.79,-128.5 306.07,-128.5 317.08,-128.5\"/>\n<polygon fill=\"black\" stroke=\"black\" points=\"317.38,-132 327.38,-128.5 317.38,-125 317.38,-132\"/>\n</g>\n<!-- 140652662534304 -->\n<g id=\"node5\" class=\"node\">\n<title>140652662534304</title>\n<polygon fill=\"none\" stroke=\"black\" points=\"6,-165.5 6,-201.5 191,-201.5 191,-165.5 6,-165.5\"/>\n<text text-anchor=\"middle\" x=\"21\" y=\"-179.8\" font-family=\"Times,serif\" font-size=\"14.00\">x2</text>\n<polyline fill=\"none\" stroke=\"black\" points=\"36,-165.5 36,-201.5 \"/>\n<text text-anchor=\"middle\" x=\"74.5\" y=\"-179.8\" font-family=\"Times,serif\" font-size=\"14.00\">data [0.,0.]</text>\n<polyline fill=\"none\" stroke=\"black\" points=\"113,-165.5 113,-201.5 \"/>\n<text text-anchor=\"middle\" x=\"152\" y=\"-179.8\" font-family=\"Times,serif\" font-size=\"14.00\">grad [0.,0.]</text>\n</g>\n<!-- 140652662534304&#45;&gt;140652662524560* -->\n<g id=\"edge7\" class=\"edge\">\n<title>140652662534304&#45;&gt;140652662524560*</title>\n<path fill=\"none\" stroke=\"black\" d=\"M169.68,-165.47C178.94,-162.68 188.25,-159.67 197,-156.5 207.52,-152.69 218.74,-147.87 228.71,-143.3\"/>\n<polygon fill=\"black\" stroke=\"black\" points=\"230.24,-146.45 237.82,-139.05 227.27,-140.11 230.24,-146.45\"/>\n</g>\n<!-- 140652662528208 -->\n<g id=\"node6\" class=\"node\">\n<title>140652662528208</title>\n<polygon fill=\"none\" stroke=\"black\" points=\"678,-137.5 678,-173.5 910,-173.5 910,-137.5 678,-137.5\"/>\n<text text-anchor=\"middle\" x=\"689.5\" y=\"-151.8\" font-family=\"Times,serif\" font-size=\"14.00\">b</text>\n<polyline fill=\"none\" stroke=\"black\" points=\"701,-137.5 701,-173.5 \"/>\n<text text-anchor=\"middle\" x=\"766.5\" y=\"-151.8\" font-family=\"Times,serif\" font-size=\"14.00\">data [6.8814,6.8814]</text>\n<polyline fill=\"none\" stroke=\"black\" points=\"832,-137.5 832,-173.5 \"/>\n<text text-anchor=\"middle\" x=\"871\" y=\"-151.8\" font-family=\"Times,serif\" font-size=\"14.00\">grad [0.,0.]</text>\n</g>\n<!-- 140652662528208&#45;&gt;140652662532576+ -->\n<g id=\"edge13\" class=\"edge\">\n<title>140652662528208&#45;&gt;140652662532576+</title>\n<path fill=\"none\" stroke=\"black\" d=\"M910.12,-138.45C923.9,-136.4 937.07,-134.45 948.37,-132.78\"/>\n<polygon fill=\"black\" stroke=\"black\" points=\"949.22,-136.19 958.59,-131.26 948.19,-129.27 949.22,-136.19\"/>\n</g>\n<!-- 140652662536944 -->\n<g id=\"node7\" class=\"node\">\n<title>140652662536944</title>\n<polygon fill=\"none\" stroke=\"black\" points=\"1406,-109.5 1406,-145.5 1638,-145.5 1638,-109.5 1406,-109.5\"/>\n<text text-anchor=\"middle\" x=\"1417.5\" y=\"-123.8\" font-family=\"Times,serif\" font-size=\"14.00\">o</text>\n<polyline fill=\"none\" stroke=\"black\" points=\"1429,-109.5 1429,-145.5 \"/>\n<text text-anchor=\"middle\" x=\"1494.5\" y=\"-123.8\" font-family=\"Times,serif\" font-size=\"14.00\">data [0.7071,0.7071]</text>\n<polyline fill=\"none\" stroke=\"black\" points=\"1560,-109.5 1560,-145.5 \"/>\n<text text-anchor=\"middle\" x=\"1599\" y=\"-123.8\" font-family=\"Times,serif\" font-size=\"14.00\">grad [0.,0.]</text>\n</g>\n<!-- 140652662536944tanh -->\n<g id=\"node8\" class=\"node\">\n<title>140652662536944tanh</title>\n<ellipse fill=\"none\" stroke=\"black\" cx=\"1343\" cy=\"-127.5\" rx=\"27\" ry=\"18\"/>\n<text text-anchor=\"middle\" x=\"1343\" y=\"-123.8\" font-family=\"Times,serif\" font-size=\"14.00\">tanh</text>\n</g>\n<!-- 140652662536944tanh&#45;&gt;140652662536944 -->\n<g id=\"edge3\" class=\"edge\">\n<title>140652662536944tanh&#45;&gt;140652662536944</title>\n<path fill=\"none\" stroke=\"black\" d=\"M1370.12,-127.5C1377.53,-127.5 1386.14,-127.5 1395.4,-127.5\"/>\n<polygon fill=\"black\" stroke=\"black\" points=\"1395.69,-131 1405.69,-127.5 1395.69,-124 1395.69,-131\"/>\n</g>\n<!-- 140652662534976 -->\n<g id=\"node9\" class=\"node\">\n<title>140652662534976</title>\n<polygon fill=\"none\" stroke=\"black\" points=\"323,-55.5 323,-91.5 540,-91.5 540,-55.5 323,-55.5\"/>\n<text text-anchor=\"middle\" x=\"349.5\" y=\"-69.8\" font-family=\"Times,serif\" font-size=\"14.00\">x1*w1</text>\n<polyline fill=\"none\" stroke=\"black\" points=\"376,-55.5 376,-91.5 \"/>\n<text text-anchor=\"middle\" x=\"419\" y=\"-69.8\" font-family=\"Times,serif\" font-size=\"14.00\">data [&#45;6.,&#45;6.]</text>\n<polyline fill=\"none\" stroke=\"black\" points=\"462,-55.5 462,-91.5 \"/>\n<text text-anchor=\"middle\" x=\"501\" y=\"-69.8\" font-family=\"Times,serif\" font-size=\"14.00\">grad [0.,0.]</text>\n</g>\n<!-- 140652662534976&#45;&gt;140652662537760+ -->\n<g id=\"edge9\" class=\"edge\">\n<title>140652662534976&#45;&gt;140652662537760+</title>\n<path fill=\"none\" stroke=\"black\" d=\"M540.33,-90.68C549.68,-92.17 558.63,-93.59 566.66,-94.87\"/>\n<polygon fill=\"black\" stroke=\"black\" points=\"566.23,-98.35 576.66,-96.46 567.33,-91.43 566.23,-98.35\"/>\n</g>\n<!-- 140652662534976* -->\n<g id=\"node10\" class=\"node\">\n<title>140652662534976*</title>\n<ellipse fill=\"none\" stroke=\"black\" cx=\"260\" cy=\"-73.5\" rx=\"27\" ry=\"18\"/>\n<text text-anchor=\"middle\" x=\"260\" y=\"-69.8\" font-family=\"Times,serif\" font-size=\"14.00\">*</text>\n</g>\n<!-- 140652662534976*&#45;&gt;140652662534976 -->\n<g id=\"edge4\" class=\"edge\">\n<title>140652662534976*&#45;&gt;140652662534976</title>\n<path fill=\"none\" stroke=\"black\" d=\"M287.11,-73.5C294.55,-73.5 303.16,-73.5 312.4,-73.5\"/>\n<polygon fill=\"black\" stroke=\"black\" points=\"312.66,-77 322.66,-73.5 312.66,-70 312.66,-77\"/>\n</g>\n<!-- 140652662528880 -->\n<g id=\"node11\" class=\"node\">\n<title>140652662528880</title>\n<polygon fill=\"none\" stroke=\"black\" points=\"4.5,-110.5 4.5,-146.5 192.5,-146.5 192.5,-110.5 4.5,-110.5\"/>\n<text text-anchor=\"middle\" x=\"21\" y=\"-124.8\" font-family=\"Times,serif\" font-size=\"14.00\">w2</text>\n<polyline fill=\"none\" stroke=\"black\" points=\"37.5,-110.5 37.5,-146.5 \"/>\n<text text-anchor=\"middle\" x=\"76\" y=\"-124.8\" font-family=\"Times,serif\" font-size=\"14.00\">data [1.,1.]</text>\n<polyline fill=\"none\" stroke=\"black\" points=\"114.5,-110.5 114.5,-146.5 \"/>\n<text text-anchor=\"middle\" x=\"153.5\" y=\"-124.8\" font-family=\"Times,serif\" font-size=\"14.00\">grad [0.,0.]</text>\n</g>\n<!-- 140652662528880&#45;&gt;140652662524560* -->\n<g id=\"edge14\" class=\"edge\">\n<title>140652662528880&#45;&gt;140652662524560*</title>\n<path fill=\"none\" stroke=\"black\" d=\"M192.74,-128.5C203.33,-128.5 213.58,-128.5 222.74,-128.5\"/>\n<polygon fill=\"black\" stroke=\"black\" points=\"222.94,-132 232.94,-128.5 222.94,-125 222.94,-132\"/>\n</g>\n<!-- 140652662528928 -->\n<g id=\"node12\" class=\"node\">\n<title>140652662528928</title>\n<polygon fill=\"none\" stroke=\"black\" points=\"6,-55.5 6,-91.5 191,-91.5 191,-55.5 6,-55.5\"/>\n<text text-anchor=\"middle\" x=\"21\" y=\"-69.8\" font-family=\"Times,serif\" font-size=\"14.00\">x1</text>\n<polyline fill=\"none\" stroke=\"black\" points=\"36,-55.5 36,-91.5 \"/>\n<text text-anchor=\"middle\" x=\"74.5\" y=\"-69.8\" font-family=\"Times,serif\" font-size=\"14.00\">data [2.,2.]</text>\n<polyline fill=\"none\" stroke=\"black\" points=\"113,-55.5 113,-91.5 \"/>\n<text text-anchor=\"middle\" x=\"152\" y=\"-69.8\" font-family=\"Times,serif\" font-size=\"14.00\">grad [0.,0.]</text>\n</g>\n<!-- 140652662528928&#45;&gt;140652662534976* -->\n<g id=\"edge8\" class=\"edge\">\n<title>140652662528928&#45;&gt;140652662534976*</title>\n<path fill=\"none\" stroke=\"black\" d=\"M191.36,-73.5C202.43,-73.5 213.18,-73.5 222.73,-73.5\"/>\n<polygon fill=\"black\" stroke=\"black\" points=\"222.96,-77 232.96,-73.5 222.96,-70 222.96,-77\"/>\n</g>\n<!-- 140652662526384 -->\n<g id=\"node13\" class=\"node\">\n<title>140652662526384</title>\n<polygon fill=\"none\" stroke=\"black\" points=\"0,-0.5 0,-36.5 197,-36.5 197,-0.5 0,-0.5\"/>\n<text text-anchor=\"middle\" x=\"16.5\" y=\"-14.8\" font-family=\"Times,serif\" font-size=\"14.00\">w1</text>\n<polyline fill=\"none\" stroke=\"black\" points=\"33,-0.5 33,-36.5 \"/>\n<text text-anchor=\"middle\" x=\"76\" y=\"-14.8\" font-family=\"Times,serif\" font-size=\"14.00\">data [&#45;3.,&#45;3.]</text>\n<polyline fill=\"none\" stroke=\"black\" points=\"119,-0.5 119,-36.5 \"/>\n<text text-anchor=\"middle\" x=\"158\" y=\"-14.8\" font-family=\"Times,serif\" font-size=\"14.00\">grad [0.,0.]</text>\n</g>\n<!-- 140652662526384&#45;&gt;140652662534976* -->\n<g id=\"edge11\" class=\"edge\">\n<title>140652662526384&#45;&gt;140652662534976*</title>\n<path fill=\"none\" stroke=\"black\" d=\"M166.74,-36.56C176.95,-39.66 187.31,-43.01 197,-46.5 207.27,-50.19 218.27,-54.77 228.1,-59.09\"/>\n<polygon fill=\"black\" stroke=\"black\" points=\"226.92,-62.4 237.47,-63.3 229.78,-56.01 226.92,-62.4\"/>\n</g>\n<!-- 140652662532576 -->\n<g id=\"node14\" class=\"node\">\n<title>140652662532576</title>\n<polygon fill=\"none\" stroke=\"black\" points=\"1048,-109.5 1048,-145.5 1280,-145.5 1280,-109.5 1048,-109.5\"/>\n<text text-anchor=\"middle\" x=\"1059.5\" y=\"-123.8\" font-family=\"Times,serif\" font-size=\"14.00\">n</text>\n<polyline fill=\"none\" stroke=\"black\" points=\"1071,-109.5 1071,-145.5 \"/>\n<text text-anchor=\"middle\" x=\"1136.5\" y=\"-123.8\" font-family=\"Times,serif\" font-size=\"14.00\">data [0.8814,0.8814]</text>\n<polyline fill=\"none\" stroke=\"black\" points=\"1202,-109.5 1202,-145.5 \"/>\n<text text-anchor=\"middle\" x=\"1241\" y=\"-123.8\" font-family=\"Times,serif\" font-size=\"14.00\">grad [0.,0.]</text>\n</g>\n<!-- 140652662532576&#45;&gt;140652662536944tanh -->\n<g id=\"edge6\" class=\"edge\">\n<title>140652662532576&#45;&gt;140652662536944tanh</title>\n<path fill=\"none\" stroke=\"black\" d=\"M1280.09,-127.5C1289.17,-127.5 1297.84,-127.5 1305.66,-127.5\"/>\n<polygon fill=\"black\" stroke=\"black\" points=\"1305.76,-131 1315.76,-127.5 1305.76,-124 1305.76,-131\"/>\n</g>\n<!-- 140652662532576+&#45;&gt;140652662532576 -->\n<g id=\"edge5\" class=\"edge\">\n<title>140652662532576+&#45;&gt;140652662532576</title>\n<path fill=\"none\" stroke=\"black\" d=\"M1012.12,-127.5C1019.53,-127.5 1028.14,-127.5 1037.4,-127.5\"/>\n<polygon fill=\"black\" stroke=\"black\" points=\"1037.69,-131 1047.69,-127.5 1037.69,-124 1037.69,-131\"/>\n</g>\n</g>\n</svg>\n",
            "text/plain": [
              "<graphviz.graphs.Digraph at 0x7fec3ffcbac0>"
            ]
          },
          "metadata": {},
          "execution_count": 3
        }
      ]
    },
    {
      "cell_type": "code",
      "source": [
        "# perform backward propagation to compute gradients\n",
        "o.backward()\n",
        "\n",
        "# visualizing the updated computation graph\n",
        "draw_dot(o)"
      ],
      "metadata": {
        "colab": {
          "base_uri": "https://localhost:8080/",
          "height": 321
        },
        "id": "CX0Kr-4HMyfk",
        "outputId": "ff9446a6-1583-4e02-e3f3-4ec42a7cb727"
      },
      "execution_count": 4,
      "outputs": [
        {
          "output_type": "execute_result",
          "data": {
            "image/svg+xml": "<?xml version=\"1.0\" encoding=\"UTF-8\" standalone=\"no\"?>\n<!DOCTYPE svg PUBLIC \"-//W3C//DTD SVG 1.1//EN\"\n \"http://www.w3.org/Graphics/SVG/1.1/DTD/svg11.dtd\">\n<!-- Generated by graphviz version 2.43.0 (0)\n -->\n<!-- Title: %3 Pages: 1 -->\n<svg width=\"1699pt\" height=\"210pt\"\n viewBox=\"0.00 0.00 1699.00 210.00\" xmlns=\"http://www.w3.org/2000/svg\" xmlns:xlink=\"http://www.w3.org/1999/xlink\">\n<g id=\"graph0\" class=\"graph\" transform=\"scale(1 1) rotate(0) translate(4 206)\">\n<title>%3</title>\n<polygon fill=\"white\" stroke=\"transparent\" points=\"-4,4 -4,-206 1695,-206 1695,4 -4,4\"/>\n<!-- 140652662537760 -->\n<g id=\"node1\" class=\"node\">\n<title>140652662537760</title>\n<polygon fill=\"none\" stroke=\"black\" points=\"691,-82.5 691,-118.5 961,-118.5 961,-82.5 691,-82.5\"/>\n<text text-anchor=\"middle\" x=\"737\" y=\"-96.8\" font-family=\"Times,serif\" font-size=\"14.00\">x1w1 + x2w2</text>\n<polyline fill=\"none\" stroke=\"black\" points=\"783,-82.5 783,-118.5 \"/>\n<text text-anchor=\"middle\" x=\"826\" y=\"-96.8\" font-family=\"Times,serif\" font-size=\"14.00\">data [&#45;6.,&#45;6.]</text>\n<polyline fill=\"none\" stroke=\"black\" points=\"869,-82.5 869,-118.5 \"/>\n<text text-anchor=\"middle\" x=\"915\" y=\"-96.8\" font-family=\"Times,serif\" font-size=\"14.00\">grad [0.5,0.5]</text>\n</g>\n<!-- 140652662532576+ -->\n<g id=\"node15\" class=\"node\">\n<title>140652662532576+</title>\n<ellipse fill=\"none\" stroke=\"black\" cx=\"1024\" cy=\"-127.5\" rx=\"27\" ry=\"18\"/>\n<text text-anchor=\"middle\" x=\"1024\" y=\"-123.8\" font-family=\"Times,serif\" font-size=\"14.00\">+</text>\n</g>\n<!-- 140652662537760&#45;&gt;140652662532576+ -->\n<g id=\"edge12\" class=\"edge\">\n<title>140652662537760&#45;&gt;140652662532576+</title>\n<path fill=\"none\" stroke=\"black\" d=\"M957.73,-118.51C968.32,-119.97 978.33,-121.35 987.18,-122.57\"/>\n<polygon fill=\"black\" stroke=\"black\" points=\"986.99,-126.07 997.37,-123.97 987.94,-119.14 986.99,-126.07\"/>\n</g>\n<!-- 140652662537760+ -->\n<g id=\"node2\" class=\"node\">\n<title>140652662537760+</title>\n<ellipse fill=\"none\" stroke=\"black\" cx=\"628\" cy=\"-100.5\" rx=\"27\" ry=\"18\"/>\n<text text-anchor=\"middle\" x=\"628\" y=\"-96.8\" font-family=\"Times,serif\" font-size=\"14.00\">+</text>\n</g>\n<!-- 140652662537760+&#45;&gt;140652662537760 -->\n<g id=\"edge1\" class=\"edge\">\n<title>140652662537760+&#45;&gt;140652662537760</title>\n<path fill=\"none\" stroke=\"black\" d=\"M655.03,-100.5C662.52,-100.5 671.27,-100.5 680.77,-100.5\"/>\n<polygon fill=\"black\" stroke=\"black\" points=\"680.93,-104 690.93,-100.5 680.93,-97 680.93,-104\"/>\n</g>\n<!-- 140652662524560 -->\n<g id=\"node3\" class=\"node\">\n<title>140652662524560</title>\n<polygon fill=\"none\" stroke=\"black\" points=\"338.5,-110.5 338.5,-146.5 560.5,-146.5 560.5,-110.5 338.5,-110.5\"/>\n<text text-anchor=\"middle\" x=\"365\" y=\"-124.8\" font-family=\"Times,serif\" font-size=\"14.00\">x2*w2</text>\n<polyline fill=\"none\" stroke=\"black\" points=\"391.5,-110.5 391.5,-146.5 \"/>\n<text text-anchor=\"middle\" x=\"430\" y=\"-124.8\" font-family=\"Times,serif\" font-size=\"14.00\">data [0.,0.]</text>\n<polyline fill=\"none\" stroke=\"black\" points=\"468.5,-110.5 468.5,-146.5 \"/>\n<text text-anchor=\"middle\" x=\"514.5\" y=\"-124.8\" font-family=\"Times,serif\" font-size=\"14.00\">grad [0.5,0.5]</text>\n</g>\n<!-- 140652662524560&#45;&gt;140652662537760+ -->\n<g id=\"edge10\" class=\"edge\">\n<title>140652662524560&#45;&gt;140652662537760+</title>\n<path fill=\"none\" stroke=\"black\" d=\"M560.52,-111.05C571.59,-109.29 582.18,-107.61 591.52,-106.13\"/>\n<polygon fill=\"black\" stroke=\"black\" points=\"592.16,-109.57 601.49,-104.55 591.06,-102.66 592.16,-109.57\"/>\n</g>\n<!-- 140652662524560* -->\n<g id=\"node4\" class=\"node\">\n<title>140652662524560*</title>\n<ellipse fill=\"none\" stroke=\"black\" cx=\"271\" cy=\"-128.5\" rx=\"27\" ry=\"18\"/>\n<text text-anchor=\"middle\" x=\"271\" y=\"-124.8\" font-family=\"Times,serif\" font-size=\"14.00\">*</text>\n</g>\n<!-- 140652662524560*&#45;&gt;140652662524560 -->\n<g id=\"edge2\" class=\"edge\">\n<title>140652662524560*&#45;&gt;140652662524560</title>\n<path fill=\"none\" stroke=\"black\" d=\"M298.04,-128.5C306.79,-128.5 317.21,-128.5 328.41,-128.5\"/>\n<polygon fill=\"black\" stroke=\"black\" points=\"328.44,-132 338.44,-128.5 328.44,-125 328.44,-132\"/>\n</g>\n<!-- 140652662534304 -->\n<g id=\"node5\" class=\"node\">\n<title>140652662534304</title>\n<polygon fill=\"none\" stroke=\"black\" points=\"4.5,-165.5 4.5,-201.5 203.5,-201.5 203.5,-165.5 4.5,-165.5\"/>\n<text text-anchor=\"middle\" x=\"19.5\" y=\"-179.8\" font-family=\"Times,serif\" font-size=\"14.00\">x2</text>\n<polyline fill=\"none\" stroke=\"black\" points=\"34.5,-165.5 34.5,-201.5 \"/>\n<text text-anchor=\"middle\" x=\"73\" y=\"-179.8\" font-family=\"Times,serif\" font-size=\"14.00\">data [0.,0.]</text>\n<polyline fill=\"none\" stroke=\"black\" points=\"111.5,-165.5 111.5,-201.5 \"/>\n<text text-anchor=\"middle\" x=\"157.5\" y=\"-179.8\" font-family=\"Times,serif\" font-size=\"14.00\">grad [0.5,0.5]</text>\n</g>\n<!-- 140652662534304&#45;&gt;140652662524560* -->\n<g id=\"edge7\" class=\"edge\">\n<title>140652662534304&#45;&gt;140652662524560*</title>\n<path fill=\"none\" stroke=\"black\" d=\"M179.99,-165.42C189.49,-162.67 199.03,-159.68 208,-156.5 218.55,-152.77 229.78,-147.96 239.74,-143.39\"/>\n<polygon fill=\"black\" stroke=\"black\" points=\"241.28,-146.54 248.84,-139.12 238.3,-140.2 241.28,-146.54\"/>\n</g>\n<!-- 140652662528208 -->\n<g id=\"node6\" class=\"node\">\n<title>140652662528208</title>\n<polygon fill=\"none\" stroke=\"black\" points=\"703,-137.5 703,-173.5 949,-173.5 949,-137.5 703,-137.5\"/>\n<text text-anchor=\"middle\" x=\"714.5\" y=\"-151.8\" font-family=\"Times,serif\" font-size=\"14.00\">b</text>\n<polyline fill=\"none\" stroke=\"black\" points=\"726,-137.5 726,-173.5 \"/>\n<text text-anchor=\"middle\" x=\"791.5\" y=\"-151.8\" font-family=\"Times,serif\" font-size=\"14.00\">data [6.8814,6.8814]</text>\n<polyline fill=\"none\" stroke=\"black\" points=\"857,-137.5 857,-173.5 \"/>\n<text text-anchor=\"middle\" x=\"903\" y=\"-151.8\" font-family=\"Times,serif\" font-size=\"14.00\">grad [0.5,0.5]</text>\n</g>\n<!-- 140652662528208&#45;&gt;140652662532576+ -->\n<g id=\"edge13\" class=\"edge\">\n<title>140652662528208&#45;&gt;140652662532576+</title>\n<path fill=\"none\" stroke=\"black\" d=\"M949.18,-138.05C962.94,-136.08 976.03,-134.21 987.25,-132.61\"/>\n<polygon fill=\"black\" stroke=\"black\" points=\"988,-136.04 997.41,-131.16 987.01,-129.11 988,-136.04\"/>\n</g>\n<!-- 140652662536944 -->\n<g id=\"node7\" class=\"node\">\n<title>140652662536944</title>\n<polygon fill=\"none\" stroke=\"black\" points=\"1459,-109.5 1459,-145.5 1691,-145.5 1691,-109.5 1459,-109.5\"/>\n<text text-anchor=\"middle\" x=\"1470.5\" y=\"-123.8\" font-family=\"Times,serif\" font-size=\"14.00\">o</text>\n<polyline fill=\"none\" stroke=\"black\" points=\"1482,-109.5 1482,-145.5 \"/>\n<text text-anchor=\"middle\" x=\"1547.5\" y=\"-123.8\" font-family=\"Times,serif\" font-size=\"14.00\">data [0.7071,0.7071]</text>\n<polyline fill=\"none\" stroke=\"black\" points=\"1613,-109.5 1613,-145.5 \"/>\n<text text-anchor=\"middle\" x=\"1652\" y=\"-123.8\" font-family=\"Times,serif\" font-size=\"14.00\">grad [1.,1.]</text>\n</g>\n<!-- 140652662536944tanh -->\n<g id=\"node8\" class=\"node\">\n<title>140652662536944tanh</title>\n<ellipse fill=\"none\" stroke=\"black\" cx=\"1396\" cy=\"-127.5\" rx=\"27\" ry=\"18\"/>\n<text text-anchor=\"middle\" x=\"1396\" y=\"-123.8\" font-family=\"Times,serif\" font-size=\"14.00\">tanh</text>\n</g>\n<!-- 140652662536944tanh&#45;&gt;140652662536944 -->\n<g id=\"edge3\" class=\"edge\">\n<title>140652662536944tanh&#45;&gt;140652662536944</title>\n<path fill=\"none\" stroke=\"black\" d=\"M1423.12,-127.5C1430.53,-127.5 1439.14,-127.5 1448.4,-127.5\"/>\n<polygon fill=\"black\" stroke=\"black\" points=\"1448.69,-131 1458.69,-127.5 1448.69,-124 1448.69,-131\"/>\n</g>\n<!-- 140652662534976 -->\n<g id=\"node9\" class=\"node\">\n<title>140652662534976</title>\n<polygon fill=\"none\" stroke=\"black\" points=\"334,-55.5 334,-91.5 565,-91.5 565,-55.5 334,-55.5\"/>\n<text text-anchor=\"middle\" x=\"360.5\" y=\"-69.8\" font-family=\"Times,serif\" font-size=\"14.00\">x1*w1</text>\n<polyline fill=\"none\" stroke=\"black\" points=\"387,-55.5 387,-91.5 \"/>\n<text text-anchor=\"middle\" x=\"430\" y=\"-69.8\" font-family=\"Times,serif\" font-size=\"14.00\">data [&#45;6.,&#45;6.]</text>\n<polyline fill=\"none\" stroke=\"black\" points=\"473,-55.5 473,-91.5 \"/>\n<text text-anchor=\"middle\" x=\"519\" y=\"-69.8\" font-family=\"Times,serif\" font-size=\"14.00\">grad [0.5,0.5]</text>\n</g>\n<!-- 140652662534976&#45;&gt;140652662537760+ -->\n<g id=\"edge9\" class=\"edge\">\n<title>140652662534976&#45;&gt;140652662537760+</title>\n<path fill=\"none\" stroke=\"black\" d=\"M565.27,-91.06C574.61,-92.49 583.51,-93.85 591.5,-95.07\"/>\n<polygon fill=\"black\" stroke=\"black\" points=\"591.03,-98.54 601.44,-96.59 592.09,-91.62 591.03,-98.54\"/>\n</g>\n<!-- 140652662534976* -->\n<g id=\"node10\" class=\"node\">\n<title>140652662534976*</title>\n<ellipse fill=\"none\" stroke=\"black\" cx=\"271\" cy=\"-73.5\" rx=\"27\" ry=\"18\"/>\n<text text-anchor=\"middle\" x=\"271\" y=\"-69.8\" font-family=\"Times,serif\" font-size=\"14.00\">*</text>\n</g>\n<!-- 140652662534976*&#45;&gt;140652662534976 -->\n<g id=\"edge4\" class=\"edge\">\n<title>140652662534976*&#45;&gt;140652662534976</title>\n<path fill=\"none\" stroke=\"black\" d=\"M298.04,-73.5C305.59,-73.5 314.37,-73.5 323.82,-73.5\"/>\n<polygon fill=\"black\" stroke=\"black\" points=\"323.89,-77 333.89,-73.5 323.89,-70 323.89,-77\"/>\n</g>\n<!-- 140652662528880 -->\n<g id=\"node11\" class=\"node\">\n<title>140652662528880</title>\n<polygon fill=\"none\" stroke=\"black\" points=\"10,-110.5 10,-146.5 198,-146.5 198,-110.5 10,-110.5\"/>\n<text text-anchor=\"middle\" x=\"26.5\" y=\"-124.8\" font-family=\"Times,serif\" font-size=\"14.00\">w2</text>\n<polyline fill=\"none\" stroke=\"black\" points=\"43,-110.5 43,-146.5 \"/>\n<text text-anchor=\"middle\" x=\"81.5\" y=\"-124.8\" font-family=\"Times,serif\" font-size=\"14.00\">data [1.,1.]</text>\n<polyline fill=\"none\" stroke=\"black\" points=\"120,-110.5 120,-146.5 \"/>\n<text text-anchor=\"middle\" x=\"159\" y=\"-124.8\" font-family=\"Times,serif\" font-size=\"14.00\">grad [0.,0.]</text>\n</g>\n<!-- 140652662528880&#45;&gt;140652662524560* -->\n<g id=\"edge14\" class=\"edge\">\n<title>140652662528880&#45;&gt;140652662524560*</title>\n<path fill=\"none\" stroke=\"black\" d=\"M198.11,-128.5C210.72,-128.5 222.99,-128.5 233.72,-128.5\"/>\n<polygon fill=\"black\" stroke=\"black\" points=\"233.9,-132 243.9,-128.5 233.9,-125 233.9,-132\"/>\n</g>\n<!-- 140652662528928 -->\n<g id=\"node12\" class=\"node\">\n<title>140652662528928</title>\n<polygon fill=\"none\" stroke=\"black\" points=\"0,-55.5 0,-91.5 208,-91.5 208,-55.5 0,-55.5\"/>\n<text text-anchor=\"middle\" x=\"15\" y=\"-69.8\" font-family=\"Times,serif\" font-size=\"14.00\">x1</text>\n<polyline fill=\"none\" stroke=\"black\" points=\"30,-55.5 30,-91.5 \"/>\n<text text-anchor=\"middle\" x=\"68.5\" y=\"-69.8\" font-family=\"Times,serif\" font-size=\"14.00\">data [2.,2.]</text>\n<polyline fill=\"none\" stroke=\"black\" points=\"107,-55.5 107,-91.5 \"/>\n<text text-anchor=\"middle\" x=\"157.5\" y=\"-69.8\" font-family=\"Times,serif\" font-size=\"14.00\">grad [&#45;1.5,&#45;1.5]</text>\n</g>\n<!-- 140652662528928&#45;&gt;140652662534976* -->\n<g id=\"edge8\" class=\"edge\">\n<title>140652662528928&#45;&gt;140652662534976*</title>\n<path fill=\"none\" stroke=\"black\" d=\"M208.09,-73.5C217.14,-73.5 225.83,-73.5 233.7,-73.5\"/>\n<polygon fill=\"black\" stroke=\"black\" points=\"233.87,-77 243.87,-73.5 233.87,-70 233.87,-77\"/>\n</g>\n<!-- 140652662526384 -->\n<g id=\"node13\" class=\"node\">\n<title>140652662526384</title>\n<polygon fill=\"none\" stroke=\"black\" points=\"5.5,-0.5 5.5,-36.5 202.5,-36.5 202.5,-0.5 5.5,-0.5\"/>\n<text text-anchor=\"middle\" x=\"22\" y=\"-14.8\" font-family=\"Times,serif\" font-size=\"14.00\">w1</text>\n<polyline fill=\"none\" stroke=\"black\" points=\"38.5,-0.5 38.5,-36.5 \"/>\n<text text-anchor=\"middle\" x=\"81.5\" y=\"-14.8\" font-family=\"Times,serif\" font-size=\"14.00\">data [&#45;3.,&#45;3.]</text>\n<polyline fill=\"none\" stroke=\"black\" points=\"124.5,-0.5 124.5,-36.5 \"/>\n<text text-anchor=\"middle\" x=\"163.5\" y=\"-14.8\" font-family=\"Times,serif\" font-size=\"14.00\">grad [1.,1.]</text>\n</g>\n<!-- 140652662526384&#45;&gt;140652662534976* -->\n<g id=\"edge11\" class=\"edge\">\n<title>140652662526384&#45;&gt;140652662534976*</title>\n<path fill=\"none\" stroke=\"black\" d=\"M176.61,-36.52C187.22,-39.61 197.95,-42.97 208,-46.5 218.3,-50.12 229.3,-54.67 239.13,-59.01\"/>\n<polygon fill=\"black\" stroke=\"black\" points=\"237.95,-62.31 248.5,-63.22 240.82,-55.93 237.95,-62.31\"/>\n</g>\n<!-- 140652662532576 -->\n<g id=\"node14\" class=\"node\">\n<title>140652662532576</title>\n<polygon fill=\"none\" stroke=\"black\" points=\"1087,-109.5 1087,-145.5 1333,-145.5 1333,-109.5 1087,-109.5\"/>\n<text text-anchor=\"middle\" x=\"1098.5\" y=\"-123.8\" font-family=\"Times,serif\" font-size=\"14.00\">n</text>\n<polyline fill=\"none\" stroke=\"black\" points=\"1110,-109.5 1110,-145.5 \"/>\n<text text-anchor=\"middle\" x=\"1175.5\" y=\"-123.8\" font-family=\"Times,serif\" font-size=\"14.00\">data [0.8814,0.8814]</text>\n<polyline fill=\"none\" stroke=\"black\" points=\"1241,-109.5 1241,-145.5 \"/>\n<text text-anchor=\"middle\" x=\"1287\" y=\"-123.8\" font-family=\"Times,serif\" font-size=\"14.00\">grad [0.5,0.5]</text>\n</g>\n<!-- 140652662532576&#45;&gt;140652662536944tanh -->\n<g id=\"edge6\" class=\"edge\">\n<title>140652662532576&#45;&gt;140652662536944tanh</title>\n<path fill=\"none\" stroke=\"black\" d=\"M1333.22,-127.5C1342.35,-127.5 1351.03,-127.5 1358.84,-127.5\"/>\n<polygon fill=\"black\" stroke=\"black\" points=\"1358.92,-131 1368.92,-127.5 1358.92,-124 1358.92,-131\"/>\n</g>\n<!-- 140652662532576+&#45;&gt;140652662532576 -->\n<g id=\"edge5\" class=\"edge\">\n<title>140652662532576+&#45;&gt;140652662532576</title>\n<path fill=\"none\" stroke=\"black\" d=\"M1051.36,-127.5C1058.73,-127.5 1067.28,-127.5 1076.5,-127.5\"/>\n<polygon fill=\"black\" stroke=\"black\" points=\"1076.75,-131 1086.75,-127.5 1076.75,-124 1076.75,-131\"/>\n</g>\n</g>\n</svg>\n",
            "text/plain": [
              "<graphviz.graphs.Digraph at 0x7fec3ffd08b0>"
            ]
          },
          "metadata": {},
          "execution_count": 4
        }
      ]
    },
    {
      "cell_type": "code",
      "source": [
        "# constructing and visualizing the computation graph for a neural network forward pass and performing backward propagation\n",
        "\n",
        "# inputs x1,x2\n",
        "x1 = Value(2.0, label=\"x1\")\n",
        "x2 = Value(0.0, label=\"x2\")\n",
        "\n",
        "# weights w1, w2\n",
        "w1 = Value(-3.0, label=\"w1\")\n",
        "w2 = Value(1.0, label=\"w2\")\n",
        "\n",
        "# bias of the neurons\n",
        "b = Value(6.8813735870195432, label=\"b\")\n",
        "\n",
        "# x1*w1 + x2*w2 + b\n",
        "x1w1 = x1*w1; x1w1.label = 'x1*w1'\n",
        "x2w2 = x2*w2; x2w2.label = 'x2*w2'\n",
        "x1w1x2w2 = x1w1 + x2w2; x1w1x2w2.label = 'x1w1 + x2w2'\n",
        "n = x1w1x2w2 + b; n.label = 'n'\n",
        "\n",
        "# break tanh() into the following expression (hyperbolic tangent)\n",
        "\n",
        "# computes the value of 'e' by taking the exponential function of the expression '2*n'\n",
        "e = (2*n).exp(); e.label = 'e'\n",
        "# computes the value of 'o' using the values of 'e' & subtracts 1 from 'e' and divides it by 'e' plus 1, following a mathematical expression\n",
        "o = (e - 1) / (e + 1); o.label = 'o'\n",
        "\n",
        "# perform backward propagation to compute gradients\n",
        "o.backward()\n",
        "\n",
        "# visualizing the updated computation graph\n",
        "draw_dot(o)"
      ],
      "metadata": {
        "colab": {
          "base_uri": "https://localhost:8080/",
          "height": 360
        },
        "id": "8td2h163Ohv8",
        "outputId": "11194e09-f6fd-4a6a-f720-b5c1e04c7c7b"
      },
      "execution_count": 5,
      "outputs": [
        {
          "output_type": "execute_result",
          "data": {
            "image/svg+xml": "<?xml version=\"1.0\" encoding=\"UTF-8\" standalone=\"no\"?>\n<!DOCTYPE svg PUBLIC \"-//W3C//DTD SVG 1.1//EN\"\n \"http://www.w3.org/Graphics/SVG/1.1/DTD/svg11.dtd\">\n<!-- Generated by graphviz version 2.43.0 (0)\n -->\n<!-- Title: %3 Pages: 1 -->\n<svg width=\"2722pt\" height=\"239pt\"\n viewBox=\"0.00 0.00 2722.00 239.00\" xmlns=\"http://www.w3.org/2000/svg\" xmlns:xlink=\"http://www.w3.org/1999/xlink\">\n<g id=\"graph0\" class=\"graph\" transform=\"scale(1 1) rotate(0) translate(4 235)\">\n<title>%3</title>\n<polygon fill=\"white\" stroke=\"transparent\" points=\"-4,4 -4,-235 2718,-235 2718,4 -4,4\"/>\n<!-- 140652662535696 -->\n<g id=\"node1\" class=\"node\">\n<title>140652662535696</title>\n<polygon fill=\"none\" stroke=\"black\" points=\"2030,-82.5 2030,-118.5 2212,-118.5 2212,-82.5 2030,-82.5\"/>\n<text text-anchor=\"middle\" x=\"2040\" y=\"-96.8\" font-family=\"Times,serif\" font-size=\"14.00\"> </text>\n<polyline fill=\"none\" stroke=\"black\" points=\"2050,-82.5 2050,-118.5 \"/>\n<text text-anchor=\"middle\" x=\"2090\" y=\"-96.8\" font-family=\"Times,serif\" font-size=\"14.00\">data 4.8284</text>\n<polyline fill=\"none\" stroke=\"black\" points=\"2130,-82.5 2130,-118.5 \"/>\n<text text-anchor=\"middle\" x=\"2171\" y=\"-96.8\" font-family=\"Times,serif\" font-size=\"14.00\">grad 0.1464</text>\n</g>\n<!-- 140652662528160* -->\n<g id=\"node10\" class=\"node\">\n<title>140652662528160*</title>\n<ellipse fill=\"none\" stroke=\"black\" cx=\"2493\" cy=\"-72.5\" rx=\"27\" ry=\"18\"/>\n<text text-anchor=\"middle\" x=\"2493\" y=\"-68.8\" font-family=\"Times,serif\" font-size=\"14.00\">*</text>\n</g>\n<!-- 140652662535696&#45;&gt;140652662528160* -->\n<g id=\"edge23\" class=\"edge\">\n<title>140652662535696&#45;&gt;140652662528160*</title>\n<path fill=\"none\" stroke=\"black\" d=\"M2212.04,-93.69C2290.41,-87.76 2399.98,-79.46 2455.96,-75.23\"/>\n<polygon fill=\"black\" stroke=\"black\" points=\"2456.39,-78.7 2466.1,-74.46 2455.86,-71.72 2456.39,-78.7\"/>\n</g>\n<!-- 140652662535696+ -->\n<g id=\"node2\" class=\"node\">\n<title>140652662535696+</title>\n<ellipse fill=\"none\" stroke=\"black\" cx=\"1745\" cy=\"-100.5\" rx=\"27\" ry=\"18\"/>\n<text text-anchor=\"middle\" x=\"1745\" y=\"-96.8\" font-family=\"Times,serif\" font-size=\"14.00\">+</text>\n</g>\n<!-- 140652662535696+&#45;&gt;140652662535696 -->\n<g id=\"edge1\" class=\"edge\">\n<title>140652662535696+&#45;&gt;140652662535696</title>\n<path fill=\"none\" stroke=\"black\" d=\"M1772,-100.5C1822.46,-100.5 1936.06,-100.5 2019.81,-100.5\"/>\n<polygon fill=\"black\" stroke=\"black\" points=\"2019.87,-104 2029.87,-100.5 2019.87,-97 2019.87,-104\"/>\n</g>\n<!-- 140652662528016 -->\n<g id=\"node3\" class=\"node\">\n<title>140652662528016</title>\n<polygon fill=\"none\" stroke=\"black\" points=\"1203,-55.5 1203,-91.5 1371,-91.5 1371,-55.5 1203,-55.5\"/>\n<text text-anchor=\"middle\" x=\"1213\" y=\"-69.8\" font-family=\"Times,serif\" font-size=\"14.00\"> </text>\n<polyline fill=\"none\" stroke=\"black\" points=\"1223,-55.5 1223,-91.5 \"/>\n<text text-anchor=\"middle\" x=\"1263\" y=\"-69.8\" font-family=\"Times,serif\" font-size=\"14.00\">data 1.7627</text>\n<polyline fill=\"none\" stroke=\"black\" points=\"1303,-55.5 1303,-91.5 \"/>\n<text text-anchor=\"middle\" x=\"1337\" y=\"-69.8\" font-family=\"Times,serif\" font-size=\"14.00\">grad 0.25</text>\n</g>\n<!-- 140652662530944exp -->\n<g id=\"node25\" class=\"node\">\n<title>140652662530944exp</title>\n<ellipse fill=\"none\" stroke=\"black\" cx=\"1434\" cy=\"-73.5\" rx=\"27\" ry=\"18\"/>\n<text text-anchor=\"middle\" x=\"1434\" y=\"-69.8\" font-family=\"Times,serif\" font-size=\"14.00\">exp</text>\n</g>\n<!-- 140652662528016&#45;&gt;140652662530944exp -->\n<g id=\"edge13\" class=\"edge\">\n<title>140652662528016&#45;&gt;140652662530944exp</title>\n<path fill=\"none\" stroke=\"black\" d=\"M1371.09,-73.5C1379.96,-73.5 1388.62,-73.5 1396.51,-73.5\"/>\n<polygon fill=\"black\" stroke=\"black\" points=\"1396.75,-77 1406.75,-73.5 1396.75,-70 1396.75,-77\"/>\n</g>\n<!-- 140652662528016* -->\n<g id=\"node4\" class=\"node\">\n<title>140652662528016*</title>\n<ellipse fill=\"none\" stroke=\"black\" cx=\"1140\" cy=\"-73.5\" rx=\"27\" ry=\"18\"/>\n<text text-anchor=\"middle\" x=\"1140\" y=\"-69.8\" font-family=\"Times,serif\" font-size=\"14.00\">*</text>\n</g>\n<!-- 140652662528016*&#45;&gt;140652662528016 -->\n<g id=\"edge2\" class=\"edge\">\n<title>140652662528016*&#45;&gt;140652662528016</title>\n<path fill=\"none\" stroke=\"black\" d=\"M1167.26,-73.5C1174.81,-73.5 1183.51,-73.5 1192.7,-73.5\"/>\n<polygon fill=\"black\" stroke=\"black\" points=\"1192.83,-77 1202.83,-73.5 1192.83,-70 1192.83,-77\"/>\n</g>\n<!-- 140652662524464 -->\n<g id=\"node5\" class=\"node\">\n<title>140652662524464</title>\n<polygon fill=\"none\" stroke=\"black\" points=\"574,-111.5 574,-147.5 786,-147.5 786,-111.5 574,-111.5\"/>\n<text text-anchor=\"middle\" x=\"620\" y=\"-125.8\" font-family=\"Times,serif\" font-size=\"14.00\">x1w1 + x2w2</text>\n<polyline fill=\"none\" stroke=\"black\" points=\"666,-111.5 666,-147.5 \"/>\n<text text-anchor=\"middle\" x=\"695\" y=\"-125.8\" font-family=\"Times,serif\" font-size=\"14.00\">data &#45;6.</text>\n<polyline fill=\"none\" stroke=\"black\" points=\"724,-111.5 724,-147.5 \"/>\n<text text-anchor=\"middle\" x=\"755\" y=\"-125.8\" font-family=\"Times,serif\" font-size=\"14.00\">grad 0.5</text>\n</g>\n<!-- 140652662525520+ -->\n<g id=\"node8\" class=\"node\">\n<title>140652662525520+</title>\n<ellipse fill=\"none\" stroke=\"black\" cx=\"849\" cy=\"-101.5\" rx=\"27\" ry=\"18\"/>\n<text text-anchor=\"middle\" x=\"849\" y=\"-97.8\" font-family=\"Times,serif\" font-size=\"14.00\">+</text>\n</g>\n<!-- 140652662524464&#45;&gt;140652662525520+ -->\n<g id=\"edge27\" class=\"edge\">\n<title>140652662524464&#45;&gt;140652662525520+</title>\n<path fill=\"none\" stroke=\"black\" d=\"M786.29,-111.85C795.62,-110.28 804.56,-108.78 812.6,-107.44\"/>\n<polygon fill=\"black\" stroke=\"black\" points=\"813.31,-110.86 822.6,-105.76 812.16,-103.96 813.31,-110.86\"/>\n</g>\n<!-- 140652662524464+ -->\n<g id=\"node6\" class=\"node\">\n<title>140652662524464+</title>\n<ellipse fill=\"none\" stroke=\"black\" cx=\"511\" cy=\"-129.5\" rx=\"27\" ry=\"18\"/>\n<text text-anchor=\"middle\" x=\"511\" y=\"-125.8\" font-family=\"Times,serif\" font-size=\"14.00\">+</text>\n</g>\n<!-- 140652662524464+&#45;&gt;140652662524464 -->\n<g id=\"edge3\" class=\"edge\">\n<title>140652662524464+&#45;&gt;140652662524464</title>\n<path fill=\"none\" stroke=\"black\" d=\"M538.09,-129.5C545.65,-129.5 554.42,-129.5 563.83,-129.5\"/>\n<polygon fill=\"black\" stroke=\"black\" points=\"563.83,-133 573.83,-129.5 563.83,-126 563.83,-133\"/>\n</g>\n<!-- 140652662525520 -->\n<g id=\"node7\" class=\"node\">\n<title>140652662525520</title>\n<polygon fill=\"none\" stroke=\"black\" points=\"912,-83.5 912,-119.5 1077,-119.5 1077,-83.5 912,-83.5\"/>\n<text text-anchor=\"middle\" x=\"923.5\" y=\"-97.8\" font-family=\"Times,serif\" font-size=\"14.00\">n</text>\n<polyline fill=\"none\" stroke=\"black\" points=\"935,-83.5 935,-119.5 \"/>\n<text text-anchor=\"middle\" x=\"975\" y=\"-97.8\" font-family=\"Times,serif\" font-size=\"14.00\">data 0.8814</text>\n<polyline fill=\"none\" stroke=\"black\" points=\"1015,-83.5 1015,-119.5 \"/>\n<text text-anchor=\"middle\" x=\"1046\" y=\"-97.8\" font-family=\"Times,serif\" font-size=\"14.00\">grad 0.5</text>\n</g>\n<!-- 140652662525520&#45;&gt;140652662528016* -->\n<g id=\"edge17\" class=\"edge\">\n<title>140652662525520&#45;&gt;140652662528016*</title>\n<path fill=\"none\" stroke=\"black\" d=\"M1077.31,-85.54C1086.6,-83.72 1095.67,-81.96 1103.86,-80.36\"/>\n<polygon fill=\"black\" stroke=\"black\" points=\"1104.58,-83.78 1113.73,-78.43 1103.24,-76.91 1104.58,-83.78\"/>\n</g>\n<!-- 140652662525520+&#45;&gt;140652662525520 -->\n<g id=\"edge4\" class=\"edge\">\n<title>140652662525520+&#45;&gt;140652662525520</title>\n<path fill=\"none\" stroke=\"black\" d=\"M876.32,-101.5C883.87,-101.5 892.55,-101.5 901.71,-101.5\"/>\n<polygon fill=\"black\" stroke=\"black\" points=\"901.8,-105 911.8,-101.5 901.8,-98 901.8,-105\"/>\n</g>\n<!-- 140652662528160 -->\n<g id=\"node9\" class=\"node\">\n<title>140652662528160</title>\n<polygon fill=\"none\" stroke=\"black\" points=\"2556,-54.5 2556,-90.5 2714,-90.5 2714,-54.5 2556,-54.5\"/>\n<text text-anchor=\"middle\" x=\"2567.5\" y=\"-68.8\" font-family=\"Times,serif\" font-size=\"14.00\">o</text>\n<polyline fill=\"none\" stroke=\"black\" points=\"2579,-54.5 2579,-90.5 \"/>\n<text text-anchor=\"middle\" x=\"2619\" y=\"-68.8\" font-family=\"Times,serif\" font-size=\"14.00\">data 0.7071</text>\n<polyline fill=\"none\" stroke=\"black\" points=\"2659,-54.5 2659,-90.5 \"/>\n<text text-anchor=\"middle\" x=\"2686.5\" y=\"-68.8\" font-family=\"Times,serif\" font-size=\"14.00\">grad 1.</text>\n</g>\n<!-- 140652662528160*&#45;&gt;140652662528160 -->\n<g id=\"edge5\" class=\"edge\">\n<title>140652662528160*&#45;&gt;140652662528160</title>\n<path fill=\"none\" stroke=\"black\" d=\"M2520,-72.5C2527.61,-72.5 2536.39,-72.5 2545.62,-72.5\"/>\n<polygon fill=\"black\" stroke=\"black\" points=\"2545.78,-76 2555.78,-72.5 2545.78,-69 2545.78,-76\"/>\n</g>\n<!-- 140652662524080 -->\n<g id=\"node11\" class=\"node\">\n<title>140652662524080</title>\n<polygon fill=\"none\" stroke=\"black\" points=\"277.5,-139.5 277.5,-175.5 445.5,-175.5 445.5,-139.5 277.5,-139.5\"/>\n<text text-anchor=\"middle\" x=\"304\" y=\"-153.8\" font-family=\"Times,serif\" font-size=\"14.00\">x2*w2</text>\n<polyline fill=\"none\" stroke=\"black\" points=\"330.5,-139.5 330.5,-175.5 \"/>\n<text text-anchor=\"middle\" x=\"357\" y=\"-153.8\" font-family=\"Times,serif\" font-size=\"14.00\">data 0.</text>\n<polyline fill=\"none\" stroke=\"black\" points=\"383.5,-139.5 383.5,-175.5 \"/>\n<text text-anchor=\"middle\" x=\"414.5\" y=\"-153.8\" font-family=\"Times,serif\" font-size=\"14.00\">grad 0.5</text>\n</g>\n<!-- 140652662524080&#45;&gt;140652662524464+ -->\n<g id=\"edge24\" class=\"edge\">\n<title>140652662524080&#45;&gt;140652662524464+</title>\n<path fill=\"none\" stroke=\"black\" d=\"M445.73,-141.7C455.97,-139.76 465.96,-137.86 474.9,-136.16\"/>\n<polygon fill=\"black\" stroke=\"black\" points=\"475.68,-139.58 484.86,-134.27 474.38,-132.7 475.68,-139.58\"/>\n</g>\n<!-- 140652662524080* -->\n<g id=\"node12\" class=\"node\">\n<title>140652662524080*</title>\n<ellipse fill=\"none\" stroke=\"black\" cx=\"212\" cy=\"-157.5\" rx=\"27\" ry=\"18\"/>\n<text text-anchor=\"middle\" x=\"212\" y=\"-153.8\" font-family=\"Times,serif\" font-size=\"14.00\">*</text>\n</g>\n<!-- 140652662524080*&#45;&gt;140652662524080 -->\n<g id=\"edge6\" class=\"edge\">\n<title>140652662524080*&#45;&gt;140652662524080</title>\n<path fill=\"none\" stroke=\"black\" d=\"M239.03,-157.5C247.37,-157.5 257.13,-157.5 267.43,-157.5\"/>\n<polygon fill=\"black\" stroke=\"black\" points=\"267.44,-161 277.44,-157.5 267.44,-154 267.44,-161\"/>\n</g>\n<!-- 140652879909056 -->\n<g id=\"node13\" class=\"node\">\n<title>140652879909056</title>\n<polygon fill=\"none\" stroke=\"black\" points=\"4,-194.5 4,-230.5 145,-230.5 145,-194.5 4,-194.5\"/>\n<text text-anchor=\"middle\" x=\"20.5\" y=\"-208.8\" font-family=\"Times,serif\" font-size=\"14.00\">w2</text>\n<polyline fill=\"none\" stroke=\"black\" points=\"37,-194.5 37,-230.5 \"/>\n<text text-anchor=\"middle\" x=\"63.5\" y=\"-208.8\" font-family=\"Times,serif\" font-size=\"14.00\">data 1.</text>\n<polyline fill=\"none\" stroke=\"black\" points=\"90,-194.5 90,-230.5 \"/>\n<text text-anchor=\"middle\" x=\"117.5\" y=\"-208.8\" font-family=\"Times,serif\" font-size=\"14.00\">grad 0.</text>\n</g>\n<!-- 140652879909056&#45;&gt;140652662524080* -->\n<g id=\"edge21\" class=\"edge\">\n<title>140652879909056&#45;&gt;140652662524080*</title>\n<path fill=\"none\" stroke=\"black\" d=\"M123.86,-194.45C132.27,-191.2 140.91,-187.8 149,-184.5 159.11,-180.38 170.06,-175.68 179.9,-171.38\"/>\n<polygon fill=\"black\" stroke=\"black\" points=\"181.56,-174.48 189.3,-167.25 178.74,-168.07 181.56,-174.48\"/>\n</g>\n<!-- 140652661931744 -->\n<g id=\"node14\" class=\"node\">\n<title>140652661931744</title>\n<polygon fill=\"none\" stroke=\"black\" points=\"0,-84.5 0,-120.5 149,-120.5 149,-84.5 0,-84.5\"/>\n<text text-anchor=\"middle\" x=\"15\" y=\"-98.8\" font-family=\"Times,serif\" font-size=\"14.00\">x1</text>\n<polyline fill=\"none\" stroke=\"black\" points=\"30,-84.5 30,-120.5 \"/>\n<text text-anchor=\"middle\" x=\"56.5\" y=\"-98.8\" font-family=\"Times,serif\" font-size=\"14.00\">data 2.</text>\n<polyline fill=\"none\" stroke=\"black\" points=\"83,-84.5 83,-120.5 \"/>\n<text text-anchor=\"middle\" x=\"116\" y=\"-98.8\" font-family=\"Times,serif\" font-size=\"14.00\">grad &#45;1.5</text>\n</g>\n<!-- 140652662527776* -->\n<g id=\"node20\" class=\"node\">\n<title>140652662527776*</title>\n<ellipse fill=\"none\" stroke=\"black\" cx=\"212\" cy=\"-102.5\" rx=\"27\" ry=\"18\"/>\n<text text-anchor=\"middle\" x=\"212\" y=\"-98.8\" font-family=\"Times,serif\" font-size=\"14.00\">*</text>\n</g>\n<!-- 140652661931744&#45;&gt;140652662527776* -->\n<g id=\"edge11\" class=\"edge\">\n<title>140652661931744&#45;&gt;140652662527776*</title>\n<path fill=\"none\" stroke=\"black\" d=\"M149.2,-102.5C158.09,-102.5 166.84,-102.5 174.84,-102.5\"/>\n<polygon fill=\"black\" stroke=\"black\" points=\"174.86,-106 184.86,-102.5 174.86,-99 174.86,-106\"/>\n</g>\n<!-- 140652662537952 -->\n<g id=\"node15\" class=\"node\">\n<title>140652662537952</title>\n<polygon fill=\"none\" stroke=\"black\" points=\"918.5,-28.5 918.5,-64.5 1070.5,-64.5 1070.5,-28.5 918.5,-28.5\"/>\n<text text-anchor=\"middle\" x=\"928.5\" y=\"-42.8\" font-family=\"Times,serif\" font-size=\"14.00\"> </text>\n<polyline fill=\"none\" stroke=\"black\" points=\"938.5,-28.5 938.5,-64.5 \"/>\n<text text-anchor=\"middle\" x=\"963.5\" y=\"-42.8\" font-family=\"Times,serif\" font-size=\"14.00\">data 2</text>\n<polyline fill=\"none\" stroke=\"black\" points=\"988.5,-28.5 988.5,-64.5 \"/>\n<text text-anchor=\"middle\" x=\"1029.5\" y=\"-42.8\" font-family=\"Times,serif\" font-size=\"14.00\">grad 0.2203</text>\n</g>\n<!-- 140652662537952&#45;&gt;140652662528016* -->\n<g id=\"edge14\" class=\"edge\">\n<title>140652662537952&#45;&gt;140652662528016*</title>\n<path fill=\"none\" stroke=\"black\" d=\"M1070.61,-60.63C1082.19,-62.81 1093.65,-64.97 1103.78,-66.87\"/>\n<polygon fill=\"black\" stroke=\"black\" points=\"1103.33,-70.35 1113.81,-68.76 1104.63,-63.47 1103.33,-70.35\"/>\n</g>\n<!-- 140652662530800 -->\n<g id=\"node16\" class=\"node\">\n<title>140652662530800</title>\n<polygon fill=\"none\" stroke=\"black\" points=\"1808,-27.5 1808,-63.5 1994,-63.5 1994,-27.5 1808,-27.5\"/>\n<text text-anchor=\"middle\" x=\"1818\" y=\"-41.8\" font-family=\"Times,serif\" font-size=\"14.00\"> </text>\n<polyline fill=\"none\" stroke=\"black\" points=\"1828,-27.5 1828,-63.5 \"/>\n<text text-anchor=\"middle\" x=\"1868\" y=\"-41.8\" font-family=\"Times,serif\" font-size=\"14.00\">data 6.8284</text>\n<polyline fill=\"none\" stroke=\"black\" points=\"1908,-27.5 1908,-63.5 \"/>\n<text text-anchor=\"middle\" x=\"1951\" y=\"-41.8\" font-family=\"Times,serif\" font-size=\"14.00\">grad &#45;0.1036</text>\n</g>\n<!-- 140652662532960**&#45;1 -->\n<g id=\"node23\" class=\"node\">\n<title>140652662532960**&#45;1</title>\n<ellipse fill=\"none\" stroke=\"black\" cx=\"2121\" cy=\"-45.5\" rx=\"27\" ry=\"18\"/>\n<text text-anchor=\"middle\" x=\"2121\" y=\"-41.8\" font-family=\"Times,serif\" font-size=\"14.00\">**&#45;1</text>\n</g>\n<!-- 140652662530800&#45;&gt;140652662532960**&#45;1 -->\n<g id=\"edge16\" class=\"edge\">\n<title>140652662530800&#45;&gt;140652662532960**&#45;1</title>\n<path fill=\"none\" stroke=\"black\" d=\"M1994.14,-45.5C2025.72,-45.5 2059.24,-45.5 2083.74,-45.5\"/>\n<polygon fill=\"black\" stroke=\"black\" points=\"2083.98,-49 2093.98,-45.5 2083.98,-42 2083.98,-49\"/>\n</g>\n<!-- 140652662530800+ -->\n<g id=\"node17\" class=\"node\">\n<title>140652662530800+</title>\n<ellipse fill=\"none\" stroke=\"black\" cx=\"1745\" cy=\"-45.5\" rx=\"27\" ry=\"18\"/>\n<text text-anchor=\"middle\" x=\"1745\" y=\"-41.8\" font-family=\"Times,serif\" font-size=\"14.00\">+</text>\n</g>\n<!-- 140652662530800+&#45;&gt;140652662530800 -->\n<g id=\"edge7\" class=\"edge\">\n<title>140652662530800+&#45;&gt;140652662530800</title>\n<path fill=\"none\" stroke=\"black\" d=\"M1772.12,-45.5C1779.62,-45.5 1788.29,-45.5 1797.5,-45.5\"/>\n<polygon fill=\"black\" stroke=\"black\" points=\"1797.69,-49 1807.69,-45.5 1797.69,-42 1797.69,-49\"/>\n</g>\n<!-- 140652661931792 -->\n<g id=\"node18\" class=\"node\">\n<title>140652661931792</title>\n<polygon fill=\"none\" stroke=\"black\" points=\"1.5,-29.5 1.5,-65.5 147.5,-65.5 147.5,-29.5 1.5,-29.5\"/>\n<text text-anchor=\"middle\" x=\"18\" y=\"-43.8\" font-family=\"Times,serif\" font-size=\"14.00\">w1</text>\n<polyline fill=\"none\" stroke=\"black\" points=\"34.5,-29.5 34.5,-65.5 \"/>\n<text text-anchor=\"middle\" x=\"63.5\" y=\"-43.8\" font-family=\"Times,serif\" font-size=\"14.00\">data &#45;3.</text>\n<polyline fill=\"none\" stroke=\"black\" points=\"92.5,-29.5 92.5,-65.5 \"/>\n<text text-anchor=\"middle\" x=\"120\" y=\"-43.8\" font-family=\"Times,serif\" font-size=\"14.00\">grad 1.</text>\n</g>\n<!-- 140652661931792&#45;&gt;140652662527776* -->\n<g id=\"edge26\" class=\"edge\">\n<title>140652661931792&#45;&gt;140652662527776*</title>\n<path fill=\"none\" stroke=\"black\" d=\"M126.29,-65.62C133.94,-68.5 141.7,-71.52 149,-74.5 159.36,-78.73 170.54,-83.67 180.51,-88.21\"/>\n<polygon fill=\"black\" stroke=\"black\" points=\"179.1,-91.41 189.65,-92.4 182.02,-85.04 179.1,-91.41\"/>\n</g>\n<!-- 140652662527776 -->\n<g id=\"node19\" class=\"node\">\n<title>140652662527776</title>\n<polygon fill=\"none\" stroke=\"black\" points=\"275,-84.5 275,-120.5 448,-120.5 448,-84.5 275,-84.5\"/>\n<text text-anchor=\"middle\" x=\"301.5\" y=\"-98.8\" font-family=\"Times,serif\" font-size=\"14.00\">x1*w1</text>\n<polyline fill=\"none\" stroke=\"black\" points=\"328,-84.5 328,-120.5 \"/>\n<text text-anchor=\"middle\" x=\"357\" y=\"-98.8\" font-family=\"Times,serif\" font-size=\"14.00\">data &#45;6.</text>\n<polyline fill=\"none\" stroke=\"black\" points=\"386,-84.5 386,-120.5 \"/>\n<text text-anchor=\"middle\" x=\"417\" y=\"-98.8\" font-family=\"Times,serif\" font-size=\"14.00\">grad 0.5</text>\n</g>\n<!-- 140652662527776&#45;&gt;140652662524464+ -->\n<g id=\"edge25\" class=\"edge\">\n<title>140652662527776&#45;&gt;140652662524464+</title>\n<path fill=\"none\" stroke=\"black\" d=\"M448.3,-118.21C457.66,-119.92 466.75,-121.58 474.95,-123.08\"/>\n<polygon fill=\"black\" stroke=\"black\" points=\"474.35,-126.53 484.82,-124.89 475.61,-119.65 474.35,-126.53\"/>\n</g>\n<!-- 140652662527776*&#45;&gt;140652662527776 -->\n<g id=\"edge8\" class=\"edge\">\n<title>140652662527776*&#45;&gt;140652662527776</title>\n<path fill=\"none\" stroke=\"black\" d=\"M239.03,-102.5C246.62,-102.5 255.4,-102.5 264.69,-102.5\"/>\n<polygon fill=\"black\" stroke=\"black\" points=\"264.93,-106 274.93,-102.5 264.93,-99 264.93,-106\"/>\n</g>\n<!-- 140652662535552 -->\n<g id=\"node21\" class=\"node\">\n<title>140652662535552</title>\n<polygon fill=\"none\" stroke=\"black\" points=\"1511.5,-110.5 1511.5,-146.5 1667.5,-146.5 1667.5,-110.5 1511.5,-110.5\"/>\n<text text-anchor=\"middle\" x=\"1521.5\" y=\"-124.8\" font-family=\"Times,serif\" font-size=\"14.00\"> </text>\n<polyline fill=\"none\" stroke=\"black\" points=\"1531.5,-110.5 1531.5,-146.5 \"/>\n<text text-anchor=\"middle\" x=\"1558.5\" y=\"-124.8\" font-family=\"Times,serif\" font-size=\"14.00\">data &#45;1</text>\n<polyline fill=\"none\" stroke=\"black\" points=\"1585.5,-110.5 1585.5,-146.5 \"/>\n<text text-anchor=\"middle\" x=\"1626.5\" y=\"-124.8\" font-family=\"Times,serif\" font-size=\"14.00\">grad 0.1464</text>\n</g>\n<!-- 140652662535552&#45;&gt;140652662535696+ -->\n<g id=\"edge15\" class=\"edge\">\n<title>140652662535552&#45;&gt;140652662535696+</title>\n<path fill=\"none\" stroke=\"black\" d=\"M1667.7,-114.42C1682.16,-111.78 1696.61,-109.14 1708.98,-106.89\"/>\n<polygon fill=\"black\" stroke=\"black\" points=\"1709.62,-110.33 1718.83,-105.09 1708.36,-103.44 1709.62,-110.33\"/>\n</g>\n<!-- 140652662532960 -->\n<g id=\"node22\" class=\"node\">\n<title>140652662532960</title>\n<polygon fill=\"none\" stroke=\"black\" points=\"2248,-31.5 2248,-67.5 2430,-67.5 2430,-31.5 2248,-31.5\"/>\n<text text-anchor=\"middle\" x=\"2258\" y=\"-45.8\" font-family=\"Times,serif\" font-size=\"14.00\"> </text>\n<polyline fill=\"none\" stroke=\"black\" points=\"2268,-31.5 2268,-67.5 \"/>\n<text text-anchor=\"middle\" x=\"2308\" y=\"-45.8\" font-family=\"Times,serif\" font-size=\"14.00\">data 0.1464</text>\n<polyline fill=\"none\" stroke=\"black\" points=\"2348,-31.5 2348,-67.5 \"/>\n<text text-anchor=\"middle\" x=\"2389\" y=\"-45.8\" font-family=\"Times,serif\" font-size=\"14.00\">grad 4.8284</text>\n</g>\n<!-- 140652662532960&#45;&gt;140652662528160* -->\n<g id=\"edge18\" class=\"edge\">\n<title>140652662532960&#45;&gt;140652662528160*</title>\n<path fill=\"none\" stroke=\"black\" d=\"M2430.18,-63.15C2439.42,-64.54 2448.38,-65.9 2456.47,-67.12\"/>\n<polygon fill=\"black\" stroke=\"black\" points=\"2456.15,-70.61 2466.56,-68.65 2457.19,-63.69 2456.15,-70.61\"/>\n</g>\n<!-- 140652662532960**&#45;1&#45;&gt;140652662532960 -->\n<g id=\"edge9\" class=\"edge\">\n<title>140652662532960**&#45;1&#45;&gt;140652662532960</title>\n<path fill=\"none\" stroke=\"black\" d=\"M2148.05,-45.98C2170.53,-46.4 2204.48,-47.03 2237.5,-47.64\"/>\n<polygon fill=\"black\" stroke=\"black\" points=\"2237.64,-51.14 2247.7,-47.83 2237.77,-44.14 2237.64,-51.14\"/>\n</g>\n<!-- 140652662530944 -->\n<g id=\"node24\" class=\"node\">\n<title>140652662530944</title>\n<polygon fill=\"none\" stroke=\"black\" points=\"1497,-55.5 1497,-91.5 1682,-91.5 1682,-55.5 1497,-55.5\"/>\n<text text-anchor=\"middle\" x=\"1508.5\" y=\"-69.8\" font-family=\"Times,serif\" font-size=\"14.00\">e</text>\n<polyline fill=\"none\" stroke=\"black\" points=\"1520,-55.5 1520,-91.5 \"/>\n<text text-anchor=\"middle\" x=\"1560\" y=\"-69.8\" font-family=\"Times,serif\" font-size=\"14.00\">data 5.8284</text>\n<polyline fill=\"none\" stroke=\"black\" points=\"1600,-55.5 1600,-91.5 \"/>\n<text text-anchor=\"middle\" x=\"1641\" y=\"-69.8\" font-family=\"Times,serif\" font-size=\"14.00\">grad 0.0429</text>\n</g>\n<!-- 140652662530944&#45;&gt;140652662535696+ -->\n<g id=\"edge28\" class=\"edge\">\n<title>140652662530944&#45;&gt;140652662535696+</title>\n<path fill=\"none\" stroke=\"black\" d=\"M1682.01,-89.6C1691.49,-91.26 1700.66,-92.88 1708.9,-94.33\"/>\n<polygon fill=\"black\" stroke=\"black\" points=\"1708.36,-97.78 1718.81,-96.07 1709.57,-90.89 1708.36,-97.78\"/>\n</g>\n<!-- 140652662530944&#45;&gt;140652662530800+ -->\n<g id=\"edge12\" class=\"edge\">\n<title>140652662530944&#45;&gt;140652662530800+</title>\n<path fill=\"none\" stroke=\"black\" d=\"M1682.01,-56.81C1691.49,-55.08 1700.66,-53.41 1708.9,-51.9\"/>\n<polygon fill=\"black\" stroke=\"black\" points=\"1709.6,-55.33 1718.81,-50.09 1708.35,-48.45 1709.6,-55.33\"/>\n</g>\n<!-- 140652662530944exp&#45;&gt;140652662530944 -->\n<g id=\"edge10\" class=\"edge\">\n<title>140652662530944exp&#45;&gt;140652662530944</title>\n<path fill=\"none\" stroke=\"black\" d=\"M1461.04,-73.5C1468.58,-73.5 1477.3,-73.5 1486.57,-73.5\"/>\n<polygon fill=\"black\" stroke=\"black\" points=\"1486.81,-77 1496.81,-73.5 1486.81,-70 1486.81,-77\"/>\n</g>\n<!-- 140652879918512 -->\n<g id=\"node26\" class=\"node\">\n<title>140652879918512</title>\n<polygon fill=\"none\" stroke=\"black\" points=\"2,-139.5 2,-175.5 147,-175.5 147,-139.5 2,-139.5\"/>\n<text text-anchor=\"middle\" x=\"17\" y=\"-153.8\" font-family=\"Times,serif\" font-size=\"14.00\">x2</text>\n<polyline fill=\"none\" stroke=\"black\" points=\"32,-139.5 32,-175.5 \"/>\n<text text-anchor=\"middle\" x=\"58.5\" y=\"-153.8\" font-family=\"Times,serif\" font-size=\"14.00\">data 0.</text>\n<polyline fill=\"none\" stroke=\"black\" points=\"85,-139.5 85,-175.5 \"/>\n<text text-anchor=\"middle\" x=\"116\" y=\"-153.8\" font-family=\"Times,serif\" font-size=\"14.00\">grad 0.5</text>\n</g>\n<!-- 140652879918512&#45;&gt;140652662524080* -->\n<g id=\"edge19\" class=\"edge\">\n<title>140652879918512&#45;&gt;140652662524080*</title>\n<path fill=\"none\" stroke=\"black\" d=\"M147.22,-157.5C156.68,-157.5 166.04,-157.5 174.55,-157.5\"/>\n<polygon fill=\"black\" stroke=\"black\" points=\"174.83,-161 184.83,-157.5 174.83,-154 174.83,-161\"/>\n</g>\n<!-- 140652662530512 -->\n<g id=\"node27\" class=\"node\">\n<title>140652662530512</title>\n<polygon fill=\"none\" stroke=\"black\" points=\"1511.5,-0.5 1511.5,-36.5 1667.5,-36.5 1667.5,-0.5 1511.5,-0.5\"/>\n<text text-anchor=\"middle\" x=\"1521.5\" y=\"-14.8\" font-family=\"Times,serif\" font-size=\"14.00\"> </text>\n<polyline fill=\"none\" stroke=\"black\" points=\"1531.5,-0.5 1531.5,-36.5 \"/>\n<text text-anchor=\"middle\" x=\"1556.5\" y=\"-14.8\" font-family=\"Times,serif\" font-size=\"14.00\">data 1</text>\n<polyline fill=\"none\" stroke=\"black\" points=\"1581.5,-0.5 1581.5,-36.5 \"/>\n<text text-anchor=\"middle\" x=\"1624.5\" y=\"-14.8\" font-family=\"Times,serif\" font-size=\"14.00\">grad &#45;0.1036</text>\n</g>\n<!-- 140652662530512&#45;&gt;140652662530800+ -->\n<g id=\"edge22\" class=\"edge\">\n<title>140652662530512&#45;&gt;140652662530800+</title>\n<path fill=\"none\" stroke=\"black\" d=\"M1667.7,-32.08C1681.9,-34.58 1696.09,-37.07 1708.31,-39.22\"/>\n<polygon fill=\"black\" stroke=\"black\" points=\"1708.03,-42.73 1718.49,-41.01 1709.24,-35.83 1708.03,-42.73\"/>\n</g>\n<!-- 140652879913952 -->\n<g id=\"node28\" class=\"node\">\n<title>140652879913952</title>\n<polygon fill=\"none\" stroke=\"black\" points=\"597.5,-56.5 597.5,-92.5 762.5,-92.5 762.5,-56.5 597.5,-56.5\"/>\n<text text-anchor=\"middle\" x=\"609\" y=\"-70.8\" font-family=\"Times,serif\" font-size=\"14.00\">b</text>\n<polyline fill=\"none\" stroke=\"black\" points=\"620.5,-56.5 620.5,-92.5 \"/>\n<text text-anchor=\"middle\" x=\"660.5\" y=\"-70.8\" font-family=\"Times,serif\" font-size=\"14.00\">data 6.8814</text>\n<polyline fill=\"none\" stroke=\"black\" points=\"700.5,-56.5 700.5,-92.5 \"/>\n<text text-anchor=\"middle\" x=\"731.5\" y=\"-70.8\" font-family=\"Times,serif\" font-size=\"14.00\">grad 0.5</text>\n</g>\n<!-- 140652879913952&#45;&gt;140652662525520+ -->\n<g id=\"edge20\" class=\"edge\">\n<title>140652879913952&#45;&gt;140652662525520+</title>\n<path fill=\"none\" stroke=\"black\" d=\"M762.54,-87.68C780.13,-90.53 797.84,-93.39 812.53,-95.77\"/>\n<polygon fill=\"black\" stroke=\"black\" points=\"812.23,-99.26 822.66,-97.4 813.35,-92.35 812.23,-99.26\"/>\n</g>\n</g>\n</svg>\n",
            "text/plain": [
              "<graphviz.graphs.Digraph at 0x7fec4cf1aad0>"
            ]
          },
          "metadata": {},
          "execution_count": 5
        }
      ]
    },
    {
      "cell_type": "code",
      "source": [
        "import torch\n",
        "\n",
        "# create tensors and enable gradient tracking\n",
        "\n",
        "# inputs x1,x2\n",
        "x1 = torch.Tensor([2.0]); x1.requires_grad = True \n",
        "x2 = torch.Tensor([-.0]); x2.requires_grad = True\n",
        "\n",
        "# weights w1, w2\n",
        "w1 = torch.Tensor([-3.0]); w1.requires_grad = True  \n",
        "w2 = torch.Tensor([1.0]); w2.requires_grad = True  \n",
        "\n",
        "# bias of the neurons\n",
        "b = torch.Tensor([6.8813735870195432]); b.requires_grad = True\n",
        "\n",
        "# perform the computation: n = x1*w1 + x2*w2 + b\n",
        "n = x1*w1 + x2*w2 + b\n",
        "\n",
        "# apply the hyperbolic tangent function to n\n",
        "o = torch.tanh(n)\n",
        "\n",
        "print(o.item())\n",
        "\n",
        "# perform backward propagation to compute gradients\n",
        "o.backward()\n",
        "\n",
        "print(\"------------\")\n",
        "print(\"x1\", x1.grad.item())\n",
        "print(\"w1\", w1.grad.item())\n",
        "print(\"x2\", x2.grad.item())\n",
        "print(\"w2\", w2.grad.item())"
      ],
      "metadata": {
        "colab": {
          "base_uri": "https://localhost:8080/"
        },
        "id": "REFIqSGtSqGk",
        "outputId": "4d938c2e-6f48-4937-f520-3eab0010be7c"
      },
      "execution_count": 6,
      "outputs": [
        {
          "output_type": "stream",
          "name": "stdout",
          "text": [
            "0.7071067094802856\n",
            "------------\n",
            "x1 -1.5000003576278687\n",
            "w1 1.000000238418579\n",
            "x2 0.5000001192092896\n",
            "w2 -0.0\n"
          ]
        }
      ]
    },
    {
      "cell_type": "code",
      "source": [
        "import random\n",
        "\n",
        "class Neuron:\n",
        "\n",
        "  def __init__(self, nin):\n",
        "    # Initialize the neuron with random weights and bias between -1 and 1\n",
        "    self.w = [Value(random.uniform(-1, 1)) for _ in range(nin)]\n",
        "    self.b = Value(random.uniform(-1,1))\n",
        "  \n",
        "  def __call__(self, x):\n",
        "    # Calculate the weighted sum of inputs multiplied by weights and add the bias\n",
        "    act = sum((wi*xi for wi, xi in zip(self.w, x)), self.b)\n",
        "    # Apply the hyperbolic tangent function to the activation\n",
        "    out = act.tanh()\n",
        "    # Return the output of the neuron\n",
        "    return out\n",
        "  \n",
        "  def parameters(self):\n",
        "    # Return the weights and bias of the neuron as parameters\n",
        "    return self.w + [self.b]\n",
        "  \n",
        "class Layer:\n",
        "\n",
        "  def __init__(self, nin, nout):\n",
        "    # Create a layer with a specified number of input and output neurons\n",
        "    self.neurons = [Neuron(nin) for _ in range(nout)]\n",
        "  \n",
        "  def __call__(self, x):\n",
        "    # Compute the output of each neuron in the layer given an input\n",
        "    outs = [n(x) for n in self.neurons]\n",
        "    # If there is only one output neuron, return it directly; otherwise, return a list of outputs\n",
        "    return outs[0] if len(outs) == 1 else outs\n",
        "  \n",
        "  def parameters(self):\n",
        "    # Return the parameters of all neurons in the layer\n",
        "    return [p for neuron in self.neurons for p in neuron.parameters()]\n",
        "  \n",
        "class MLP:\n",
        "\n",
        "  def __init__(self, nin, nouts):\n",
        "    # Create a multi-layer perceptron (MLP) with the specified number of input and output neurons for each layer\n",
        "    sz = [nin] + nouts\n",
        "    self.layers = [Layer(sz[i], sz[i+1]) for i in range(len(nouts))]\n",
        "\n",
        "  def __call__(self, x):\n",
        "    # Forward propagate the input through all layers of the MLP\n",
        "    for layer in self.layers:\n",
        "      x = layer(x)\n",
        "    # Return the final output of the MLP\n",
        "    return x\n",
        "\n",
        "  def parameters(self):\n",
        "    # Return the parameters of all layers in the MLP\n",
        "    return [p for layer in self.layers for p in layer.parameters()]"
      ],
      "metadata": {
        "id": "G8HuWjA8jmah"
      },
      "execution_count": 7,
      "outputs": []
    },
    {
      "cell_type": "code",
      "source": [
        "# Set the input values\n",
        "x = [2.0, 3.0, -1.0]\n",
        "\n",
        "# Create an MLP object with 3 input neurons, 3 hidden layers (each with 4 neurons), and 1 output neuron\n",
        "n = MLP(3, [4, 4, 1])\n",
        "\n",
        "# Call the MLP object with the input values\n",
        "# This triggers the __call__ method of the MLP class\n",
        "n(x)"
      ],
      "metadata": {
        "colab": {
          "base_uri": "https://localhost:8080/"
        },
        "id": "GNkdRcm6jpOq",
        "outputId": "623bc71b-f00c-424f-c86b-4dcb2f5b3a93"
      },
      "execution_count": 8,
      "outputs": [
        {
          "output_type": "execute_result",
          "data": {
            "text/plain": [
              "Value(data=-0.3798868107884126)"
            ]
          },
          "metadata": {},
          "execution_count": 8
        }
      ]
    },
    {
      "cell_type": "code",
      "source": [
        "# Set the input values for the training examples\n",
        "xs = [\n",
        "    [2.0, 3.0, -1.0],\n",
        "    [3.0, -1.0, 0.5],\n",
        "    [0.5, 1.0, 1.0],\n",
        "    [1.0, 1.0, -1.0],\n",
        "]\n",
        "\n",
        "# Set the desired target values for the training examples\n",
        "ys = [1.0, -1.0, -1.0, 1.0]\n",
        "\n",
        "# Training data:\n",
        "# xs[0] corresponds to ys[0]\n",
        "# xs[1] corresponds to ys[1]\n",
        "# xs[2] corresponds to ys[2]\n",
        "# xs[3] corresponds to ys[3]"
      ],
      "metadata": {
        "id": "IIlO_dCAlskf"
      },
      "execution_count": 9,
      "outputs": []
    },
    {
      "cell_type": "code",
      "source": [
        "for k in range(20):\n",
        "  \n",
        "    # Forward pass\n",
        "    ypred = [n(x) for x in xs]\n",
        "    loss = sum((yout - ygt) ** 2 for ygt, yout in zip(ys, ypred))\n",
        "\n",
        "    # Backward pass\n",
        "    for p in n.parameters():\n",
        "        p.grad = 0.0\n",
        "    \n",
        "    # Compute gradients using the backward method\n",
        "    loss.backward()\n",
        "\n",
        "    # Update weights\n",
        "    for p in n.parameters():\n",
        "        p.data += -0.5 * p.grad\n",
        "\n",
        "    print(k, loss.data)"
      ],
      "metadata": {
        "colab": {
          "base_uri": "https://localhost:8080/"
        },
        "id": "GTTbuq2MmIKt",
        "outputId": "b7076230-0e2c-4038-d0fd-85f50c42b45b"
      },
      "execution_count": 10,
      "outputs": [
        {
          "output_type": "stream",
          "name": "stdout",
          "text": [
            "0 4.4804998792402\n",
            "1 0.007573759202783073\n",
            "2 0.00017106008463719198\n",
            "3 0.00015847488604998254\n",
            "4 0.0001476920568438104\n",
            "5 0.00013834432209593433\n",
            "6 0.00013015875227055242\n",
            "7 0.00012292811077977323\n",
            "8 0.00011649209262856946\n",
            "9 0.00011072467352173466\n",
            "10 0.00010552535932148685\n",
            "11 0.00010081299688759957\n",
            "12 9.652130947567148e-05\n",
            "13 9.259561919100697e-05\n",
            "14 8.899040277298505e-05\n",
            "15 8.566744282464198e-05\n",
            "16 8.259441135651752e-05\n",
            "17 7.974377178736054e-05\n",
            "18 7.709191865095675e-05\n",
            "19 7.461849689459692e-05\n"
          ]
        }
      ]
    },
    {
      "cell_type": "code",
      "source": [
        "# ypred = [n(x) for x in xs]\n",
        "ypred"
      ],
      "metadata": {
        "colab": {
          "base_uri": "https://localhost:8080/"
        },
        "id": "e5VyzOp_rJPi",
        "outputId": "57e6dfc7-ee24-4bd1-eecc-cb2ef5a0b898"
      },
      "execution_count": 11,
      "outputs": [
        {
          "output_type": "execute_result",
          "data": {
            "text/plain": [
              "[Value(data=0.9995900375700788),\n",
              " Value(data=-0.9999292523659448),\n",
              " Value(data=-0.9913865822615372),\n",
              " Value(data=0.9994955623570153)]"
            ]
          },
          "metadata": {},
          "execution_count": 11
        }
      ]
    }
  ]
}