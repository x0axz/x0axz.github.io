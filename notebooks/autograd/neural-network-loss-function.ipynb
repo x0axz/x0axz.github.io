{
  "cells": [
    {
      "cell_type": "code",
      "execution_count": 10,
      "metadata": {
        "colab": {
          "base_uri": "https://localhost:8080/"
        },
        "id": "GTTbuq2MmIKt",
        "outputId": "b7076230-0e2c-4038-d0fd-85f50c42b45b"
      },
      "outputs": [
        {
          "name": "stdout",
          "output_type": "stream",
          "text": [
            "0 4.4804998792402\n",
            "1 0.007573759202783073\n",
            "2 0.00017106008463719198\n",
            "3 0.00015847488604998254\n",
            "4 0.0001476920568438104\n",
            "5 0.00013834432209593433\n",
            "6 0.00013015875227055242\n",
            "7 0.00012292811077977323\n",
            "8 0.00011649209262856946\n",
            "9 0.00011072467352173466\n",
            "10 0.00010552535932148685\n",
            "11 0.00010081299688759957\n",
            "12 9.652130947567148e-05\n",
            "13 9.259561919100697e-05\n",
            "14 8.899040277298505e-05\n",
            "15 8.566744282464198e-05\n",
            "16 8.259441135651752e-05\n",
            "17 7.974377178736054e-05\n",
            "18 7.709191865095675e-05\n",
            "19 7.461849689459692e-05\n"
          ]
        }
      ],
      "source": [
        "for k in range(20):\n",
        "  \n",
        "    # Forward pass\n",
        "    ypred = [n(x) for x in xs]\n",
        "    loss = sum((yout - ygt) ** 2 for ygt, yout in zip(ys, ypred))\n",
        "\n",
        "    # Backward pass\n",
        "    for p in n.parameters():\n",
        "        p.grad = 0.0\n",
        "    \n",
        "    # Compute gradients using the backward method\n",
        "    loss.backward()\n",
        "\n",
        "    # Update weights\n",
        "    for p in n.parameters():\n",
        "        p.data += -0.5 * p.grad\n",
        "\n",
        "    print(k, loss.data)"
      ]
    }
  ],
  "metadata": {
    "colab": {
      "provenance": []
    },
    "kernelspec": {
      "display_name": "Python 3",
      "name": "python3"
    },
    "language_info": {
      "name": "python"
    }
  },
  "nbformat": 4,
  "nbformat_minor": 0
}
