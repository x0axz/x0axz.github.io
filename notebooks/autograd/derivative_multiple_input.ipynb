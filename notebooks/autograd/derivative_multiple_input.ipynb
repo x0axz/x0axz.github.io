{
  "nbformat": 4,
  "nbformat_minor": 0,
  "metadata": {
    "colab": {
      "provenance": []
    },
    "kernelspec": {
      "name": "python3",
      "display_name": "Python 3"
    },
    "language_info": {
      "name": "python"
    }
  },
  "cells": [
    {
      "cell_type": "code",
      "source": [
        "h = 0.0001\n",
        "\n",
        "a = 2.0\n",
        "b = -3.0\n",
        "c = 10.0\n",
        "\n",
        "d1 = a * b + c\n",
        "a += h\n",
        "d2 = a * b + c\n",
        "\n",
        "print('d1: ', d1)\n",
        "print('a: ', a)\n",
        "print('d2: ', d2)\n",
        "print('slope: ', (d2 - d1)/h)"
      ],
      "metadata": {
        "colab": {
          "base_uri": "https://localhost:8080/"
        },
        "id": "V1WaNmBccejW",
        "outputId": "fbab501f-77e1-4554-d12e-5fe8e59cf1d3"
      },
      "execution_count": 1,
      "outputs": [
        {
          "output_type": "stream",
          "name": "stdout",
          "text": [
            "d1:  4.0\n",
            "a:  2.0001\n",
            "d2:  3.999699999999999\n",
            "slope:  -3.000000000010772\n"
          ]
        }
      ]
    }
  ]
}