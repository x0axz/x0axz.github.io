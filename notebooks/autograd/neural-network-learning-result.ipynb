{
  "cells": [
    {
      "cell_type": "code",
      "execution_count": 11,
      "metadata": {
        "colab": {
          "base_uri": "https://localhost:8080/"
        },
        "id": "e5VyzOp_rJPi",
        "outputId": "57e6dfc7-ee24-4bd1-eecc-cb2ef5a0b898"
      },
      "outputs": [
        {
          "data": {
            "text/plain": [
              "[Value(data=0.9995900375700788),\n",
              " Value(data=-0.9999292523659448),\n",
              " Value(data=-0.9913865822615372),\n",
              " Value(data=0.9994955623570153)]"
            ]
          },
          "execution_count": 11,
          "metadata": {},
          "output_type": "execute_result"
        }
      ],
      "source": [
        "# ypred = [n(x) for x in xs]\n",
        "ypred"
      ]
    }
  ],
  "metadata": {
    "colab": {
      "provenance": []
    },
    "kernelspec": {
      "display_name": "Python 3",
      "name": "python3"
    },
    "language_info": {
      "name": "python"
    }
  },
  "nbformat": 4,
  "nbformat_minor": 0
}
