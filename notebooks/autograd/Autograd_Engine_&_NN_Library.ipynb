{
  "nbformat": 4,
  "nbformat_minor": 0,
  "metadata": {
    "colab": {
      "provenance": []
    },
    "kernelspec": {
      "name": "python3",
      "display_name": "Python 3"
    },
    "language_info": {
      "name": "python"
    }
  },
  "cells": [
    {
      "cell_type": "code",
      "source": [
        "import numpy as np\n",
        "\n",
        "class Value:\n",
        "  \n",
        "  def __init__(self, data, _children=(), _op='', label=''):\n",
        "    # Convert data to a NumPy array\n",
        "    if isinstance(data, np.ndarray):\n",
        "      self.data = data\n",
        "    else:\n",
        "      self.data = np.array(data)\n",
        "      \n",
        "    # Initialize the gradient as an array of zeros with the same shape as the data\n",
        "    self.grad = np.zeros_like(self.data)\n",
        "    \n",
        "    # Placeholder for the backward function\n",
        "    self._backward = lambda: None\n",
        "    \n",
        "    # Set of previous nodes (parents)\n",
        "    self._prev = set(_children)\n",
        "    \n",
        "    # Operation associated with the current node\n",
        "    self._op = _op\n",
        "    \n",
        "    # Optional label for the node\n",
        "    self.label = label\n",
        "\n",
        "  \n",
        "  def __add__(self, other):\n",
        "    # Convert other to a Value if it is not already\n",
        "    other = other if isinstance(other, Value) else Value(other)\n",
        "    \n",
        "    # Create a new Value instance representing the addition operation\n",
        "    out = Value(self.data + other.data, (self, other), '+')\n",
        "\n",
        "    def _backward():\n",
        "      # Calculate the gradients using the chain rule and update the gradients of the operands\n",
        "      self.grad = self.grad + np.multiply(1.0, out.grad)\n",
        "      other.grad = other.grad + np.multiply(1.0, out.grad)\n",
        "\n",
        "    # Assign the backward function to the new Value instance\n",
        "    out._backward = _backward\n",
        "    return out\n",
        "\n",
        "\n",
        "  def __mul__(self, other):\n",
        "    # Convert other to a Value if it is not already\n",
        "    other = other if isinstance(other, Value) else Value(other)\n",
        "    \n",
        "    # Create a new Value instance representing the multiplication operation\n",
        "    out = Value(self.data * other.data, (self, other), '*')\n",
        "\n",
        "    def _backward():\n",
        "      # Calculate the gradients using the chain rule and update the gradients of the operands\n",
        "      self.grad = self.grad + np.multiply(other.data, out.grad)\n",
        "      other.grad = other.grad + np.multiply(self.data, out.grad)\n",
        "\n",
        "    # Assign the backward function to the new Value instance\n",
        "    out._backward = _backward\n",
        "    return out\n",
        "\n",
        "\n",
        "  def __pow__(self, other):\n",
        "    if isinstance(other, (int, float)):\n",
        "      # If the exponent is a scalar, perform element-wise power operation\n",
        "      out_data = np.power(self.data, other)\n",
        "      out = Value(out_data, (self,), f'**{other}')\n",
        "\n",
        "      def _backward():\n",
        "        # Calculate the gradients using the chain rule and update the gradients of the operand\n",
        "        self.grad = self.grad + np.multiply(np.multiply(other, np.power(self.data, other - 1)), out.grad)\n",
        "\n",
        "      out._backward = _backward\n",
        "      return out\n",
        "    elif isinstance(other, Value):\n",
        "      # If the exponent is a Value instance, perform element-wise power operation\n",
        "      out_data = np.power(self.data, other.data)\n",
        "      out = Value(out_data, (self, other), f'**')\n",
        "\n",
        "      def _backward():\n",
        "        # Calculate the gradients using the chain rule and update the gradients of the operands\n",
        "        self.grad = self.grad + np.multiply(np.multiply(other.data, np.power(self.data, other.data - 1)), out.grad)\n",
        "        other.grad = other.grad + np.multiply(np.log(self.data), out.grad)\n",
        "\n",
        "      out._backward = _backward\n",
        "      return out\n",
        "    else:\n",
        "      raise TypeError(\"Unsupported operand type(s) for **: 'Value' and '{}'\".format(type(other).__name__))\n",
        "\n",
        "  def __radd__(self, other):\n",
        "    # Perform right addition by the Value instance\n",
        "    return np.add(self, other)\n",
        "\n",
        "  def __rmul__(self, other):\n",
        "    # Perform right multiplication by the Value instance\n",
        "    return np.multiply(self, other)\n",
        "\n",
        "\n",
        "  def __truediv__(self, other):\n",
        "    # Perform true division by the Value instance\n",
        "    return np.multiply(self, other**-1)\n",
        "\n",
        "\n",
        "  def __neg__(self):\n",
        "    # Perform negation of the Value instance\n",
        "    return np.multiply(self, -1)\n",
        "\n",
        "\n",
        "  def __sub__(self, other):\n",
        "    # Perform subtraction of a Value instance\n",
        "    return np.add(self, (-other))\n",
        "\n",
        "\n",
        "  def exp(self):\n",
        "    # Compute the element-wise exponential of the Value instance\n",
        "    x = self.data\n",
        "    out = Value(np.exp(x), (self, ), 'exp')\n",
        "\n",
        "    def _backward():\n",
        "        # Calculate the gradients using the chain rule\n",
        "        self.grad = self.grad + np.multiply(out.data, out.grad)\n",
        "\n",
        "    # Assign the backward function to the new Value instance\n",
        "    out._backward = _backward\n",
        "    return out\n",
        "\n",
        "\n",
        "  def tanh(self):\n",
        "    # Compute the element-wise hyperbolic tangent of the Value instance\n",
        "    x = self.data\n",
        "    t = np.tanh(x)\n",
        "    out = Value(t, (self, ), 'tanh')\n",
        "\n",
        "    def _backward():\n",
        "        # Calculate the gradients using the chain rule\n",
        "        self.grad = self.grad + np.multiply((1 - t**2), out.grad)\n",
        "\n",
        "    # Assign the backward function to the new Value instance\n",
        "    out._backward = _backward\n",
        "    return out\n",
        "\n",
        "\n",
        "  def backward(self):\n",
        "    # Perform backpropagation to compute gradients\n",
        "    topo = []\n",
        "    visited = set()\n",
        "\n",
        "    def build_topo(v):\n",
        "        if v not in visited:\n",
        "            visited.add(v)\n",
        "            for child in v._prev:\n",
        "                build_topo(child)\n",
        "            topo.append(v)\n",
        "\n",
        "    # Build the topological order of nodes\n",
        "    build_topo(self)\n",
        "\n",
        "    # Set the gradient of the output to ones (assuming scalar loss)\n",
        "    self.grad = np.ones_like(self.data)\n",
        "\n",
        "    # Perform backward pass through the nodes in reverse topological order\n",
        "    for node in reversed(topo):\n",
        "        node._backward()\n",
        "\n",
        "\n",
        "  def __repr__(self):\n",
        "    # String representation of the Value instance\n",
        "    return f\"Value(data={self.data})\""
      ],
      "metadata": {
        "id": "V1WaNmBccejW"
      },
      "execution_count": 1,
      "outputs": []
    },
    {
      "cell_type": "code",
      "source": [
        "from graphviz import Digraph\n",
        "\n",
        "def trace(root):\n",
        "    # Initialize empty sets for nodes and edges\n",
        "    nodes, edges = set(), set()\n",
        "\n",
        "    # Recursive function to build the set of nodes and edges\n",
        "    def build(v):\n",
        "        # If the current node is not in the set of nodes\n",
        "        if v not in nodes:\n",
        "            # Add the current node to the set of nodes\n",
        "            nodes.add(v)\n",
        "            \n",
        "            # Iterate over the previous nodes (parents) of the current node\n",
        "            for child in v._prev:\n",
        "                # Add an edge from the previous node to the current node\n",
        "                edges.add((child, v))\n",
        "                \n",
        "                # Recursively call build() on the previous node\n",
        "                build(child)\n",
        "\n",
        "    # Start building the set of nodes and edges from the root node\n",
        "    build(root)\n",
        "\n",
        "    # Return the set of nodes and edges\n",
        "    return nodes, edges\n",
        "\n",
        "def draw_dot(root):\n",
        "    # Create a Digraph object with SVG format and set the graph attribute 'rankdir' to 'LR'\n",
        "    dot = Digraph(format='svg', graph_attr={'rankdir': 'LR'})\n",
        "\n",
        "    # Retrieve the nodes and edges from the root\n",
        "    nodes, edges = trace(root)\n",
        "\n",
        "    # Iterate over the nodes\n",
        "    for n in nodes:\n",
        "        uid = str(id(n))\n",
        "        # Convert the data array to a string representation\n",
        "        data_str = np.array2string(n.data, precision=4, separator=',', suppress_small=True)\n",
        "        # Convert the gradient array to a string representation\n",
        "        grad_str = np.array2string(n.grad, precision=4, separator=',', suppress_small=True)\n",
        "        # Create the label for the node using the node's label, data, and gradient strings\n",
        "        label = \"{ %s | data %s | grad %s }\" % (n.label, data_str, grad_str)\n",
        "        # Add a node to the graph with a unique ID, label, and shape 'record'\n",
        "        dot.node(name=uid, label=label, shape='record')\n",
        "        \n",
        "        # If the node has an operation associated with it\n",
        "        if n._op:\n",
        "            # Add a node to the graph with a unique ID based on the node's ID and operation, and label it with the operation\n",
        "            dot.node(name=uid + n._op, label=n._op)\n",
        "            # Add an edge from the operation node to the current node\n",
        "            dot.edge(uid + n._op, uid)\n",
        "\n",
        "    # Iterate over the edges\n",
        "    for n1, n2 in edges:\n",
        "        # Add an edge from the first node's ID to the second node's ID concatenated with the operation name\n",
        "        dot.edge(str(id(n1)), str(id(n2)) + n2._op)\n",
        "\n",
        "    # Return the generated graph\n",
        "    return dot"
      ],
      "metadata": {
        "id": "fd168_ch2LSO"
      },
      "execution_count": 2,
      "outputs": []
    },
    {
      "cell_type": "code",
      "source": [
        "# constructing and visualizing the computation graph for a simple neural network forward pass\n",
        "\n",
        "# inputs x1, x2\n",
        "x1 = Value([[2.0, 2.0], [2.0, 2.0]], label=\"x1\")\n",
        "x2 = Value([[0.0, 0.0], [0.0, 0.0]], label=\"x2\")\n",
        "\n",
        "# weights w1, w2\n",
        "w1 = Value([[-3.0, -3.0], [-3.0, -3.0]], label=\"w1\")\n",
        "w2 = Value([[1.0, 1.0], [1.0, 1.0]], label=\"w2\")\n",
        "\n",
        "# bias of the neurons\n",
        "b = Value([[6.8813735870195432, 6.8813735870195432], [6.8813735870195432, 6.8813735870195432]], label=\"b\")\n",
        "\n",
        "# x1*w1 + x2*w2 + b\n",
        "x1w1 = x1*w1; x1w1.label = 'x1*w1'\n",
        "x2w2 = x2*w2; x2w2.label = 'x2*w2'\n",
        "x1w1x2w2 = x1w1 + x2w2; x1w1x2w2.label = 'x1w1 + x2w2'\n",
        "n = x1w1x2w2 + b; n.label = 'n'\n",
        "\n",
        "# apply the hyperbolic tangent function to n\n",
        "o = n.tanh(); o.label = 'o'\n",
        "\n",
        "# visualize the computation graph\n",
        "draw_dot(o)"
      ],
      "metadata": {
        "colab": {
          "base_uri": "https://localhost:8080/",
          "height": 321
        },
        "id": "A4-4na2ILMAh",
        "outputId": "0954ceec-a736-4c29-e41c-30060f05b1f4"
      },
      "execution_count": 3,
      "outputs": [
        {
          "output_type": "execute_result",
          "data": {
            "image/svg+xml": "<?xml version=\"1.0\" encoding=\"UTF-8\" standalone=\"no\"?>\n<!DOCTYPE svg PUBLIC \"-//W3C//DTD SVG 1.1//EN\"\n \"http://www.w3.org/Graphics/SVG/1.1/DTD/svg11.dtd\">\n<!-- Generated by graphviz version 2.43.0 (0)\n -->\n<!-- Title: %3 Pages: 1 -->\n<svg width=\"2302pt\" height=\"210pt\"\n viewBox=\"0.00 0.00 2302.00 210.00\" xmlns=\"http://www.w3.org/2000/svg\" xmlns:xlink=\"http://www.w3.org/1999/xlink\">\n<g id=\"graph0\" class=\"graph\" transform=\"scale(1 1) rotate(0) translate(4 206)\">\n<title>%3</title>\n<polygon fill=\"white\" stroke=\"transparent\" points=\"-4,4 -4,-206 2298,-206 2298,4 -4,4\"/>\n<!-- 140443869152832 -->\n<g id=\"node1\" class=\"node\">\n<title>140443869152832</title>\n<polygon fill=\"none\" stroke=\"black\" points=\"0,-165.5 0,-201.5 306,-201.5 306,-165.5 0,-165.5\"/>\n<text text-anchor=\"middle\" x=\"16.5\" y=\"-179.8\" font-family=\"Times,serif\" font-size=\"14.00\">w1</text>\n<polyline fill=\"none\" stroke=\"black\" points=\"33,-165.5 33,-201.5 \"/>\n<text text-anchor=\"middle\" x=\"105.5\" y=\"-179.8\" font-family=\"Times,serif\" font-size=\"14.00\">data [[&#45;3.,&#45;3.], [&#45;3.,&#45;3.]]</text>\n<polyline fill=\"none\" stroke=\"black\" points=\"178,-165.5 178,-201.5 \"/>\n<text text-anchor=\"middle\" x=\"242\" y=\"-179.8\" font-family=\"Times,serif\" font-size=\"14.00\">grad [[0.,0.], [0.,0.]]</text>\n</g>\n<!-- 140443869435776* -->\n<g id=\"node14\" class=\"node\">\n<title>140443869435776*</title>\n<ellipse fill=\"none\" stroke=\"black\" cx=\"369\" cy=\"-128.5\" rx=\"27\" ry=\"18\"/>\n<text text-anchor=\"middle\" x=\"369\" y=\"-124.8\" font-family=\"Times,serif\" font-size=\"14.00\">*</text>\n</g>\n<!-- 140443869152832&#45;&gt;140443869435776* -->\n<g id=\"edge11\" class=\"edge\">\n<title>140443869152832&#45;&gt;140443869435776*</title>\n<path fill=\"none\" stroke=\"black\" d=\"M272.52,-165.42C283.93,-162.79 295.25,-159.83 306,-156.5 316.77,-153.17 328.14,-148.43 338.15,-143.79\"/>\n<polygon fill=\"black\" stroke=\"black\" points=\"339.76,-146.9 347.27,-139.43 336.74,-140.58 339.76,-146.9\"/>\n</g>\n<!-- 140443869441632 -->\n<g id=\"node2\" class=\"node\">\n<title>140443869441632</title>\n<polygon fill=\"none\" stroke=\"black\" points=\"894.5,-82.5 894.5,-118.5 1259.5,-118.5 1259.5,-82.5 894.5,-82.5\"/>\n<text text-anchor=\"middle\" x=\"940.5\" y=\"-96.8\" font-family=\"Times,serif\" font-size=\"14.00\">x1w1 + x2w2</text>\n<polyline fill=\"none\" stroke=\"black\" points=\"986.5,-82.5 986.5,-118.5 \"/>\n<text text-anchor=\"middle\" x=\"1059\" y=\"-96.8\" font-family=\"Times,serif\" font-size=\"14.00\">data [[&#45;6.,&#45;6.], [&#45;6.,&#45;6.]]</text>\n<polyline fill=\"none\" stroke=\"black\" points=\"1131.5,-82.5 1131.5,-118.5 \"/>\n<text text-anchor=\"middle\" x=\"1195.5\" y=\"-96.8\" font-family=\"Times,serif\" font-size=\"14.00\">grad [[0.,0.], [0.,0.]]</text>\n</g>\n<!-- 140443869441728+ -->\n<g id=\"node9\" class=\"node\">\n<title>140443869441728+</title>\n<ellipse fill=\"none\" stroke=\"black\" cx=\"1333\" cy=\"-72.5\" rx=\"27\" ry=\"18\"/>\n<text text-anchor=\"middle\" x=\"1333\" y=\"-68.8\" font-family=\"Times,serif\" font-size=\"14.00\">+</text>\n</g>\n<!-- 140443869441632&#45;&gt;140443869441728+ -->\n<g id=\"edge10\" class=\"edge\">\n<title>140443869441632&#45;&gt;140443869441728+</title>\n<path fill=\"none\" stroke=\"black\" d=\"M1241.38,-82.49C1261.88,-80.23 1281,-78.12 1296.34,-76.43\"/>\n<polygon fill=\"black\" stroke=\"black\" points=\"1296.77,-79.9 1306.33,-75.33 1296,-72.95 1296.77,-79.9\"/>\n</g>\n<!-- 140443869441632+ -->\n<g id=\"node3\" class=\"node\">\n<title>140443869441632+</title>\n<ellipse fill=\"none\" stroke=\"black\" cx=\"821\" cy=\"-100.5\" rx=\"27\" ry=\"18\"/>\n<text text-anchor=\"middle\" x=\"821\" y=\"-96.8\" font-family=\"Times,serif\" font-size=\"14.00\">+</text>\n</g>\n<!-- 140443869441632+&#45;&gt;140443869441632 -->\n<g id=\"edge1\" class=\"edge\">\n<title>140443869441632+&#45;&gt;140443869441632</title>\n<path fill=\"none\" stroke=\"black\" d=\"M848.23,-100.5C858.22,-100.5 870.54,-100.5 884.23,-100.5\"/>\n<polygon fill=\"black\" stroke=\"black\" points=\"884.43,-104 894.43,-100.5 884.43,-97 884.43,-104\"/>\n</g>\n<!-- 140443869444704 -->\n<g id=\"node4\" class=\"node\">\n<title>140443869444704</title>\n<polygon fill=\"none\" stroke=\"black\" points=\"1908,-54.5 1908,-90.5 2294,-90.5 2294,-54.5 1908,-54.5\"/>\n<text text-anchor=\"middle\" x=\"1919.5\" y=\"-68.8\" font-family=\"Times,serif\" font-size=\"14.00\">o</text>\n<polyline fill=\"none\" stroke=\"black\" points=\"1931,-54.5 1931,-90.5 \"/>\n<text text-anchor=\"middle\" x=\"2048.5\" y=\"-68.8\" font-family=\"Times,serif\" font-size=\"14.00\">data [[0.7071,0.7071], [0.7071,0.7071]]</text>\n<polyline fill=\"none\" stroke=\"black\" points=\"2166,-54.5 2166,-90.5 \"/>\n<text text-anchor=\"middle\" x=\"2230\" y=\"-68.8\" font-family=\"Times,serif\" font-size=\"14.00\">grad [[0.,0.], [0.,0.]]</text>\n</g>\n<!-- 140443869444704tanh -->\n<g id=\"node5\" class=\"node\">\n<title>140443869444704tanh</title>\n<ellipse fill=\"none\" stroke=\"black\" cx=\"1845\" cy=\"-72.5\" rx=\"27\" ry=\"18\"/>\n<text text-anchor=\"middle\" x=\"1845\" y=\"-68.8\" font-family=\"Times,serif\" font-size=\"14.00\">tanh</text>\n</g>\n<!-- 140443869444704tanh&#45;&gt;140443869444704 -->\n<g id=\"edge2\" class=\"edge\">\n<title>140443869444704tanh&#45;&gt;140443869444704</title>\n<path fill=\"none\" stroke=\"black\" d=\"M1872.23,-72.5C1879.56,-72.5 1888.15,-72.5 1897.62,-72.5\"/>\n<polygon fill=\"black\" stroke=\"black\" points=\"1897.79,-76 1907.79,-72.5 1897.79,-69 1897.79,-76\"/>\n</g>\n<!-- 140443869151872 -->\n<g id=\"node6\" class=\"node\">\n<title>140443869151872</title>\n<polygon fill=\"none\" stroke=\"black\" points=\"884,-27.5 884,-63.5 1270,-63.5 1270,-27.5 884,-27.5\"/>\n<text text-anchor=\"middle\" x=\"895.5\" y=\"-41.8\" font-family=\"Times,serif\" font-size=\"14.00\">b</text>\n<polyline fill=\"none\" stroke=\"black\" points=\"907,-27.5 907,-63.5 \"/>\n<text text-anchor=\"middle\" x=\"1024.5\" y=\"-41.8\" font-family=\"Times,serif\" font-size=\"14.00\">data [[6.8814,6.8814], [6.8814,6.8814]]</text>\n<polyline fill=\"none\" stroke=\"black\" points=\"1142,-27.5 1142,-63.5 \"/>\n<text text-anchor=\"middle\" x=\"1206\" y=\"-41.8\" font-family=\"Times,serif\" font-size=\"14.00\">grad [[0.,0.], [0.,0.]]</text>\n</g>\n<!-- 140443869151872&#45;&gt;140443869441728+ -->\n<g id=\"edge8\" class=\"edge\">\n<title>140443869151872&#45;&gt;140443869441728+</title>\n<path fill=\"none\" stroke=\"black\" d=\"M1247.42,-63.51C1265.37,-65.42 1282.05,-67.19 1295.76,-68.65\"/>\n<polygon fill=\"black\" stroke=\"black\" points=\"1295.78,-72.17 1306.1,-69.75 1296.52,-65.21 1295.78,-72.17\"/>\n</g>\n<!-- 140443869161568 -->\n<g id=\"node7\" class=\"node\">\n<title>140443869161568</title>\n<polygon fill=\"none\" stroke=\"black\" points=\"10.5,-55.5 10.5,-91.5 295.5,-91.5 295.5,-55.5 10.5,-55.5\"/>\n<text text-anchor=\"middle\" x=\"25.5\" y=\"-69.8\" font-family=\"Times,serif\" font-size=\"14.00\">x2</text>\n<polyline fill=\"none\" stroke=\"black\" points=\"40.5,-55.5 40.5,-91.5 \"/>\n<text text-anchor=\"middle\" x=\"104\" y=\"-69.8\" font-family=\"Times,serif\" font-size=\"14.00\">data [[0.,0.], [0.,0.]]</text>\n<polyline fill=\"none\" stroke=\"black\" points=\"167.5,-55.5 167.5,-91.5 \"/>\n<text text-anchor=\"middle\" x=\"231.5\" y=\"-69.8\" font-family=\"Times,serif\" font-size=\"14.00\">grad [[0.,0.], [0.,0.]]</text>\n</g>\n<!-- 140443869445424* -->\n<g id=\"node12\" class=\"node\">\n<title>140443869445424*</title>\n<ellipse fill=\"none\" stroke=\"black\" cx=\"369\" cy=\"-73.5\" rx=\"27\" ry=\"18\"/>\n<text text-anchor=\"middle\" x=\"369\" y=\"-69.8\" font-family=\"Times,serif\" font-size=\"14.00\">*</text>\n</g>\n<!-- 140443869161568&#45;&gt;140443869445424* -->\n<g id=\"edge6\" class=\"edge\">\n<title>140443869161568&#45;&gt;140443869445424*</title>\n<path fill=\"none\" stroke=\"black\" d=\"M295.55,-73.5C308.72,-73.5 321.12,-73.5 331.8,-73.5\"/>\n<polygon fill=\"black\" stroke=\"black\" points=\"331.88,-77 341.88,-73.5 331.88,-70 331.88,-77\"/>\n</g>\n<!-- 140443869441728 -->\n<g id=\"node8\" class=\"node\">\n<title>140443869441728</title>\n<polygon fill=\"none\" stroke=\"black\" points=\"1396,-54.5 1396,-90.5 1782,-90.5 1782,-54.5 1396,-54.5\"/>\n<text text-anchor=\"middle\" x=\"1407.5\" y=\"-68.8\" font-family=\"Times,serif\" font-size=\"14.00\">n</text>\n<polyline fill=\"none\" stroke=\"black\" points=\"1419,-54.5 1419,-90.5 \"/>\n<text text-anchor=\"middle\" x=\"1536.5\" y=\"-68.8\" font-family=\"Times,serif\" font-size=\"14.00\">data [[0.8814,0.8814], [0.8814,0.8814]]</text>\n<polyline fill=\"none\" stroke=\"black\" points=\"1654,-54.5 1654,-90.5 \"/>\n<text text-anchor=\"middle\" x=\"1718\" y=\"-68.8\" font-family=\"Times,serif\" font-size=\"14.00\">grad [[0.,0.], [0.,0.]]</text>\n</g>\n<!-- 140443869441728&#45;&gt;140443869444704tanh -->\n<g id=\"edge9\" class=\"edge\">\n<title>140443869441728&#45;&gt;140443869444704tanh</title>\n<path fill=\"none\" stroke=\"black\" d=\"M1782.19,-72.5C1791.45,-72.5 1800.08,-72.5 1807.77,-72.5\"/>\n<polygon fill=\"black\" stroke=\"black\" points=\"1808,-76 1818,-72.5 1808,-69 1808,-76\"/>\n</g>\n<!-- 140443869441728+&#45;&gt;140443869441728 -->\n<g id=\"edge3\" class=\"edge\">\n<title>140443869441728+&#45;&gt;140443869441728</title>\n<path fill=\"none\" stroke=\"black\" d=\"M1360.23,-72.5C1367.56,-72.5 1376.15,-72.5 1385.62,-72.5\"/>\n<polygon fill=\"black\" stroke=\"black\" points=\"1385.79,-76 1395.79,-72.5 1385.79,-69 1385.79,-76\"/>\n</g>\n<!-- 140443869159648 -->\n<g id=\"node10\" class=\"node\">\n<title>140443869159648</title>\n<polygon fill=\"none\" stroke=\"black\" points=\"9,-0.5 9,-36.5 297,-36.5 297,-0.5 9,-0.5\"/>\n<text text-anchor=\"middle\" x=\"25.5\" y=\"-14.8\" font-family=\"Times,serif\" font-size=\"14.00\">w2</text>\n<polyline fill=\"none\" stroke=\"black\" points=\"42,-0.5 42,-36.5 \"/>\n<text text-anchor=\"middle\" x=\"105.5\" y=\"-14.8\" font-family=\"Times,serif\" font-size=\"14.00\">data [[1.,1.], [1.,1.]]</text>\n<polyline fill=\"none\" stroke=\"black\" points=\"169,-0.5 169,-36.5 \"/>\n<text text-anchor=\"middle\" x=\"233\" y=\"-14.8\" font-family=\"Times,serif\" font-size=\"14.00\">grad [[0.,0.], [0.,0.]]</text>\n</g>\n<!-- 140443869159648&#45;&gt;140443869445424* -->\n<g id=\"edge13\" class=\"edge\">\n<title>140443869159648&#45;&gt;140443869445424*</title>\n<path fill=\"none\" stroke=\"black\" d=\"M267.99,-36.56C280.91,-39.47 293.81,-42.78 306,-46.5 316.53,-49.72 327.66,-54.2 337.54,-58.59\"/>\n<polygon fill=\"black\" stroke=\"black\" points=\"336.39,-61.91 346.94,-62.89 339.3,-55.54 336.39,-61.91\"/>\n</g>\n<!-- 140443869445424 -->\n<g id=\"node11\" class=\"node\">\n<title>140443869445424</title>\n<polygon fill=\"none\" stroke=\"black\" points=\"441,-55.5 441,-91.5 749,-91.5 749,-55.5 441,-55.5\"/>\n<text text-anchor=\"middle\" x=\"467.5\" y=\"-69.8\" font-family=\"Times,serif\" font-size=\"14.00\">x2*w2</text>\n<polyline fill=\"none\" stroke=\"black\" points=\"494,-55.5 494,-91.5 \"/>\n<text text-anchor=\"middle\" x=\"557.5\" y=\"-69.8\" font-family=\"Times,serif\" font-size=\"14.00\">data [[0.,0.], [0.,0.]]</text>\n<polyline fill=\"none\" stroke=\"black\" points=\"621,-55.5 621,-91.5 \"/>\n<text text-anchor=\"middle\" x=\"685\" y=\"-69.8\" font-family=\"Times,serif\" font-size=\"14.00\">grad [[0.,0.], [0.,0.]]</text>\n</g>\n<!-- 140443869445424&#45;&gt;140443869441632+ -->\n<g id=\"edge12\" class=\"edge\">\n<title>140443869445424&#45;&gt;140443869441632+</title>\n<path fill=\"none\" stroke=\"black\" d=\"M745.41,-91.51C759.52,-93.21 772.74,-94.8 784.01,-96.16\"/>\n<polygon fill=\"black\" stroke=\"black\" points=\"783.83,-99.67 794.18,-97.39 784.67,-92.72 783.83,-99.67\"/>\n</g>\n<!-- 140443869445424*&#45;&gt;140443869445424 -->\n<g id=\"edge4\" class=\"edge\">\n<title>140443869445424*&#45;&gt;140443869445424</title>\n<path fill=\"none\" stroke=\"black\" d=\"M396.13,-73.5C405.79,-73.5 417.58,-73.5 430.53,-73.5\"/>\n<polygon fill=\"black\" stroke=\"black\" points=\"430.66,-77 440.66,-73.5 430.66,-70 430.66,-77\"/>\n</g>\n<!-- 140443869435776 -->\n<g id=\"node13\" class=\"node\">\n<title>140443869435776</title>\n<polygon fill=\"none\" stroke=\"black\" points=\"432,-110.5 432,-146.5 758,-146.5 758,-110.5 432,-110.5\"/>\n<text text-anchor=\"middle\" x=\"458.5\" y=\"-124.8\" font-family=\"Times,serif\" font-size=\"14.00\">x1*w1</text>\n<polyline fill=\"none\" stroke=\"black\" points=\"485,-110.5 485,-146.5 \"/>\n<text text-anchor=\"middle\" x=\"557.5\" y=\"-124.8\" font-family=\"Times,serif\" font-size=\"14.00\">data [[&#45;6.,&#45;6.], [&#45;6.,&#45;6.]]</text>\n<polyline fill=\"none\" stroke=\"black\" points=\"630,-110.5 630,-146.5 \"/>\n<text text-anchor=\"middle\" x=\"694\" y=\"-124.8\" font-family=\"Times,serif\" font-size=\"14.00\">grad [[0.,0.], [0.,0.]]</text>\n</g>\n<!-- 140443869435776&#45;&gt;140443869441632+ -->\n<g id=\"edge14\" class=\"edge\">\n<title>140443869435776&#45;&gt;140443869441632+</title>\n<path fill=\"none\" stroke=\"black\" d=\"M740.08,-110.49C756.27,-108.47 771.48,-106.56 784.2,-104.97\"/>\n<polygon fill=\"black\" stroke=\"black\" points=\"784.78,-108.43 794.27,-103.72 783.91,-101.48 784.78,-108.43\"/>\n</g>\n<!-- 140443869435776*&#45;&gt;140443869435776 -->\n<g id=\"edge5\" class=\"edge\">\n<title>140443869435776*&#45;&gt;140443869435776</title>\n<path fill=\"none\" stroke=\"black\" d=\"M396.13,-128.5C403.5,-128.5 412.11,-128.5 421.52,-128.5\"/>\n<polygon fill=\"black\" stroke=\"black\" points=\"421.62,-132 431.62,-128.5 421.62,-125 421.62,-132\"/>\n</g>\n<!-- 140443869438896 -->\n<g id=\"node15\" class=\"node\">\n<title>140443869438896</title>\n<polygon fill=\"none\" stroke=\"black\" points=\"10.5,-110.5 10.5,-146.5 295.5,-146.5 295.5,-110.5 10.5,-110.5\"/>\n<text text-anchor=\"middle\" x=\"25.5\" y=\"-124.8\" font-family=\"Times,serif\" font-size=\"14.00\">x1</text>\n<polyline fill=\"none\" stroke=\"black\" points=\"40.5,-110.5 40.5,-146.5 \"/>\n<text text-anchor=\"middle\" x=\"104\" y=\"-124.8\" font-family=\"Times,serif\" font-size=\"14.00\">data [[2.,2.], [2.,2.]]</text>\n<polyline fill=\"none\" stroke=\"black\" points=\"167.5,-110.5 167.5,-146.5 \"/>\n<text text-anchor=\"middle\" x=\"231.5\" y=\"-124.8\" font-family=\"Times,serif\" font-size=\"14.00\">grad [[0.,0.], [0.,0.]]</text>\n</g>\n<!-- 140443869438896&#45;&gt;140443869435776* -->\n<g id=\"edge7\" class=\"edge\">\n<title>140443869438896&#45;&gt;140443869435776*</title>\n<path fill=\"none\" stroke=\"black\" d=\"M295.55,-128.5C308.72,-128.5 321.12,-128.5 331.8,-128.5\"/>\n<polygon fill=\"black\" stroke=\"black\" points=\"331.88,-132 341.88,-128.5 331.88,-125 331.88,-132\"/>\n</g>\n</g>\n</svg>\n",
            "text/plain": [
              "<graphviz.graphs.Digraph at 0x7fbba2f2faf0>"
            ]
          },
          "metadata": {},
          "execution_count": 3
        }
      ]
    },
    {
      "cell_type": "code",
      "source": [
        "# perform backward propagation to compute gradients\n",
        "o.backward()\n",
        "\n",
        "# visualizing the updated computation graph\n",
        "draw_dot(o)"
      ],
      "metadata": {
        "colab": {
          "base_uri": "https://localhost:8080/",
          "height": 321
        },
        "id": "CX0Kr-4HMyfk",
        "outputId": "68f32faa-8efb-4b92-cd0c-ca359aa9a136"
      },
      "execution_count": 4,
      "outputs": [
        {
          "output_type": "execute_result",
          "data": {
            "image/svg+xml": "<?xml version=\"1.0\" encoding=\"UTF-8\" standalone=\"no\"?>\n<!DOCTYPE svg PUBLIC \"-//W3C//DTD SVG 1.1//EN\"\n \"http://www.w3.org/Graphics/SVG/1.1/DTD/svg11.dtd\">\n<!-- Generated by graphviz version 2.43.0 (0)\n -->\n<!-- Title: %3 Pages: 1 -->\n<svg width=\"2407pt\" height=\"210pt\"\n viewBox=\"0.00 0.00 2407.00 210.00\" xmlns=\"http://www.w3.org/2000/svg\" xmlns:xlink=\"http://www.w3.org/1999/xlink\">\n<g id=\"graph0\" class=\"graph\" transform=\"scale(1 1) rotate(0) translate(4 206)\">\n<title>%3</title>\n<polygon fill=\"white\" stroke=\"transparent\" points=\"-4,4 -4,-206 2403,-206 2403,4 -4,4\"/>\n<!-- 140443869152832 -->\n<g id=\"node1\" class=\"node\">\n<title>140443869152832</title>\n<polygon fill=\"none\" stroke=\"black\" points=\"12,-165.5 12,-201.5 318,-201.5 318,-165.5 12,-165.5\"/>\n<text text-anchor=\"middle\" x=\"28.5\" y=\"-179.8\" font-family=\"Times,serif\" font-size=\"14.00\">w1</text>\n<polyline fill=\"none\" stroke=\"black\" points=\"45,-165.5 45,-201.5 \"/>\n<text text-anchor=\"middle\" x=\"117.5\" y=\"-179.8\" font-family=\"Times,serif\" font-size=\"14.00\">data [[&#45;3.,&#45;3.], [&#45;3.,&#45;3.]]</text>\n<polyline fill=\"none\" stroke=\"black\" points=\"190,-165.5 190,-201.5 \"/>\n<text text-anchor=\"middle\" x=\"254\" y=\"-179.8\" font-family=\"Times,serif\" font-size=\"14.00\">grad [[1.,1.], [1.,1.]]</text>\n</g>\n<!-- 140443869435776* -->\n<g id=\"node14\" class=\"node\">\n<title>140443869435776*</title>\n<ellipse fill=\"none\" stroke=\"black\" cx=\"393\" cy=\"-128.5\" rx=\"27\" ry=\"18\"/>\n<text text-anchor=\"middle\" x=\"393\" y=\"-124.8\" font-family=\"Times,serif\" font-size=\"14.00\">*</text>\n</g>\n<!-- 140443869152832&#45;&gt;140443869435776* -->\n<g id=\"edge11\" class=\"edge\">\n<title>140443869152832&#45;&gt;140443869435776*</title>\n<path fill=\"none\" stroke=\"black\" d=\"M295.64,-165.41C307.35,-162.8 318.95,-159.84 330,-156.5 340.79,-153.24 352.16,-148.51 362.17,-143.87\"/>\n<polygon fill=\"black\" stroke=\"black\" points=\"363.79,-146.98 371.29,-139.5 360.76,-140.66 363.79,-146.98\"/>\n</g>\n<!-- 140443869441632 -->\n<g id=\"node2\" class=\"node\">\n<title>140443869441632</title>\n<polygon fill=\"none\" stroke=\"black\" points=\"945.5,-82.5 945.5,-118.5 1337.5,-118.5 1337.5,-82.5 945.5,-82.5\"/>\n<text text-anchor=\"middle\" x=\"991.5\" y=\"-96.8\" font-family=\"Times,serif\" font-size=\"14.00\">x1w1 + x2w2</text>\n<polyline fill=\"none\" stroke=\"black\" points=\"1037.5,-82.5 1037.5,-118.5 \"/>\n<text text-anchor=\"middle\" x=\"1110\" y=\"-96.8\" font-family=\"Times,serif\" font-size=\"14.00\">data [[&#45;6.,&#45;6.], [&#45;6.,&#45;6.]]</text>\n<polyline fill=\"none\" stroke=\"black\" points=\"1182.5,-82.5 1182.5,-118.5 \"/>\n<text text-anchor=\"middle\" x=\"1260\" y=\"-96.8\" font-family=\"Times,serif\" font-size=\"14.00\">grad [[0.5,0.5], [0.5,0.5]]</text>\n</g>\n<!-- 140443869441728+ -->\n<g id=\"node9\" class=\"node\">\n<title>140443869441728+</title>\n<ellipse fill=\"none\" stroke=\"black\" cx=\"1411\" cy=\"-72.5\" rx=\"27\" ry=\"18\"/>\n<text text-anchor=\"middle\" x=\"1411\" y=\"-68.8\" font-family=\"Times,serif\" font-size=\"14.00\">+</text>\n</g>\n<!-- 140443869441632&#45;&gt;140443869441728+ -->\n<g id=\"edge10\" class=\"edge\">\n<title>140443869441632&#45;&gt;140443869441728+</title>\n<path fill=\"none\" stroke=\"black\" d=\"M1314.56,-82.49C1336.86,-80.16 1357.6,-77.98 1374.02,-76.27\"/>\n<polygon fill=\"black\" stroke=\"black\" points=\"1374.57,-79.73 1384.15,-75.21 1373.84,-72.77 1374.57,-79.73\"/>\n</g>\n<!-- 140443869441632+ -->\n<g id=\"node3\" class=\"node\">\n<title>140443869441632+</title>\n<ellipse fill=\"none\" stroke=\"black\" cx=\"872\" cy=\"-100.5\" rx=\"27\" ry=\"18\"/>\n<text text-anchor=\"middle\" x=\"872\" y=\"-96.8\" font-family=\"Times,serif\" font-size=\"14.00\">+</text>\n</g>\n<!-- 140443869441632+&#45;&gt;140443869441632 -->\n<g id=\"edge1\" class=\"edge\">\n<title>140443869441632+&#45;&gt;140443869441632</title>\n<path fill=\"none\" stroke=\"black\" d=\"M899.14,-100.5C909.08,-100.5 921.35,-100.5 935.05,-100.5\"/>\n<polygon fill=\"black\" stroke=\"black\" points=\"935.27,-104 945.27,-100.5 935.27,-97 935.27,-104\"/>\n</g>\n<!-- 140443869444704 -->\n<g id=\"node4\" class=\"node\">\n<title>140443869444704</title>\n<polygon fill=\"none\" stroke=\"black\" points=\"2013,-54.5 2013,-90.5 2399,-90.5 2399,-54.5 2013,-54.5\"/>\n<text text-anchor=\"middle\" x=\"2024.5\" y=\"-68.8\" font-family=\"Times,serif\" font-size=\"14.00\">o</text>\n<polyline fill=\"none\" stroke=\"black\" points=\"2036,-54.5 2036,-90.5 \"/>\n<text text-anchor=\"middle\" x=\"2153.5\" y=\"-68.8\" font-family=\"Times,serif\" font-size=\"14.00\">data [[0.7071,0.7071], [0.7071,0.7071]]</text>\n<polyline fill=\"none\" stroke=\"black\" points=\"2271,-54.5 2271,-90.5 \"/>\n<text text-anchor=\"middle\" x=\"2335\" y=\"-68.8\" font-family=\"Times,serif\" font-size=\"14.00\">grad [[1.,1.], [1.,1.]]</text>\n</g>\n<!-- 140443869444704tanh -->\n<g id=\"node5\" class=\"node\">\n<title>140443869444704tanh</title>\n<ellipse fill=\"none\" stroke=\"black\" cx=\"1950\" cy=\"-72.5\" rx=\"27\" ry=\"18\"/>\n<text text-anchor=\"middle\" x=\"1950\" y=\"-68.8\" font-family=\"Times,serif\" font-size=\"14.00\">tanh</text>\n</g>\n<!-- 140443869444704tanh&#45;&gt;140443869444704 -->\n<g id=\"edge2\" class=\"edge\">\n<title>140443869444704tanh&#45;&gt;140443869444704</title>\n<path fill=\"none\" stroke=\"black\" d=\"M1977.23,-72.5C1984.56,-72.5 1993.15,-72.5 2002.62,-72.5\"/>\n<polygon fill=\"black\" stroke=\"black\" points=\"2002.79,-76 2012.79,-72.5 2002.79,-69 2002.79,-76\"/>\n</g>\n<!-- 140443869151872 -->\n<g id=\"node6\" class=\"node\">\n<title>140443869151872</title>\n<polygon fill=\"none\" stroke=\"black\" points=\"935,-27.5 935,-63.5 1348,-63.5 1348,-27.5 935,-27.5\"/>\n<text text-anchor=\"middle\" x=\"946.5\" y=\"-41.8\" font-family=\"Times,serif\" font-size=\"14.00\">b</text>\n<polyline fill=\"none\" stroke=\"black\" points=\"958,-27.5 958,-63.5 \"/>\n<text text-anchor=\"middle\" x=\"1075.5\" y=\"-41.8\" font-family=\"Times,serif\" font-size=\"14.00\">data [[6.8814,6.8814], [6.8814,6.8814]]</text>\n<polyline fill=\"none\" stroke=\"black\" points=\"1193,-27.5 1193,-63.5 \"/>\n<text text-anchor=\"middle\" x=\"1270.5\" y=\"-41.8\" font-family=\"Times,serif\" font-size=\"14.00\">grad [[0.5,0.5], [0.5,0.5]]</text>\n</g>\n<!-- 140443869151872&#45;&gt;140443869441728+ -->\n<g id=\"edge8\" class=\"edge\">\n<title>140443869151872&#45;&gt;140443869441728+</title>\n<path fill=\"none\" stroke=\"black\" d=\"M1320.93,-63.51C1340.82,-65.52 1359.23,-67.38 1374.08,-68.87\"/>\n<polygon fill=\"black\" stroke=\"black\" points=\"1373.94,-72.38 1384.24,-69.9 1374.64,-65.41 1373.94,-72.38\"/>\n</g>\n<!-- 140443869161568 -->\n<g id=\"node7\" class=\"node\">\n<title>140443869161568</title>\n<polygon fill=\"none\" stroke=\"black\" points=\"9,-55.5 9,-91.5 321,-91.5 321,-55.5 9,-55.5\"/>\n<text text-anchor=\"middle\" x=\"24\" y=\"-69.8\" font-family=\"Times,serif\" font-size=\"14.00\">x2</text>\n<polyline fill=\"none\" stroke=\"black\" points=\"39,-55.5 39,-91.5 \"/>\n<text text-anchor=\"middle\" x=\"102.5\" y=\"-69.8\" font-family=\"Times,serif\" font-size=\"14.00\">data [[0.,0.], [0.,0.]]</text>\n<polyline fill=\"none\" stroke=\"black\" points=\"166,-55.5 166,-91.5 \"/>\n<text text-anchor=\"middle\" x=\"243.5\" y=\"-69.8\" font-family=\"Times,serif\" font-size=\"14.00\">grad [[0.5,0.5], [0.5,0.5]]</text>\n</g>\n<!-- 140443869445424* -->\n<g id=\"node12\" class=\"node\">\n<title>140443869445424*</title>\n<ellipse fill=\"none\" stroke=\"black\" cx=\"393\" cy=\"-73.5\" rx=\"27\" ry=\"18\"/>\n<text text-anchor=\"middle\" x=\"393\" y=\"-69.8\" font-family=\"Times,serif\" font-size=\"14.00\">*</text>\n</g>\n<!-- 140443869161568&#45;&gt;140443869445424* -->\n<g id=\"edge6\" class=\"edge\">\n<title>140443869161568&#45;&gt;140443869445424*</title>\n<path fill=\"none\" stroke=\"black\" d=\"M321.11,-73.5C333.8,-73.5 345.67,-73.5 355.92,-73.5\"/>\n<polygon fill=\"black\" stroke=\"black\" points=\"355.99,-77 365.99,-73.5 355.99,-70 355.99,-77\"/>\n</g>\n<!-- 140443869441728 -->\n<g id=\"node8\" class=\"node\">\n<title>140443869441728</title>\n<polygon fill=\"none\" stroke=\"black\" points=\"1474,-54.5 1474,-90.5 1887,-90.5 1887,-54.5 1474,-54.5\"/>\n<text text-anchor=\"middle\" x=\"1485.5\" y=\"-68.8\" font-family=\"Times,serif\" font-size=\"14.00\">n</text>\n<polyline fill=\"none\" stroke=\"black\" points=\"1497,-54.5 1497,-90.5 \"/>\n<text text-anchor=\"middle\" x=\"1614.5\" y=\"-68.8\" font-family=\"Times,serif\" font-size=\"14.00\">data [[0.8814,0.8814], [0.8814,0.8814]]</text>\n<polyline fill=\"none\" stroke=\"black\" points=\"1732,-54.5 1732,-90.5 \"/>\n<text text-anchor=\"middle\" x=\"1809.5\" y=\"-68.8\" font-family=\"Times,serif\" font-size=\"14.00\">grad [[0.5,0.5], [0.5,0.5]]</text>\n</g>\n<!-- 140443869441728&#45;&gt;140443869444704tanh -->\n<g id=\"edge9\" class=\"edge\">\n<title>140443869441728&#45;&gt;140443869444704tanh</title>\n<path fill=\"none\" stroke=\"black\" d=\"M1887.29,-72.5C1896.5,-72.5 1905.06,-72.5 1912.69,-72.5\"/>\n<polygon fill=\"black\" stroke=\"black\" points=\"1912.83,-76 1922.83,-72.5 1912.83,-69 1912.83,-76\"/>\n</g>\n<!-- 140443869441728+&#45;&gt;140443869441728 -->\n<g id=\"edge3\" class=\"edge\">\n<title>140443869441728+&#45;&gt;140443869441728</title>\n<path fill=\"none\" stroke=\"black\" d=\"M1438.14,-72.5C1445.5,-72.5 1454.15,-72.5 1463.7,-72.5\"/>\n<polygon fill=\"black\" stroke=\"black\" points=\"1463.98,-76 1473.98,-72.5 1463.98,-69 1463.98,-76\"/>\n</g>\n<!-- 140443869159648 -->\n<g id=\"node10\" class=\"node\">\n<title>140443869159648</title>\n<polygon fill=\"none\" stroke=\"black\" points=\"21,-0.5 21,-36.5 309,-36.5 309,-0.5 21,-0.5\"/>\n<text text-anchor=\"middle\" x=\"37.5\" y=\"-14.8\" font-family=\"Times,serif\" font-size=\"14.00\">w2</text>\n<polyline fill=\"none\" stroke=\"black\" points=\"54,-0.5 54,-36.5 \"/>\n<text text-anchor=\"middle\" x=\"117.5\" y=\"-14.8\" font-family=\"Times,serif\" font-size=\"14.00\">data [[1.,1.], [1.,1.]]</text>\n<polyline fill=\"none\" stroke=\"black\" points=\"181,-0.5 181,-36.5 \"/>\n<text text-anchor=\"middle\" x=\"245\" y=\"-14.8\" font-family=\"Times,serif\" font-size=\"14.00\">grad [[0.,0.], [0.,0.]]</text>\n</g>\n<!-- 140443869159648&#45;&gt;140443869445424* -->\n<g id=\"edge13\" class=\"edge\">\n<title>140443869159648&#45;&gt;140443869445424*</title>\n<path fill=\"none\" stroke=\"black\" d=\"M290.75,-36.54C304.11,-39.44 317.41,-42.74 330,-46.5 340.66,-49.68 351.92,-54.2 361.87,-58.64\"/>\n<polygon fill=\"black\" stroke=\"black\" points=\"360.41,-61.82 370.96,-62.82 363.34,-55.46 360.41,-61.82\"/>\n</g>\n<!-- 140443869445424 -->\n<g id=\"node11\" class=\"node\">\n<title>140443869445424</title>\n<polygon fill=\"none\" stroke=\"black\" points=\"465,-55.5 465,-91.5 800,-91.5 800,-55.5 465,-55.5\"/>\n<text text-anchor=\"middle\" x=\"491.5\" y=\"-69.8\" font-family=\"Times,serif\" font-size=\"14.00\">x2*w2</text>\n<polyline fill=\"none\" stroke=\"black\" points=\"518,-55.5 518,-91.5 \"/>\n<text text-anchor=\"middle\" x=\"581.5\" y=\"-69.8\" font-family=\"Times,serif\" font-size=\"14.00\">data [[0.,0.], [0.,0.]]</text>\n<polyline fill=\"none\" stroke=\"black\" points=\"645,-55.5 645,-91.5 \"/>\n<text text-anchor=\"middle\" x=\"722.5\" y=\"-69.8\" font-family=\"Times,serif\" font-size=\"14.00\">grad [[0.5,0.5], [0.5,0.5]]</text>\n</g>\n<!-- 140443869445424&#45;&gt;140443869441632+ -->\n<g id=\"edge12\" class=\"edge\">\n<title>140443869445424&#45;&gt;140443869441632+</title>\n<path fill=\"none\" stroke=\"black\" d=\"M791.92,-91.51C807.71,-93.3 822.45,-94.98 834.82,-96.39\"/>\n<polygon fill=\"black\" stroke=\"black\" points=\"834.71,-99.9 845.05,-97.55 835.51,-92.94 834.71,-99.9\"/>\n</g>\n<!-- 140443869445424*&#45;&gt;140443869445424 -->\n<g id=\"edge4\" class=\"edge\">\n<title>140443869445424*&#45;&gt;140443869445424</title>\n<path fill=\"none\" stroke=\"black\" d=\"M420.32,-73.5C429.95,-73.5 441.69,-73.5 454.66,-73.5\"/>\n<polygon fill=\"black\" stroke=\"black\" points=\"454.81,-77 464.81,-73.5 454.81,-70 454.81,-77\"/>\n</g>\n<!-- 140443869435776 -->\n<g id=\"node13\" class=\"node\">\n<title>140443869435776</title>\n<polygon fill=\"none\" stroke=\"black\" points=\"456,-110.5 456,-146.5 809,-146.5 809,-110.5 456,-110.5\"/>\n<text text-anchor=\"middle\" x=\"482.5\" y=\"-124.8\" font-family=\"Times,serif\" font-size=\"14.00\">x1*w1</text>\n<polyline fill=\"none\" stroke=\"black\" points=\"509,-110.5 509,-146.5 \"/>\n<text text-anchor=\"middle\" x=\"581.5\" y=\"-124.8\" font-family=\"Times,serif\" font-size=\"14.00\">data [[&#45;6.,&#45;6.], [&#45;6.,&#45;6.]]</text>\n<polyline fill=\"none\" stroke=\"black\" points=\"654,-110.5 654,-146.5 \"/>\n<text text-anchor=\"middle\" x=\"731.5\" y=\"-124.8\" font-family=\"Times,serif\" font-size=\"14.00\">grad [[0.5,0.5], [0.5,0.5]]</text>\n</g>\n<!-- 140443869435776&#45;&gt;140443869441632+ -->\n<g id=\"edge14\" class=\"edge\">\n<title>140443869435776&#45;&gt;140443869441632+</title>\n<path fill=\"none\" stroke=\"black\" d=\"M786.26,-110.49C804.35,-108.36 821.28,-106.36 835.18,-104.72\"/>\n<polygon fill=\"black\" stroke=\"black\" points=\"835.67,-108.19 845.19,-103.54 834.85,-101.24 835.67,-108.19\"/>\n</g>\n<!-- 140443869435776*&#45;&gt;140443869435776 -->\n<g id=\"edge5\" class=\"edge\">\n<title>140443869435776*&#45;&gt;140443869435776</title>\n<path fill=\"none\" stroke=\"black\" d=\"M420.32,-128.5C427.67,-128.5 436.26,-128.5 445.69,-128.5\"/>\n<polygon fill=\"black\" stroke=\"black\" points=\"445.79,-132 455.79,-128.5 445.79,-125 445.79,-132\"/>\n</g>\n<!-- 140443869438896 -->\n<g id=\"node15\" class=\"node\">\n<title>140443869438896</title>\n<polygon fill=\"none\" stroke=\"black\" points=\"0,-110.5 0,-146.5 330,-146.5 330,-110.5 0,-110.5\"/>\n<text text-anchor=\"middle\" x=\"15\" y=\"-124.8\" font-family=\"Times,serif\" font-size=\"14.00\">x1</text>\n<polyline fill=\"none\" stroke=\"black\" points=\"30,-110.5 30,-146.5 \"/>\n<text text-anchor=\"middle\" x=\"93.5\" y=\"-124.8\" font-family=\"Times,serif\" font-size=\"14.00\">data [[2.,2.], [2.,2.]]</text>\n<polyline fill=\"none\" stroke=\"black\" points=\"157,-110.5 157,-146.5 \"/>\n<text text-anchor=\"middle\" x=\"243.5\" y=\"-124.8\" font-family=\"Times,serif\" font-size=\"14.00\">grad [[&#45;1.5,&#45;1.5], [&#45;1.5,&#45;1.5]]</text>\n</g>\n<!-- 140443869438896&#45;&gt;140443869435776* -->\n<g id=\"edge7\" class=\"edge\">\n<title>140443869438896&#45;&gt;140443869435776*</title>\n<path fill=\"none\" stroke=\"black\" d=\"M330.24,-128.5C339.36,-128.5 347.92,-128.5 355.59,-128.5\"/>\n<polygon fill=\"black\" stroke=\"black\" points=\"355.8,-132 365.8,-128.5 355.8,-125 355.8,-132\"/>\n</g>\n</g>\n</svg>\n",
            "text/plain": [
              "<graphviz.graphs.Digraph at 0x7fbba2f42530>"
            ]
          },
          "metadata": {},
          "execution_count": 4
        }
      ]
    },
    {
      "cell_type": "code",
      "source": [
        "# constructing and visualizing the computation graph for a neural network forward pass and performing backward propagation\n",
        "\n",
        "# inputs x1,x2\n",
        "x1 = Value(2.0, label=\"x1\")\n",
        "x2 = Value(0.0, label=\"x2\")\n",
        "\n",
        "# weights w1, w2\n",
        "w1 = Value(-3.0, label=\"w1\")\n",
        "w2 = Value(1.0, label=\"w2\")\n",
        "\n",
        "# bias of the neurons\n",
        "b = Value(6.8813735870195432, label=\"b\")\n",
        "\n",
        "# x1*w1 + x2*w2 + b\n",
        "x1w1 = x1*w1; x1w1.label = 'x1*w1'\n",
        "x2w2 = x2*w2; x2w2.label = 'x2*w2'\n",
        "x1w1x2w2 = x1w1 + x2w2; x1w1x2w2.label = 'x1w1 + x2w2'\n",
        "n = x1w1x2w2 + b; n.label = 'n'\n",
        "\n",
        "# break tanh() into the following expression (hyperbolic tangent)\n",
        "\n",
        "# computes the value of 'e' by taking the exponential function of the expression '2*n'\n",
        "e = (2*n).exp(); e.label = 'e'\n",
        "# computes the value of 'o' using the values of 'e' & subtracts 1 from 'e' and divides it by 'e' plus 1, following a mathematical expression\n",
        "o = (e - 1) / (e + 1); o.label = 'o'\n",
        "\n",
        "# perform backward propagation to compute gradients\n",
        "o.backward()\n",
        "\n",
        "# visualizing the updated computation graph\n",
        "draw_dot(o)"
      ],
      "metadata": {
        "colab": {
          "base_uri": "https://localhost:8080/",
          "height": 321
        },
        "id": "8td2h163Ohv8",
        "outputId": "4eea866f-9483-4ccb-949e-c1c9ef1c4ad0"
      },
      "execution_count": 5,
      "outputs": [
        {
          "output_type": "execute_result",
          "data": {
            "image/svg+xml": "<?xml version=\"1.0\" encoding=\"UTF-8\" standalone=\"no\"?>\n<!DOCTYPE svg PUBLIC \"-//W3C//DTD SVG 1.1//EN\"\n \"http://www.w3.org/Graphics/SVG/1.1/DTD/svg11.dtd\">\n<!-- Generated by graphviz version 2.43.0 (0)\n -->\n<!-- Title: %3 Pages: 1 -->\n<svg width=\"2722pt\" height=\"210pt\"\n viewBox=\"0.00 0.00 2722.00 210.00\" xmlns=\"http://www.w3.org/2000/svg\" xmlns:xlink=\"http://www.w3.org/1999/xlink\">\n<g id=\"graph0\" class=\"graph\" transform=\"scale(1 1) rotate(0) translate(4 206)\">\n<title>%3</title>\n<polygon fill=\"white\" stroke=\"transparent\" points=\"-4,4 -4,-206 2718,-206 2718,4 -4,4\"/>\n<!-- 140443869441536 -->\n<g id=\"node1\" class=\"node\">\n<title>140443869441536</title>\n<polygon fill=\"none\" stroke=\"black\" points=\"597.5,-137.5 597.5,-173.5 762.5,-173.5 762.5,-137.5 597.5,-137.5\"/>\n<text text-anchor=\"middle\" x=\"609\" y=\"-151.8\" font-family=\"Times,serif\" font-size=\"14.00\">b</text>\n<polyline fill=\"none\" stroke=\"black\" points=\"620.5,-137.5 620.5,-173.5 \"/>\n<text text-anchor=\"middle\" x=\"660.5\" y=\"-151.8\" font-family=\"Times,serif\" font-size=\"14.00\">data 6.8814</text>\n<polyline fill=\"none\" stroke=\"black\" points=\"700.5,-137.5 700.5,-173.5 \"/>\n<text text-anchor=\"middle\" x=\"731.5\" y=\"-151.8\" font-family=\"Times,serif\" font-size=\"14.00\">grad 0.5</text>\n</g>\n<!-- 140443869445616+ -->\n<g id=\"node28\" class=\"node\">\n<title>140443869445616+</title>\n<ellipse fill=\"none\" stroke=\"black\" cx=\"849\" cy=\"-127.5\" rx=\"27\" ry=\"18\"/>\n<text text-anchor=\"middle\" x=\"849\" y=\"-123.8\" font-family=\"Times,serif\" font-size=\"14.00\">+</text>\n</g>\n<!-- 140443869441536&#45;&gt;140443869445616+ -->\n<g id=\"edge28\" class=\"edge\">\n<title>140443869441536&#45;&gt;140443869445616+</title>\n<path fill=\"none\" stroke=\"black\" d=\"M762.54,-141.83C780.13,-138.88 797.84,-135.91 812.53,-133.45\"/>\n<polygon fill=\"black\" stroke=\"black\" points=\"813.38,-136.85 822.66,-131.75 812.22,-129.95 813.38,-136.85\"/>\n</g>\n<!-- 140443869435920 -->\n<g id=\"node2\" class=\"node\">\n<title>140443869435920</title>\n<polygon fill=\"none\" stroke=\"black\" points=\"1497,-81.5 1497,-117.5 1682,-117.5 1682,-81.5 1497,-81.5\"/>\n<text text-anchor=\"middle\" x=\"1508.5\" y=\"-95.8\" font-family=\"Times,serif\" font-size=\"14.00\">e</text>\n<polyline fill=\"none\" stroke=\"black\" points=\"1520,-81.5 1520,-117.5 \"/>\n<text text-anchor=\"middle\" x=\"1560\" y=\"-95.8\" font-family=\"Times,serif\" font-size=\"14.00\">data 5.8284</text>\n<polyline fill=\"none\" stroke=\"black\" points=\"1600,-81.5 1600,-117.5 \"/>\n<text text-anchor=\"middle\" x=\"1641\" y=\"-95.8\" font-family=\"Times,serif\" font-size=\"14.00\">grad 0.0429</text>\n</g>\n<!-- 140443869436496+ -->\n<g id=\"node11\" class=\"node\">\n<title>140443869436496+</title>\n<ellipse fill=\"none\" stroke=\"black\" cx=\"1745\" cy=\"-126.5\" rx=\"27\" ry=\"18\"/>\n<text text-anchor=\"middle\" x=\"1745\" y=\"-122.8\" font-family=\"Times,serif\" font-size=\"14.00\">+</text>\n</g>\n<!-- 140443869435920&#45;&gt;140443869436496+ -->\n<g id=\"edge24\" class=\"edge\">\n<title>140443869435920&#45;&gt;140443869436496+</title>\n<path fill=\"none\" stroke=\"black\" d=\"M1682.01,-115.6C1691.49,-117.26 1700.66,-118.88 1708.9,-120.33\"/>\n<polygon fill=\"black\" stroke=\"black\" points=\"1708.36,-123.78 1718.81,-122.07 1709.57,-116.89 1708.36,-123.78\"/>\n</g>\n<!-- 140443869435152+ -->\n<g id=\"node21\" class=\"node\">\n<title>140443869435152+</title>\n<ellipse fill=\"none\" stroke=\"black\" cx=\"1745\" cy=\"-71.5\" rx=\"27\" ry=\"18\"/>\n<text text-anchor=\"middle\" x=\"1745\" y=\"-67.8\" font-family=\"Times,serif\" font-size=\"14.00\">+</text>\n</g>\n<!-- 140443869435920&#45;&gt;140443869435152+ -->\n<g id=\"edge25\" class=\"edge\">\n<title>140443869435920&#45;&gt;140443869435152+</title>\n<path fill=\"none\" stroke=\"black\" d=\"M1682.01,-82.81C1691.49,-81.08 1700.66,-79.41 1708.9,-77.9\"/>\n<polygon fill=\"black\" stroke=\"black\" points=\"1709.6,-81.33 1718.81,-76.09 1708.35,-74.45 1709.6,-81.33\"/>\n</g>\n<!-- 140443869435920exp -->\n<g id=\"node3\" class=\"node\">\n<title>140443869435920exp</title>\n<ellipse fill=\"none\" stroke=\"black\" cx=\"1434\" cy=\"-99.5\" rx=\"27\" ry=\"18\"/>\n<text text-anchor=\"middle\" x=\"1434\" y=\"-95.8\" font-family=\"Times,serif\" font-size=\"14.00\">exp</text>\n</g>\n<!-- 140443869435920exp&#45;&gt;140443869435920 -->\n<g id=\"edge1\" class=\"edge\">\n<title>140443869435920exp&#45;&gt;140443869435920</title>\n<path fill=\"none\" stroke=\"black\" d=\"M1461.04,-99.5C1468.58,-99.5 1477.3,-99.5 1486.57,-99.5\"/>\n<polygon fill=\"black\" stroke=\"black\" points=\"1486.81,-103 1496.81,-99.5 1486.81,-96 1486.81,-103\"/>\n</g>\n<!-- 140443869443120 -->\n<g id=\"node4\" class=\"node\">\n<title>140443869443120</title>\n<polygon fill=\"none\" stroke=\"black\" points=\"277.5,-110.5 277.5,-146.5 445.5,-146.5 445.5,-110.5 277.5,-110.5\"/>\n<text text-anchor=\"middle\" x=\"304\" y=\"-124.8\" font-family=\"Times,serif\" font-size=\"14.00\">x2*w2</text>\n<polyline fill=\"none\" stroke=\"black\" points=\"330.5,-110.5 330.5,-146.5 \"/>\n<text text-anchor=\"middle\" x=\"357\" y=\"-124.8\" font-family=\"Times,serif\" font-size=\"14.00\">data 0.</text>\n<polyline fill=\"none\" stroke=\"black\" points=\"383.5,-110.5 383.5,-146.5 \"/>\n<text text-anchor=\"middle\" x=\"414.5\" y=\"-124.8\" font-family=\"Times,serif\" font-size=\"14.00\">grad 0.5</text>\n</g>\n<!-- 140443869438176+ -->\n<g id=\"node18\" class=\"node\">\n<title>140443869438176+</title>\n<ellipse fill=\"none\" stroke=\"black\" cx=\"511\" cy=\"-100.5\" rx=\"27\" ry=\"18\"/>\n<text text-anchor=\"middle\" x=\"511\" y=\"-96.8\" font-family=\"Times,serif\" font-size=\"14.00\">+</text>\n</g>\n<!-- 140443869443120&#45;&gt;140443869438176+ -->\n<g id=\"edge22\" class=\"edge\">\n<title>140443869443120&#45;&gt;140443869438176+</title>\n<path fill=\"none\" stroke=\"black\" d=\"M445.73,-112.7C455.97,-110.76 465.96,-108.86 474.9,-107.16\"/>\n<polygon fill=\"black\" stroke=\"black\" points=\"475.68,-110.58 484.86,-105.27 474.38,-103.7 475.68,-110.58\"/>\n</g>\n<!-- 140443869443120* -->\n<g id=\"node5\" class=\"node\">\n<title>140443869443120*</title>\n<ellipse fill=\"none\" stroke=\"black\" cx=\"212\" cy=\"-128.5\" rx=\"27\" ry=\"18\"/>\n<text text-anchor=\"middle\" x=\"212\" y=\"-124.8\" font-family=\"Times,serif\" font-size=\"14.00\">*</text>\n</g>\n<!-- 140443869443120*&#45;&gt;140443869443120 -->\n<g id=\"edge2\" class=\"edge\">\n<title>140443869443120*&#45;&gt;140443869443120</title>\n<path fill=\"none\" stroke=\"black\" d=\"M239.03,-128.5C247.37,-128.5 257.13,-128.5 267.43,-128.5\"/>\n<polygon fill=\"black\" stroke=\"black\" points=\"267.44,-132 277.44,-128.5 267.44,-125 267.44,-132\"/>\n</g>\n<!-- 140443869435968 -->\n<g id=\"node6\" class=\"node\">\n<title>140443869435968</title>\n<polygon fill=\"none\" stroke=\"black\" points=\"2248,-106.5 2248,-142.5 2430,-142.5 2430,-106.5 2248,-106.5\"/>\n<text text-anchor=\"middle\" x=\"2258\" y=\"-120.8\" font-family=\"Times,serif\" font-size=\"14.00\"> </text>\n<polyline fill=\"none\" stroke=\"black\" points=\"2268,-106.5 2268,-142.5 \"/>\n<text text-anchor=\"middle\" x=\"2308\" y=\"-120.8\" font-family=\"Times,serif\" font-size=\"14.00\">data 0.1464</text>\n<polyline fill=\"none\" stroke=\"black\" points=\"2348,-106.5 2348,-142.5 \"/>\n<text text-anchor=\"middle\" x=\"2389\" y=\"-120.8\" font-family=\"Times,serif\" font-size=\"14.00\">grad 4.8284</text>\n</g>\n<!-- 140443869436112* -->\n<g id=\"node16\" class=\"node\">\n<title>140443869436112*</title>\n<ellipse fill=\"none\" stroke=\"black\" cx=\"2493\" cy=\"-98.5\" rx=\"27\" ry=\"18\"/>\n<text text-anchor=\"middle\" x=\"2493\" y=\"-94.8\" font-family=\"Times,serif\" font-size=\"14.00\">*</text>\n</g>\n<!-- 140443869435968&#45;&gt;140443869436112* -->\n<g id=\"edge20\" class=\"edge\">\n<title>140443869435968&#45;&gt;140443869436112*</title>\n<path fill=\"none\" stroke=\"black\" d=\"M2430.18,-109.08C2439.42,-107.49 2448.38,-105.96 2456.47,-104.58\"/>\n<polygon fill=\"black\" stroke=\"black\" points=\"2457.29,-107.99 2466.56,-102.85 2456.11,-101.09 2457.29,-107.99\"/>\n</g>\n<!-- 140443869435968**&#45;1 -->\n<g id=\"node7\" class=\"node\">\n<title>140443869435968**&#45;1</title>\n<ellipse fill=\"none\" stroke=\"black\" cx=\"2121\" cy=\"-126.5\" rx=\"27\" ry=\"18\"/>\n<text text-anchor=\"middle\" x=\"2121\" y=\"-122.8\" font-family=\"Times,serif\" font-size=\"14.00\">**&#45;1</text>\n</g>\n<!-- 140443869435968**&#45;1&#45;&gt;140443869435968 -->\n<g id=\"edge3\" class=\"edge\">\n<title>140443869435968**&#45;1&#45;&gt;140443869435968</title>\n<path fill=\"none\" stroke=\"black\" d=\"M2148.05,-126.26C2170.53,-126.05 2204.48,-125.74 2237.5,-125.43\"/>\n<polygon fill=\"black\" stroke=\"black\" points=\"2237.74,-128.93 2247.7,-125.34 2237.67,-121.93 2237.74,-128.93\"/>\n</g>\n<!-- 140443869445712 -->\n<g id=\"node8\" class=\"node\">\n<title>140443869445712</title>\n<polygon fill=\"none\" stroke=\"black\" points=\"1203,-81.5 1203,-117.5 1371,-117.5 1371,-81.5 1203,-81.5\"/>\n<text text-anchor=\"middle\" x=\"1213\" y=\"-95.8\" font-family=\"Times,serif\" font-size=\"14.00\"> </text>\n<polyline fill=\"none\" stroke=\"black\" points=\"1223,-81.5 1223,-117.5 \"/>\n<text text-anchor=\"middle\" x=\"1263\" y=\"-95.8\" font-family=\"Times,serif\" font-size=\"14.00\">data 1.7627</text>\n<polyline fill=\"none\" stroke=\"black\" points=\"1303,-81.5 1303,-117.5 \"/>\n<text text-anchor=\"middle\" x=\"1337\" y=\"-95.8\" font-family=\"Times,serif\" font-size=\"14.00\">grad 0.25</text>\n</g>\n<!-- 140443869445712&#45;&gt;140443869435920exp -->\n<g id=\"edge16\" class=\"edge\">\n<title>140443869445712&#45;&gt;140443869435920exp</title>\n<path fill=\"none\" stroke=\"black\" d=\"M1371.09,-99.5C1379.96,-99.5 1388.62,-99.5 1396.51,-99.5\"/>\n<polygon fill=\"black\" stroke=\"black\" points=\"1396.75,-103 1406.75,-99.5 1396.75,-96 1396.75,-103\"/>\n</g>\n<!-- 140443869445712* -->\n<g id=\"node9\" class=\"node\">\n<title>140443869445712*</title>\n<ellipse fill=\"none\" stroke=\"black\" cx=\"1140\" cy=\"-99.5\" rx=\"27\" ry=\"18\"/>\n<text text-anchor=\"middle\" x=\"1140\" y=\"-95.8\" font-family=\"Times,serif\" font-size=\"14.00\">*</text>\n</g>\n<!-- 140443869445712*&#45;&gt;140443869445712 -->\n<g id=\"edge4\" class=\"edge\">\n<title>140443869445712*&#45;&gt;140443869445712</title>\n<path fill=\"none\" stroke=\"black\" d=\"M1167.26,-99.5C1174.81,-99.5 1183.51,-99.5 1192.7,-99.5\"/>\n<polygon fill=\"black\" stroke=\"black\" points=\"1192.83,-103 1202.83,-99.5 1192.83,-96 1192.83,-103\"/>\n</g>\n<!-- 140443869436496 -->\n<g id=\"node10\" class=\"node\">\n<title>140443869436496</title>\n<polygon fill=\"none\" stroke=\"black\" points=\"1808,-108.5 1808,-144.5 1994,-144.5 1994,-108.5 1808,-108.5\"/>\n<text text-anchor=\"middle\" x=\"1818\" y=\"-122.8\" font-family=\"Times,serif\" font-size=\"14.00\"> </text>\n<polyline fill=\"none\" stroke=\"black\" points=\"1828,-108.5 1828,-144.5 \"/>\n<text text-anchor=\"middle\" x=\"1868\" y=\"-122.8\" font-family=\"Times,serif\" font-size=\"14.00\">data 6.8284</text>\n<polyline fill=\"none\" stroke=\"black\" points=\"1908,-108.5 1908,-144.5 \"/>\n<text text-anchor=\"middle\" x=\"1951\" y=\"-122.8\" font-family=\"Times,serif\" font-size=\"14.00\">grad &#45;0.1036</text>\n</g>\n<!-- 140443869436496&#45;&gt;140443869435968**&#45;1 -->\n<g id=\"edge17\" class=\"edge\">\n<title>140443869436496&#45;&gt;140443869435968**&#45;1</title>\n<path fill=\"none\" stroke=\"black\" d=\"M1994.14,-126.5C2025.72,-126.5 2059.24,-126.5 2083.74,-126.5\"/>\n<polygon fill=\"black\" stroke=\"black\" points=\"2083.98,-130 2093.98,-126.5 2083.98,-123 2083.98,-130\"/>\n</g>\n<!-- 140443869436496+&#45;&gt;140443869436496 -->\n<g id=\"edge5\" class=\"edge\">\n<title>140443869436496+&#45;&gt;140443869436496</title>\n<path fill=\"none\" stroke=\"black\" d=\"M1772.12,-126.5C1779.62,-126.5 1788.29,-126.5 1797.5,-126.5\"/>\n<polygon fill=\"black\" stroke=\"black\" points=\"1797.69,-130 1807.69,-126.5 1797.69,-123 1797.69,-130\"/>\n</g>\n<!-- 140443869441440 -->\n<g id=\"node12\" class=\"node\">\n<title>140443869441440</title>\n<polygon fill=\"none\" stroke=\"black\" points=\"2,-165.5 2,-201.5 147,-201.5 147,-165.5 2,-165.5\"/>\n<text text-anchor=\"middle\" x=\"17\" y=\"-179.8\" font-family=\"Times,serif\" font-size=\"14.00\">x2</text>\n<polyline fill=\"none\" stroke=\"black\" points=\"32,-165.5 32,-201.5 \"/>\n<text text-anchor=\"middle\" x=\"58.5\" y=\"-179.8\" font-family=\"Times,serif\" font-size=\"14.00\">data 0.</text>\n<polyline fill=\"none\" stroke=\"black\" points=\"85,-165.5 85,-201.5 \"/>\n<text text-anchor=\"middle\" x=\"116\" y=\"-179.8\" font-family=\"Times,serif\" font-size=\"14.00\">grad 0.5</text>\n</g>\n<!-- 140443869441440&#45;&gt;140443869443120* -->\n<g id=\"edge18\" class=\"edge\">\n<title>140443869441440&#45;&gt;140443869443120*</title>\n<path fill=\"none\" stroke=\"black\" d=\"M126.29,-165.38C133.94,-162.5 141.7,-159.48 149,-156.5 159.36,-152.27 170.54,-147.33 180.51,-142.79\"/>\n<polygon fill=\"black\" stroke=\"black\" points=\"182.02,-145.96 189.65,-138.6 179.1,-139.59 182.02,-145.96\"/>\n</g>\n<!-- 140443869441392 -->\n<g id=\"node13\" class=\"node\">\n<title>140443869441392</title>\n<polygon fill=\"none\" stroke=\"black\" points=\"1511.5,-26.5 1511.5,-62.5 1667.5,-62.5 1667.5,-26.5 1511.5,-26.5\"/>\n<text text-anchor=\"middle\" x=\"1521.5\" y=\"-40.8\" font-family=\"Times,serif\" font-size=\"14.00\"> </text>\n<polyline fill=\"none\" stroke=\"black\" points=\"1531.5,-26.5 1531.5,-62.5 \"/>\n<text text-anchor=\"middle\" x=\"1558.5\" y=\"-40.8\" font-family=\"Times,serif\" font-size=\"14.00\">data &#45;1</text>\n<polyline fill=\"none\" stroke=\"black\" points=\"1585.5,-26.5 1585.5,-62.5 \"/>\n<text text-anchor=\"middle\" x=\"1626.5\" y=\"-40.8\" font-family=\"Times,serif\" font-size=\"14.00\">grad 0.1464</text>\n</g>\n<!-- 140443869441392&#45;&gt;140443869435152+ -->\n<g id=\"edge11\" class=\"edge\">\n<title>140443869441392&#45;&gt;140443869435152+</title>\n<path fill=\"none\" stroke=\"black\" d=\"M1667.7,-58.08C1681.9,-60.58 1696.09,-63.07 1708.31,-65.22\"/>\n<polygon fill=\"black\" stroke=\"black\" points=\"1708.03,-68.73 1718.49,-67.01 1709.24,-61.83 1708.03,-68.73\"/>\n</g>\n<!-- 140443869439184 -->\n<g id=\"node14\" class=\"node\">\n<title>140443869439184</title>\n<polygon fill=\"none\" stroke=\"black\" points=\"918.5,-54.5 918.5,-90.5 1070.5,-90.5 1070.5,-54.5 918.5,-54.5\"/>\n<text text-anchor=\"middle\" x=\"928.5\" y=\"-68.8\" font-family=\"Times,serif\" font-size=\"14.00\"> </text>\n<polyline fill=\"none\" stroke=\"black\" points=\"938.5,-54.5 938.5,-90.5 \"/>\n<text text-anchor=\"middle\" x=\"963.5\" y=\"-68.8\" font-family=\"Times,serif\" font-size=\"14.00\">data 2</text>\n<polyline fill=\"none\" stroke=\"black\" points=\"988.5,-54.5 988.5,-90.5 \"/>\n<text text-anchor=\"middle\" x=\"1029.5\" y=\"-68.8\" font-family=\"Times,serif\" font-size=\"14.00\">grad 0.2203</text>\n</g>\n<!-- 140443869439184&#45;&gt;140443869445712* -->\n<g id=\"edge23\" class=\"edge\">\n<title>140443869439184&#45;&gt;140443869445712*</title>\n<path fill=\"none\" stroke=\"black\" d=\"M1070.61,-86.63C1082.19,-88.81 1093.65,-90.97 1103.78,-92.87\"/>\n<polygon fill=\"black\" stroke=\"black\" points=\"1103.33,-96.35 1113.81,-94.76 1104.63,-89.47 1103.33,-96.35\"/>\n</g>\n<!-- 140443869436112 -->\n<g id=\"node15\" class=\"node\">\n<title>140443869436112</title>\n<polygon fill=\"none\" stroke=\"black\" points=\"2556,-80.5 2556,-116.5 2714,-116.5 2714,-80.5 2556,-80.5\"/>\n<text text-anchor=\"middle\" x=\"2567.5\" y=\"-94.8\" font-family=\"Times,serif\" font-size=\"14.00\">o</text>\n<polyline fill=\"none\" stroke=\"black\" points=\"2579,-80.5 2579,-116.5 \"/>\n<text text-anchor=\"middle\" x=\"2619\" y=\"-94.8\" font-family=\"Times,serif\" font-size=\"14.00\">data 0.7071</text>\n<polyline fill=\"none\" stroke=\"black\" points=\"2659,-80.5 2659,-116.5 \"/>\n<text text-anchor=\"middle\" x=\"2686.5\" y=\"-94.8\" font-family=\"Times,serif\" font-size=\"14.00\">grad 1.</text>\n</g>\n<!-- 140443869436112*&#45;&gt;140443869436112 -->\n<g id=\"edge6\" class=\"edge\">\n<title>140443869436112*&#45;&gt;140443869436112</title>\n<path fill=\"none\" stroke=\"black\" d=\"M2520,-98.5C2527.61,-98.5 2536.39,-98.5 2545.62,-98.5\"/>\n<polygon fill=\"black\" stroke=\"black\" points=\"2545.78,-102 2555.78,-98.5 2545.78,-95 2545.78,-102\"/>\n</g>\n<!-- 140443869438176 -->\n<g id=\"node17\" class=\"node\">\n<title>140443869438176</title>\n<polygon fill=\"none\" stroke=\"black\" points=\"574,-82.5 574,-118.5 786,-118.5 786,-82.5 574,-82.5\"/>\n<text text-anchor=\"middle\" x=\"620\" y=\"-96.8\" font-family=\"Times,serif\" font-size=\"14.00\">x1w1 + x2w2</text>\n<polyline fill=\"none\" stroke=\"black\" points=\"666,-82.5 666,-118.5 \"/>\n<text text-anchor=\"middle\" x=\"695\" y=\"-96.8\" font-family=\"Times,serif\" font-size=\"14.00\">data &#45;6.</text>\n<polyline fill=\"none\" stroke=\"black\" points=\"724,-82.5 724,-118.5 \"/>\n<text text-anchor=\"middle\" x=\"755\" y=\"-96.8\" font-family=\"Times,serif\" font-size=\"14.00\">grad 0.5</text>\n</g>\n<!-- 140443869438176&#45;&gt;140443869445616+ -->\n<g id=\"edge27\" class=\"edge\">\n<title>140443869438176&#45;&gt;140443869445616+</title>\n<path fill=\"none\" stroke=\"black\" d=\"M786.29,-117.52C795.62,-119.03 804.56,-120.48 812.6,-121.78\"/>\n<polygon fill=\"black\" stroke=\"black\" points=\"812.17,-125.25 822.6,-123.39 813.28,-118.34 812.17,-125.25\"/>\n</g>\n<!-- 140443869438176+&#45;&gt;140443869438176 -->\n<g id=\"edge7\" class=\"edge\">\n<title>140443869438176+&#45;&gt;140443869438176</title>\n<path fill=\"none\" stroke=\"black\" d=\"M538.09,-100.5C545.65,-100.5 554.42,-100.5 563.83,-100.5\"/>\n<polygon fill=\"black\" stroke=\"black\" points=\"563.83,-104 573.83,-100.5 563.83,-97 563.83,-104\"/>\n</g>\n<!-- 140443869442256 -->\n<g id=\"node19\" class=\"node\">\n<title>140443869442256</title>\n<polygon fill=\"none\" stroke=\"black\" points=\"1.5,-55.5 1.5,-91.5 147.5,-91.5 147.5,-55.5 1.5,-55.5\"/>\n<text text-anchor=\"middle\" x=\"18\" y=\"-69.8\" font-family=\"Times,serif\" font-size=\"14.00\">w1</text>\n<polyline fill=\"none\" stroke=\"black\" points=\"34.5,-55.5 34.5,-91.5 \"/>\n<text text-anchor=\"middle\" x=\"63.5\" y=\"-69.8\" font-family=\"Times,serif\" font-size=\"14.00\">data &#45;3.</text>\n<polyline fill=\"none\" stroke=\"black\" points=\"92.5,-55.5 92.5,-91.5 \"/>\n<text text-anchor=\"middle\" x=\"120\" y=\"-69.8\" font-family=\"Times,serif\" font-size=\"14.00\">grad 1.</text>\n</g>\n<!-- 140443869438368* -->\n<g id=\"node25\" class=\"node\">\n<title>140443869438368*</title>\n<ellipse fill=\"none\" stroke=\"black\" cx=\"212\" cy=\"-73.5\" rx=\"27\" ry=\"18\"/>\n<text text-anchor=\"middle\" x=\"212\" y=\"-69.8\" font-family=\"Times,serif\" font-size=\"14.00\">*</text>\n</g>\n<!-- 140443869442256&#45;&gt;140443869438368* -->\n<g id=\"edge19\" class=\"edge\">\n<title>140443869442256&#45;&gt;140443869438368*</title>\n<path fill=\"none\" stroke=\"black\" d=\"M147.61,-73.5C156.95,-73.5 166.17,-73.5 174.57,-73.5\"/>\n<polygon fill=\"black\" stroke=\"black\" points=\"174.71,-77 184.71,-73.5 174.71,-70 174.71,-77\"/>\n</g>\n<!-- 140443869435152 -->\n<g id=\"node20\" class=\"node\">\n<title>140443869435152</title>\n<polygon fill=\"none\" stroke=\"black\" points=\"2030,-53.5 2030,-89.5 2212,-89.5 2212,-53.5 2030,-53.5\"/>\n<text text-anchor=\"middle\" x=\"2040\" y=\"-67.8\" font-family=\"Times,serif\" font-size=\"14.00\"> </text>\n<polyline fill=\"none\" stroke=\"black\" points=\"2050,-53.5 2050,-89.5 \"/>\n<text text-anchor=\"middle\" x=\"2090\" y=\"-67.8\" font-family=\"Times,serif\" font-size=\"14.00\">data 4.8284</text>\n<polyline fill=\"none\" stroke=\"black\" points=\"2130,-53.5 2130,-89.5 \"/>\n<text text-anchor=\"middle\" x=\"2171\" y=\"-67.8\" font-family=\"Times,serif\" font-size=\"14.00\">grad 0.1464</text>\n</g>\n<!-- 140443869435152&#45;&gt;140443869436112* -->\n<g id=\"edge26\" class=\"edge\">\n<title>140443869435152&#45;&gt;140443869436112*</title>\n<path fill=\"none\" stroke=\"black\" d=\"M2212.04,-78.07C2290.41,-83.79 2399.98,-91.79 2455.96,-95.87\"/>\n<polygon fill=\"black\" stroke=\"black\" points=\"2455.87,-99.37 2466.1,-96.61 2456.38,-92.39 2455.87,-99.37\"/>\n</g>\n<!-- 140443869435152+&#45;&gt;140443869435152 -->\n<g id=\"edge8\" class=\"edge\">\n<title>140443869435152+&#45;&gt;140443869435152</title>\n<path fill=\"none\" stroke=\"black\" d=\"M1772,-71.5C1822.46,-71.5 1936.06,-71.5 2019.81,-71.5\"/>\n<polygon fill=\"black\" stroke=\"black\" points=\"2019.87,-75 2029.87,-71.5 2019.87,-68 2019.87,-75\"/>\n</g>\n<!-- 140443869433712 -->\n<g id=\"node22\" class=\"node\">\n<title>140443869433712</title>\n<polygon fill=\"none\" stroke=\"black\" points=\"0,-0.5 0,-36.5 149,-36.5 149,-0.5 0,-0.5\"/>\n<text text-anchor=\"middle\" x=\"15\" y=\"-14.8\" font-family=\"Times,serif\" font-size=\"14.00\">x1</text>\n<polyline fill=\"none\" stroke=\"black\" points=\"30,-0.5 30,-36.5 \"/>\n<text text-anchor=\"middle\" x=\"56.5\" y=\"-14.8\" font-family=\"Times,serif\" font-size=\"14.00\">data 2.</text>\n<polyline fill=\"none\" stroke=\"black\" points=\"83,-0.5 83,-36.5 \"/>\n<text text-anchor=\"middle\" x=\"116\" y=\"-14.8\" font-family=\"Times,serif\" font-size=\"14.00\">grad &#45;1.5</text>\n</g>\n<!-- 140443869433712&#45;&gt;140443869438368* -->\n<g id=\"edge13\" class=\"edge\">\n<title>140443869433712&#45;&gt;140443869438368*</title>\n<path fill=\"none\" stroke=\"black\" d=\"M126.29,-36.62C133.94,-39.5 141.7,-42.52 149,-45.5 159.36,-49.73 170.54,-54.67 180.51,-59.21\"/>\n<polygon fill=\"black\" stroke=\"black\" points=\"179.1,-62.41 189.65,-63.4 182.02,-56.04 179.1,-62.41\"/>\n</g>\n<!-- 140443869442448 -->\n<g id=\"node23\" class=\"node\">\n<title>140443869442448</title>\n<polygon fill=\"none\" stroke=\"black\" points=\"4,-110.5 4,-146.5 145,-146.5 145,-110.5 4,-110.5\"/>\n<text text-anchor=\"middle\" x=\"20.5\" y=\"-124.8\" font-family=\"Times,serif\" font-size=\"14.00\">w2</text>\n<polyline fill=\"none\" stroke=\"black\" points=\"37,-110.5 37,-146.5 \"/>\n<text text-anchor=\"middle\" x=\"63.5\" y=\"-124.8\" font-family=\"Times,serif\" font-size=\"14.00\">data 1.</text>\n<polyline fill=\"none\" stroke=\"black\" points=\"90,-110.5 90,-146.5 \"/>\n<text text-anchor=\"middle\" x=\"117.5\" y=\"-124.8\" font-family=\"Times,serif\" font-size=\"14.00\">grad 0.</text>\n</g>\n<!-- 140443869442448&#45;&gt;140443869443120* -->\n<g id=\"edge15\" class=\"edge\">\n<title>140443869442448&#45;&gt;140443869443120*</title>\n<path fill=\"none\" stroke=\"black\" d=\"M145.23,-128.5C155.4,-128.5 165.5,-128.5 174.62,-128.5\"/>\n<polygon fill=\"black\" stroke=\"black\" points=\"174.83,-132 184.83,-128.5 174.83,-125 174.83,-132\"/>\n</g>\n<!-- 140443869438368 -->\n<g id=\"node24\" class=\"node\">\n<title>140443869438368</title>\n<polygon fill=\"none\" stroke=\"black\" points=\"275,-55.5 275,-91.5 448,-91.5 448,-55.5 275,-55.5\"/>\n<text text-anchor=\"middle\" x=\"301.5\" y=\"-69.8\" font-family=\"Times,serif\" font-size=\"14.00\">x1*w1</text>\n<polyline fill=\"none\" stroke=\"black\" points=\"328,-55.5 328,-91.5 \"/>\n<text text-anchor=\"middle\" x=\"357\" y=\"-69.8\" font-family=\"Times,serif\" font-size=\"14.00\">data &#45;6.</text>\n<polyline fill=\"none\" stroke=\"black\" points=\"386,-55.5 386,-91.5 \"/>\n<text text-anchor=\"middle\" x=\"417\" y=\"-69.8\" font-family=\"Times,serif\" font-size=\"14.00\">grad 0.5</text>\n</g>\n<!-- 140443869438368&#45;&gt;140443869438176+ -->\n<g id=\"edge21\" class=\"edge\">\n<title>140443869438368&#45;&gt;140443869438176+</title>\n<path fill=\"none\" stroke=\"black\" d=\"M448.3,-89.21C457.66,-90.92 466.75,-92.58 474.95,-94.08\"/>\n<polygon fill=\"black\" stroke=\"black\" points=\"474.35,-97.53 484.82,-95.89 475.61,-90.65 474.35,-97.53\"/>\n</g>\n<!-- 140443869438368*&#45;&gt;140443869438368 -->\n<g id=\"edge9\" class=\"edge\">\n<title>140443869438368*&#45;&gt;140443869438368</title>\n<path fill=\"none\" stroke=\"black\" d=\"M239.03,-73.5C246.62,-73.5 255.4,-73.5 264.69,-73.5\"/>\n<polygon fill=\"black\" stroke=\"black\" points=\"264.93,-77 274.93,-73.5 264.93,-70 264.93,-77\"/>\n</g>\n<!-- 140443869439424 -->\n<g id=\"node26\" class=\"node\">\n<title>140443869439424</title>\n<polygon fill=\"none\" stroke=\"black\" points=\"1511.5,-136.5 1511.5,-172.5 1667.5,-172.5 1667.5,-136.5 1511.5,-136.5\"/>\n<text text-anchor=\"middle\" x=\"1521.5\" y=\"-150.8\" font-family=\"Times,serif\" font-size=\"14.00\"> </text>\n<polyline fill=\"none\" stroke=\"black\" points=\"1531.5,-136.5 1531.5,-172.5 \"/>\n<text text-anchor=\"middle\" x=\"1556.5\" y=\"-150.8\" font-family=\"Times,serif\" font-size=\"14.00\">data 1</text>\n<polyline fill=\"none\" stroke=\"black\" points=\"1581.5,-136.5 1581.5,-172.5 \"/>\n<text text-anchor=\"middle\" x=\"1624.5\" y=\"-150.8\" font-family=\"Times,serif\" font-size=\"14.00\">grad &#45;0.1036</text>\n</g>\n<!-- 140443869439424&#45;&gt;140443869436496+ -->\n<g id=\"edge14\" class=\"edge\">\n<title>140443869439424&#45;&gt;140443869436496+</title>\n<path fill=\"none\" stroke=\"black\" d=\"M1667.7,-140.42C1682.16,-137.78 1696.61,-135.14 1708.98,-132.89\"/>\n<polygon fill=\"black\" stroke=\"black\" points=\"1709.62,-136.33 1718.83,-131.09 1708.36,-129.44 1709.62,-136.33\"/>\n</g>\n<!-- 140443869445616 -->\n<g id=\"node27\" class=\"node\">\n<title>140443869445616</title>\n<polygon fill=\"none\" stroke=\"black\" points=\"912,-109.5 912,-145.5 1077,-145.5 1077,-109.5 912,-109.5\"/>\n<text text-anchor=\"middle\" x=\"923.5\" y=\"-123.8\" font-family=\"Times,serif\" font-size=\"14.00\">n</text>\n<polyline fill=\"none\" stroke=\"black\" points=\"935,-109.5 935,-145.5 \"/>\n<text text-anchor=\"middle\" x=\"975\" y=\"-123.8\" font-family=\"Times,serif\" font-size=\"14.00\">data 0.8814</text>\n<polyline fill=\"none\" stroke=\"black\" points=\"1015,-109.5 1015,-145.5 \"/>\n<text text-anchor=\"middle\" x=\"1046\" y=\"-123.8\" font-family=\"Times,serif\" font-size=\"14.00\">grad 0.5</text>\n</g>\n<!-- 140443869445616&#45;&gt;140443869445712* -->\n<g id=\"edge12\" class=\"edge\">\n<title>140443869445616&#45;&gt;140443869445712*</title>\n<path fill=\"none\" stroke=\"black\" d=\"M1077.31,-111.54C1086.6,-109.72 1095.67,-107.96 1103.86,-106.36\"/>\n<polygon fill=\"black\" stroke=\"black\" points=\"1104.58,-109.78 1113.73,-104.43 1103.24,-102.91 1104.58,-109.78\"/>\n</g>\n<!-- 140443869445616+&#45;&gt;140443869445616 -->\n<g id=\"edge10\" class=\"edge\">\n<title>140443869445616+&#45;&gt;140443869445616</title>\n<path fill=\"none\" stroke=\"black\" d=\"M876.32,-127.5C883.87,-127.5 892.55,-127.5 901.71,-127.5\"/>\n<polygon fill=\"black\" stroke=\"black\" points=\"901.8,-131 911.8,-127.5 901.8,-124 901.8,-131\"/>\n</g>\n</g>\n</svg>\n",
            "text/plain": [
              "<graphviz.graphs.Digraph at 0x7fbba2f2ffd0>"
            ]
          },
          "metadata": {},
          "execution_count": 5
        }
      ]
    },
    {
      "cell_type": "code",
      "source": [
        "import torch\n",
        "\n",
        "# create tensors and enable gradient tracking\n",
        "\n",
        "# inputs x1,x2\n",
        "x1 = torch.Tensor([2.0]); x1.requires_grad = True \n",
        "x2 = torch.Tensor([-.0]); x2.requires_grad = True\n",
        "\n",
        "# weights w1, w2\n",
        "w1 = torch.Tensor([-3.0]); w1.requires_grad = True  \n",
        "w2 = torch.Tensor([1.0]); w2.requires_grad = True  \n",
        "\n",
        "# bias of the neurons\n",
        "b = torch.Tensor([6.8813735870195432]); b.requires_grad = True\n",
        "\n",
        "# perform the computation: n = x1*w1 + x2*w2 + b\n",
        "n = x1*w1 + x2*w2 + b\n",
        "\n",
        "# apply the hyperbolic tangent function to n\n",
        "o = torch.tanh(n)\n",
        "\n",
        "print(o.item())\n",
        "\n",
        "# perform backward propagation to compute gradients\n",
        "o.backward()\n",
        "\n",
        "print(\"------------\")\n",
        "print(\"x1\", x1.grad.item())\n",
        "print(\"w1\", w1.grad.item())\n",
        "print(\"x2\", x2.grad.item())\n",
        "print(\"w2\", w2.grad.item())"
      ],
      "metadata": {
        "colab": {
          "base_uri": "https://localhost:8080/"
        },
        "id": "REFIqSGtSqGk",
        "outputId": "a89ae0f6-6b07-4e04-c525-a383b1daec13"
      },
      "execution_count": 6,
      "outputs": [
        {
          "output_type": "stream",
          "name": "stdout",
          "text": [
            "0.7071067094802856\n",
            "------------\n",
            "x1 -1.5000003576278687\n",
            "w1 1.000000238418579\n",
            "x2 0.5000001192092896\n",
            "w2 -0.0\n"
          ]
        }
      ]
    },
    {
      "cell_type": "code",
      "source": [
        "import random\n",
        "\n",
        "class Neuron:\n",
        "\n",
        "  def __init__(self, nin):\n",
        "    # Initialize the neuron with random weights and bias between -1 and 1\n",
        "    self.w = [Value(random.uniform(-1, 1)) for _ in range(nin)]\n",
        "    self.b = Value(random.uniform(-1,1))\n",
        "  \n",
        "  def __call__(self, x):\n",
        "    # Calculate the weighted sum of inputs multiplied by weights and add the bias\n",
        "    act = sum((wi*xi for wi, xi in zip(self.w, x)), self.b)\n",
        "    # Apply the hyperbolic tangent function to the activation\n",
        "    out = act.tanh()\n",
        "    # Return the output of the neuron\n",
        "    return out\n",
        "  \n",
        "  def parameters(self):\n",
        "    # Return the weights and bias of the neuron as parameters\n",
        "    return self.w + [self.b]\n",
        "  \n",
        "class Layer:\n",
        "\n",
        "  def __init__(self, nin, nout):\n",
        "    # Create a layer with a specified number of input and output neurons\n",
        "    self.neurons = [Neuron(nin) for _ in range(nout)]\n",
        "  \n",
        "  def __call__(self, x):\n",
        "    # Compute the output of each neuron in the layer given an input\n",
        "    outs = [n(x) for n in self.neurons]\n",
        "    # If there is only one output neuron, return it directly; otherwise, return a list of outputs\n",
        "    return outs[0] if len(outs) == 1 else outs\n",
        "  \n",
        "  def parameters(self):\n",
        "    # Return the parameters of all neurons in the layer\n",
        "    return [p for neuron in self.neurons for p in neuron.parameters()]\n",
        "  \n",
        "class MLP:\n",
        "\n",
        "  def __init__(self, nin, nouts):\n",
        "    # Create a multi-layer perceptron (MLP) with the specified number of input and output neurons for each layer\n",
        "    sz = [nin] + nouts\n",
        "    self.layers = [Layer(sz[i], sz[i+1]) for i in range(len(nouts))]\n",
        "\n",
        "  def __call__(self, x):\n",
        "    # Forward propagate the input through all layers of the MLP\n",
        "    for layer in self.layers:\n",
        "      x = layer(x)\n",
        "    # Return the final output of the MLP\n",
        "    return x\n",
        "\n",
        "  def parameters(self):\n",
        "    # Return the parameters of all layers in the MLP\n",
        "    return [p for layer in self.layers for p in layer.parameters()]"
      ],
      "metadata": {
        "id": "G8HuWjA8jmah"
      },
      "execution_count": 7,
      "outputs": []
    },
    {
      "cell_type": "code",
      "source": [
        "# Set the input values\n",
        "x = [2.0, 3.0, -1.0]\n",
        "\n",
        "# Create an MLP object with 3 input neurons, 3 hidden layers (each with 4 neurons), and 1 output neuron\n",
        "n = MLP(3, [4, 4, 1])\n",
        "\n",
        "# Call the MLP object with the input values\n",
        "# This triggers the __call__ method of the MLP class\n",
        "n(x)"
      ],
      "metadata": {
        "colab": {
          "base_uri": "https://localhost:8080/"
        },
        "id": "GNkdRcm6jpOq",
        "outputId": "5dbf1947-859e-4f70-8575-6a78de227e12"
      },
      "execution_count": 8,
      "outputs": [
        {
          "output_type": "execute_result",
          "data": {
            "text/plain": [
              "Value(data=-0.8182352550441813)"
            ]
          },
          "metadata": {},
          "execution_count": 8
        }
      ]
    },
    {
      "cell_type": "code",
      "source": [
        "# Set the input values for the training examples\n",
        "xs = [\n",
        "    [2.0, 3.0, -1.0],\n",
        "    [3.0, -1.0, 0.5],\n",
        "    [0.5, 1.0, 1.0],\n",
        "    [1.0, 1.0, -1.0],\n",
        "]\n",
        "\n",
        "# Set the desired target values for the training examples\n",
        "ys = [1.0, -1.0, -1.0, 1.0]\n",
        "\n",
        "# Training data:\n",
        "# xs[0] corresponds to ys[0]\n",
        "# xs[1] corresponds to ys[1]\n",
        "# xs[2] corresponds to ys[2]\n",
        "# xs[3] corresponds to ys[3]"
      ],
      "metadata": {
        "id": "IIlO_dCAlskf"
      },
      "execution_count": 9,
      "outputs": []
    },
    {
      "cell_type": "code",
      "source": [
        "for k in range(20):\n",
        "  \n",
        "    # Forward pass\n",
        "    ypred = [n(x) for x in xs]\n",
        "    loss = sum((yout - ygt) ** 2 for ygt, yout in zip(ys, ypred))\n",
        "\n",
        "    # Backward pass\n",
        "    for p in n.parameters():\n",
        "        p.grad = 0.0\n",
        "    \n",
        "    # Compute gradients using the backward method\n",
        "    loss.backward()\n",
        "\n",
        "    # Update weights\n",
        "    for p in n.parameters():\n",
        "        p.data += -0.5 * p.grad\n",
        "\n",
        "    print(k, loss.data)"
      ],
      "metadata": {
        "colab": {
          "base_uri": "https://localhost:8080/"
        },
        "id": "GTTbuq2MmIKt",
        "outputId": "0ef4c5f3-b79a-4c50-e5a7-d34384d89eee"
      },
      "execution_count": 10,
      "outputs": [
        {
          "output_type": "stream",
          "name": "stdout",
          "text": [
            "0 6.774324393397726\n",
            "1 7.097180111989978\n",
            "2 3.437510770354264\n",
            "3 1.1953121411817804\n",
            "4 3.6220546798043443\n",
            "5 3.382836312773876e-05\n",
            "6 3.378685954681871e-05\n",
            "7 3.374545658163506e-05\n",
            "8 3.3704153868068075e-05\n",
            "9 3.36629510437463e-05\n",
            "10 3.362184774804038e-05\n",
            "11 3.3580843622055636e-05\n",
            "12 3.3539938308612156e-05\n",
            "13 3.3499131452244345e-05\n",
            "14 3.345842269918504e-05\n",
            "15 3.34178116973574e-05\n",
            "16 3.337729809636433e-05\n",
            "17 3.333688154747849e-05\n",
            "18 3.329656170363331e-05\n",
            "19 3.325633821941066e-05\n"
          ]
        }
      ]
    },
    {
      "cell_type": "code",
      "source": [
        "# ypred = [n(x) for x in xs]\n",
        "ypred"
      ],
      "metadata": {
        "colab": {
          "base_uri": "https://localhost:8080/"
        },
        "id": "e5VyzOp_rJPi",
        "outputId": "b1fbbfce-7094-4da5-b53f-e98d8af07627"
      },
      "execution_count": 11,
      "outputs": [
        {
          "output_type": "execute_result",
          "data": {
            "text/plain": [
              "[Value(data=0.9999423861749476),\n",
              " Value(data=-0.9956554166840623),\n",
              " Value(data=-0.9962085292717932),\n",
              " Value(data=0.999951374959125)]"
            ]
          },
          "metadata": {},
          "execution_count": 11
        }
      ]
    }
  ]
}