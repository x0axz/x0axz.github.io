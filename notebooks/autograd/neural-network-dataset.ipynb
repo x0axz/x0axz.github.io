{
  "cells": [
    {
      "cell_type": "code",
      "execution_count": 9,
      "metadata": {
        "id": "IIlO_dCAlskf"
      },
      "outputs": [],
      "source": [
        "# Set the input values for the training examples\n",
        "xs = [\n",
        "    [2.0, 3.0, -1.0],\n",
        "    [3.0, -1.0, 0.5],\n",
        "    [0.5, 1.0, 1.0],\n",
        "    [1.0, 1.0, -1.0],\n",
        "]\n",
        "\n",
        "# Set the desired target values for the training examples\n",
        "ys = [1.0, -1.0, -1.0, 1.0]\n",
        "\n",
        "# Training data:\n",
        "# xs[0] corresponds to ys[0]\n",
        "# xs[1] corresponds to ys[1]\n",
        "# xs[2] corresponds to ys[2]\n",
        "# xs[3] corresponds to ys[3]"
      ]
    }
  ],
  "metadata": {
    "colab": {
      "provenance": []
    },
    "kernelspec": {
      "display_name": "Python 3",
      "name": "python3"
    },
    "language_info": {
      "name": "python"
    }
  },
  "nbformat": 4,
  "nbformat_minor": 0
}
