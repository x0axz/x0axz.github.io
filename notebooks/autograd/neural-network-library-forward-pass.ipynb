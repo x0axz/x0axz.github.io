{
  "cells": [
    {
      "cell_type": "code",
      "execution_count": 8,
      "metadata": {
        "colab": {
          "base_uri": "https://localhost:8080/"
        },
        "id": "GNkdRcm6jpOq",
        "outputId": "623bc71b-f00c-424f-c86b-4dcb2f5b3a93"
      },
      "outputs": [
        {
          "data": {
            "text/plain": [
              "Value(data=-0.3798868107884126)"
            ]
          },
          "execution_count": 8,
          "metadata": {},
          "output_type": "execute_result"
        }
      ],
      "source": [
        "# Set the input values\n",
        "x = [2.0, 3.0, -1.0]\n",
        "\n",
        "# Create an MLP object with 3 input neurons, 3 hidden layers (each with 4 neurons), and 1 output neuron\n",
        "n = MLP(3, [4, 4, 1])\n",
        "\n",
        "# Call the MLP object with the input values\n",
        "# This triggers the __call__ method of the MLP class\n",
        "n(x)"
      ]
    }
  ],
  "metadata": {
    "colab": {
      "provenance": []
    },
    "kernelspec": {
      "display_name": "Python 3",
      "name": "python3"
    },
    "language_info": {
      "name": "python"
    }
  },
  "nbformat": 4,
  "nbformat_minor": 0
}
